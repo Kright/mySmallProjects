{
 "cells": [
  {
   "cell_type": "code",
   "execution_count": 1,
   "outputs": [],
   "source": [
    "import time\n",
    "from typing import Optional, Tuple, List\n",
    "\n",
    "import matplotlib.pyplot as plt\n",
    "import numpy as np\n",
    "import torch\n",
    "import torch.nn as nn\n",
    "from torch.autograd import Variable\n",
    "from torch.utils.data import DataLoader"
   ],
   "metadata": {
    "collapsed": false,
    "ExecuteTime": {
     "end_time": "2023-04-07T20:58:45.518861456Z",
     "start_time": "2023-04-07T20:58:44.560273913Z"
    }
   }
  },
  {
   "cell_type": "code",
   "execution_count": 2,
   "outputs": [
    {
     "data": {
      "text/plain": "True"
     },
     "execution_count": 2,
     "metadata": {},
     "output_type": "execute_result"
    }
   ],
   "source": [
    "torch.cuda.is_available()"
   ],
   "metadata": {
    "collapsed": false,
    "ExecuteTime": {
     "end_time": "2023-04-07T20:58:45.567232494Z",
     "start_time": "2023-04-07T20:58:45.557307122Z"
    }
   }
  },
  {
   "cell_type": "code",
   "execution_count": 12,
   "outputs": [
    {
     "data": {
      "text/plain": "'1.13.1+cu117'"
     },
     "execution_count": 12,
     "metadata": {},
     "output_type": "execute_result"
    }
   ],
   "source": [
    "torch.__version__"
   ],
   "metadata": {
    "collapsed": false
   }
  },
  {
   "cell_type": "code",
   "execution_count": 3,
   "outputs": [],
   "source": [
    "from torchvision import datasets\n",
    "from torchvision.transforms import ToTensor\n",
    "\n",
    "train_data = datasets.MNIST(\n",
    "    root='../models/mnist',\n",
    "    train=True,\n",
    "    transform=ToTensor(),\n",
    "    download=True,\n",
    ")\n",
    "\n",
    "test_data = datasets.MNIST(\n",
    "    root='../models/mnist',\n",
    "    train=False,\n",
    "    transform=ToTensor(),\n",
    "    download=True,\n",
    ")"
   ],
   "metadata": {
    "collapsed": false,
    "ExecuteTime": {
     "end_time": "2023-04-07T21:00:11.141029078Z",
     "start_time": "2023-04-07T21:00:10.878262311Z"
    }
   }
  },
  {
   "cell_type": "code",
   "execution_count": 4,
   "outputs": [],
   "source": [
    "class TrainHelper:\n",
    "    @staticmethod\n",
    "    def train(cnn: nn.Module,\n",
    "              *,\n",
    "              epochs: int,\n",
    "              train_dataset: datasets.MNIST,\n",
    "              test_dataset: Optional[datasets.MNIST] = None,\n",
    "              print_results: bool = True,\n",
    "              batch_size: int,\n",
    "              device_name: str) -> List[float]:\n",
    "\n",
    "        train_loader = torch.utils.data.DataLoader(train_dataset,\n",
    "                                                   batch_size=batch_size,\n",
    "                                                   shuffle=True,\n",
    "                                                   num_workers=1)\n",
    "\n",
    "        device = torch.device(device_name)\n",
    "\n",
    "        cnn.to(device)\n",
    "        cnn.train()\n",
    "\n",
    "        optimizer = torch.optim.Adam(cnn.parameters(), lr=0.001)\n",
    "        loss_func = nn.CrossEntropyLoss()\n",
    "\n",
    "        eval_results: List[float] = []\n",
    "\n",
    "        for epoch in range(epochs):\n",
    "            for images, labels in train_loader:\n",
    "                images = Variable(images.to(device))\n",
    "                labels = Variable(labels.to(device))\n",
    "\n",
    "                output = cnn(images)\n",
    "                loss = loss_func(output, labels)\n",
    "\n",
    "                optimizer.zero_grad()\n",
    "                loss.backward()\n",
    "                optimizer.step()\n",
    "\n",
    "            if test_dataset is not None:\n",
    "                eval_result = TrainHelper.test(cnn, test_dataset, device)\n",
    "                eval_results.append(eval_result)\n",
    "                if print_results:\n",
    "                    print(f\"epoch {epoch}, accuracy = {eval_result}, loss = {loss.detach()}\")\n",
    "                cnn.train()\n",
    "\n",
    "        return eval_results\n",
    "\n",
    "    @staticmethod\n",
    "    def test(cnn: nn.Module, test_dataset: datasets.MNIST, device=None) -> float:\n",
    "        cnn.eval()\n",
    "        loader = torch.utils.data.DataLoader(test_dataset, batch_size=128, shuffle=False, num_workers=1)\n",
    "        correct = 0\n",
    "        incorrect = 0\n",
    "\n",
    "        for images, labels in loader:\n",
    "            if device is not None:\n",
    "                images = images.to(device)\n",
    "\n",
    "            results = cnn(images)\n",
    "            predictions = results.detach().cpu().numpy().argmax(axis=1)\n",
    "            oks = (predictions == labels.numpy()).sum()\n",
    "            correct += oks\n",
    "            incorrect += len(predictions) - oks\n",
    "\n",
    "        return correct / (correct + incorrect)\n",
    "\n",
    "    @staticmethod\n",
    "    def train_models(models: List[nn.Module], device_name: str) -> Tuple[int, float]:\n",
    "        \"\"\"\n",
    "        generator yields pair (trainable parameters count, best accuracy) for each network\n",
    "        :param device_name: 'cuda' or 'cpu'\n",
    "        \"\"\"\n",
    "        assert len(models) > 0\n",
    "\n",
    "        for model in models:\n",
    "            start = time.time()\n",
    "            eval_results = TrainHelper.train(\n",
    "                cnn=model,\n",
    "                epochs=20,\n",
    "                train_dataset=train_data,\n",
    "                test_dataset=test_data,\n",
    "                batch_size=2048,\n",
    "                device_name=device_name,\n",
    "                print_results=False\n",
    "            )\n",
    "            end = time.time()\n",
    "            best_acc = max(eval_results)\n",
    "            params_count = TrainHelper.total_parameters_count(model)\n",
    "            print(f\"best accuracy = {best_acc}, parameters = {params_count}, training time = {end - start}\")\n",
    "            yield params_count, best_acc\n",
    "\n",
    "    @staticmethod\n",
    "    def total_parameters_count(model: nn.Module) -> int:\n",
    "        return sum(np.prod(p.size()) for p in model.parameters())\n",
    "\n",
    "    @staticmethod\n",
    "    def print_parameters(model: nn.Module):\n",
    "        print(f\"total parameters = {TrainHelper.total_parameters_count(model)}\")\n",
    "        for p in model.parameters():\n",
    "            print(f\"size {np.prod(p.size())}: {p.size()}\")"
   ],
   "metadata": {
    "collapsed": false,
    "ExecuteTime": {
     "end_time": "2023-04-07T21:00:13.550440294Z",
     "start_time": "2023-04-07T21:00:13.528556683Z"
    }
   }
  },
  {
   "cell_type": "code",
   "execution_count": 8,
   "outputs": [],
   "source": [
    "class MyConvModel(nn.Module):\n",
    "    def __init__(self, channels: int):\n",
    "        super(MyConvModel, self).__init__()\n",
    "\n",
    "        c = channels\n",
    "        self.layers = nn.Sequential(\n",
    "            self.conv(1, c, kernel_size=3),         # 28 - 26\n",
    "            self.conv(c, c, kernel_size=3),         # 26 - 24\n",
    "            nn.MaxPool2d(2),                        # 24 - 12\n",
    "\n",
    "            self.conv(c, c * 2, kernel_size=3),     # 12 - 10\n",
    "            self.conv(c * 2, c * 2, kernel_size=3), # 10 - 8\n",
    "            nn.MaxPool2d(2),                        # 8 - 4\n",
    "\n",
    "            self.conv(c * 2, c * 4, kernel_size=3), # 4 - 2\n",
    "            self.conv(c * 4, c * 4, kernel_size=2), # 2 - 1\n",
    "\n",
    "            nn.Conv2d(c * 4, 10, kernel_size=1, padding='valid', bias=True),\n",
    "            nn.Flatten(),\n",
    "        )\n",
    "\n",
    "    def conv(self, in_ch: int, out_ch: int, *, kernel_size):\n",
    "        return nn.Sequential(\n",
    "            nn.Conv2d(in_ch, out_ch, kernel_size=kernel_size, padding='valid', bias=False),\n",
    "            nn.BatchNorm2d(out_ch),\n",
    "            nn.LeakyReLU(0.1),\n",
    "        )\n",
    "\n",
    "    def forward(self, x: torch.Tensor):\n",
    "        return self.layers(x)"
   ],
   "metadata": {
    "collapsed": false,
    "ExecuteTime": {
     "end_time": "2023-04-07T21:00:54.923457148Z",
     "start_time": "2023-04-07T21:00:54.905667029Z"
    }
   }
  },
  {
   "cell_type": "code",
   "execution_count": 9,
   "outputs": [],
   "source": [
    "results = []"
   ],
   "metadata": {
    "collapsed": false,
    "ExecuteTime": {
     "end_time": "2023-04-07T21:01:01.836310374Z",
     "start_time": "2023-04-07T21:01:01.803105701Z"
    }
   }
  },
  {
   "cell_type": "code",
   "execution_count": 10,
   "outputs": [
    {
     "name": "stdout",
     "output_type": "stream",
     "text": [
      "best accuracy = 0.9859, parameters = 3502, training time = 85.59752869606018\n",
      "best accuracy = 0.9916, parameters = 7636, training time = 83.71403670310974\n",
      "best accuracy = 0.9918, parameters = 13362, training time = 84.40341186523438\n",
      "best accuracy = 0.9933, parameters = 29590, training time = 85.25695300102234\n",
      "best accuracy = 0.9951, parameters = 52186, training time = 85.53233933448792\n",
      "best accuracy = 0.9947, parameters = 116482, training time = 85.77489805221558\n",
      "best accuracy = 0.9946, parameters = 206250, training time = 85.78431439399719\n",
      "best accuracy = 0.9956, parameters = 462202, training time = 87.11874127388\n",
      "best accuracy = 0.9956, parameters = 820042, training time = 94.52858090400696\n",
      "best accuracy = 0.9846, parameters = 3502, training time = 86.75645399093628\n",
      "best accuracy = 0.9898, parameters = 7636, training time = 86.39272165298462\n",
      "best accuracy = 0.9917, parameters = 13362, training time = 86.40437388420105\n",
      "best accuracy = 0.9947, parameters = 29590, training time = 86.88598656654358\n",
      "best accuracy = 0.9944, parameters = 52186, training time = 85.51271533966064\n",
      "best accuracy = 0.9943, parameters = 116482, training time = 84.78115630149841\n",
      "best accuracy = 0.9954, parameters = 206250, training time = 84.77376389503479\n",
      "best accuracy = 0.9951, parameters = 462202, training time = 85.73426103591919\n",
      "best accuracy = 0.9955, parameters = 820042, training time = 88.68496489524841\n",
      "best accuracy = 0.9863, parameters = 3502, training time = 83.27369403839111\n",
      "best accuracy = 0.9901, parameters = 7636, training time = 83.04037308692932\n",
      "best accuracy = 0.9929, parameters = 13362, training time = 82.73315000534058\n",
      "best accuracy = 0.9933, parameters = 29590, training time = 82.89203262329102\n",
      "best accuracy = 0.9941, parameters = 52186, training time = 82.87711095809937\n",
      "best accuracy = 0.9938, parameters = 116482, training time = 83.22665643692017\n",
      "best accuracy = 0.995, parameters = 206250, training time = 83.50148510932922\n",
      "best accuracy = 0.9955, parameters = 462202, training time = 84.38045310974121\n",
      "best accuracy = 0.9958, parameters = 820042, training time = 86.22323656082153\n",
      "best accuracy = 0.9853, parameters = 3502, training time = 83.16801810264587\n",
      "best accuracy = 0.9918, parameters = 7636, training time = 83.23859882354736\n",
      "best accuracy = 0.9929, parameters = 13362, training time = 83.02740454673767\n",
      "best accuracy = 0.9939, parameters = 29590, training time = 83.02029585838318\n",
      "best accuracy = 0.9941, parameters = 52186, training time = 82.96403741836548\n",
      "best accuracy = 0.9953, parameters = 116482, training time = 83.18451166152954\n",
      "best accuracy = 0.9953, parameters = 206250, training time = 83.51680040359497\n",
      "best accuracy = 0.9951, parameters = 462202, training time = 86.30294513702393\n",
      "best accuracy = 0.9954, parameters = 820042, training time = 94.50899195671082\n"
     ]
    }
   ],
   "source": [
    "device_name = 'cuda' if torch.cuda.is_available() else 'cpu'\n",
    "\n",
    "for i in range(4):\n",
    "    models = [MyConvModel(n) for n in [4, 6, 8, 12, 16, 24, 32, 48, 64]]\n",
    "    for pair in TrainHelper.train_models(models, device_name=device_name):\n",
    "        results.append(pair)"
   ],
   "metadata": {
    "collapsed": false,
    "ExecuteTime": {
     "end_time": "2023-04-07T21:52:17.808271916Z",
     "start_time": "2023-04-07T21:01:08.931635635Z"
    }
   }
  },
  {
   "cell_type": "code",
   "execution_count": 11,
   "outputs": [
    {
     "name": "stderr",
     "output_type": "stream",
     "text": [
      "No artists with labels found to put in legend.  Note that artists whose label start with an underscore are ignored when legend() is called with no argument.\n"
     ]
    },
    {
     "data": {
      "text/plain": "<Figure size 1200x1200 with 1 Axes>",
      "image/png": "[encoded data removed]"
     },
     "metadata": {},
     "output_type": "display_data"
    }
   ],
   "source": [
    "plt.rcParams['figure.figsize'] = [12, 12]\n",
    "fig, ax = plt.subplots()\n",
    "ax.set_xscale(\"log\")\n",
    "ax.set_ylim(0.97, 1)\n",
    "\n",
    "params_counts = [p[0] for p in results]\n",
    "accuracies = [p[1] for p in results]\n",
    "\n",
    "ax.scatter(params_counts, accuracies, c='red', alpha=0.5, marker=r'.')\n",
    "\n",
    "ax.legend()\n",
    "plt.show()"
   ],
   "metadata": {
    "collapsed": false,
    "ExecuteTime": {
     "end_time": "2023-04-07T21:52:18.195456399Z",
     "start_time": "2023-04-07T21:52:17.808096985Z"
    }
   }
  }
 ],
 "metadata": {
  "kernelspec": {
   "display_name": "Python 3",
   "language": "python",
   "name": "python3"
  },
  "language_info": {
   "codemirror_mode": {
    "name": "ipython",
    "version": 2
   },
   "file_extension": ".py",
   "mimetype": "text/x-python",
   "name": "python",
   "nbconvert_exporter": "python",
   "pygments_lexer": "ipython2",
   "version": "2.7.6"
  }
 },
 "nbformat": 4,
 "nbformat_minor": 0
}
