{
 "cells": [
  {
   "cell_type": "code",
   "execution_count": 1,
   "outputs": [],
   "source": [
    "import time\n",
    "from typing import Optional, Tuple, List\n",
    "\n",
    "\n",
    "import matplotlib.pyplot as plt\n",
    "import numpy as np\n",
    "import torch\n",
    "import torch.nn as nn\n",
    "import torch.nn.functional as F\n",
    "from torch.autograd import Variable\n",
    "from torch.utils.data import DataLoader"
   ],
   "metadata": {
    "collapsed": false,
    "ExecuteTime": {
     "end_time": "2023-04-08T00:42:04.269293214Z",
     "start_time": "2023-04-08T00:42:03.432289651Z"
    }
   }
  },
  {
   "cell_type": "code",
   "execution_count": 2,
   "outputs": [
    {
     "data": {
      "text/plain": "True"
     },
     "execution_count": 2,
     "metadata": {},
     "output_type": "execute_result"
    }
   ],
   "source": [
    "torch.cuda.is_available()"
   ],
   "metadata": {
    "collapsed": false,
    "ExecuteTime": {
     "end_time": "2023-04-08T00:42:04.313871325Z",
     "start_time": "2023-04-08T00:42:04.291445878Z"
    }
   }
  },
  {
   "cell_type": "code",
   "execution_count": 3,
   "outputs": [
    {
     "data": {
      "text/plain": "'1.13.1+cu117'"
     },
     "execution_count": 3,
     "metadata": {},
     "output_type": "execute_result"
    }
   ],
   "source": [
    "torch.__version__"
   ],
   "metadata": {
    "collapsed": false,
    "ExecuteTime": {
     "end_time": "2023-04-08T00:42:04.314796544Z",
     "start_time": "2023-04-08T00:42:04.296876631Z"
    }
   }
  },
  {
   "cell_type": "code",
   "execution_count": 4,
   "outputs": [],
   "source": [
    "from torchvision import datasets\n",
    "from torchvision.transforms import ToTensor\n",
    "\n",
    "train_data = datasets.MNIST(\n",
    "    root='../models/mnist',\n",
    "    train=True,\n",
    "    transform=ToTensor(),\n",
    "    download=True,\n",
    ")\n",
    "\n",
    "test_data = datasets.MNIST(\n",
    "    root='../models/mnist',\n",
    "    train=False,\n",
    "    transform=ToTensor(),\n",
    "    download=True,\n",
    ")"
   ],
   "metadata": {
    "collapsed": false,
    "ExecuteTime": {
     "end_time": "2023-04-08T00:42:04.488404098Z",
     "start_time": "2023-04-08T00:42:04.302008780Z"
    }
   }
  },
  {
   "cell_type": "code",
   "execution_count": 5,
   "outputs": [],
   "source": [
    "class TrainHelper:\n",
    "    @staticmethod\n",
    "    def train(cnn: nn.Module,\n",
    "              *,\n",
    "              lr: float,\n",
    "              epochs: int,\n",
    "              train_dataset: datasets.MNIST,\n",
    "              test_dataset: Optional[datasets.MNIST] = None,\n",
    "              print_results: bool = True,\n",
    "              batch_size: int,\n",
    "              device_name: str) -> List[float]:\n",
    "\n",
    "        train_loader = torch.utils.data.DataLoader(train_dataset,\n",
    "                                                   batch_size=batch_size,\n",
    "                                                   shuffle=True,\n",
    "                                                   num_workers=1)\n",
    "\n",
    "        device = torch.device(device_name)\n",
    "\n",
    "        cnn.to(device)\n",
    "        cnn.train()\n",
    "\n",
    "        optimizer = torch.optim.Adam(cnn.parameters(), lr=lr)\n",
    "        loss_func = nn.CrossEntropyLoss()\n",
    "\n",
    "        eval_results: List[float] = []\n",
    "\n",
    "        for epoch in range(epochs):\n",
    "            for images, labels in train_loader:\n",
    "                images = Variable(images.to(device))\n",
    "                labels = Variable(labels.to(device))\n",
    "\n",
    "                output = cnn(images)\n",
    "                loss = loss_func(output, labels)\n",
    "\n",
    "                optimizer.zero_grad()\n",
    "                loss.backward()\n",
    "                optimizer.step()\n",
    "\n",
    "            if test_dataset is not None:\n",
    "                eval_result = TrainHelper.test(cnn, test_dataset, device)\n",
    "                eval_results.append(eval_result)\n",
    "                if print_results:\n",
    "                    print(f\"epoch {epoch}, accuracy = {eval_result}, loss = {loss.detach()}\")\n",
    "                cnn.train()\n",
    "\n",
    "        return eval_results\n",
    "\n",
    "    @staticmethod\n",
    "    def test(cnn: nn.Module, test_dataset: datasets.MNIST, device=None) -> float:\n",
    "        cnn.eval()\n",
    "        loader = torch.utils.data.DataLoader(test_dataset, batch_size=128, shuffle=False, num_workers=1)\n",
    "        correct = 0\n",
    "        incorrect = 0\n",
    "\n",
    "        for images, labels in loader:\n",
    "            if device is not None:\n",
    "                images = images.to(device)\n",
    "\n",
    "            results = cnn(images)\n",
    "            predictions = results.detach().cpu().numpy().argmax(axis=1)\n",
    "            oks = (predictions == labels.numpy()).sum()\n",
    "            correct += oks\n",
    "            incorrect += len(predictions) - oks\n",
    "\n",
    "        return correct / (correct + incorrect)\n",
    "\n",
    "    @staticmethod\n",
    "    def train_models(models: List[nn.Module], device_name: str, batch_size: int, lr: float) -> Tuple[int, float]:\n",
    "        \"\"\"\n",
    "        generator yields pair (trainable parameters count, best accuracy) for each network\n",
    "        :param device_name: 'cuda' or 'cpu'\n",
    "        \"\"\"\n",
    "        assert len(models) > 0\n",
    "\n",
    "        for model in models:\n",
    "            start = time.time()\n",
    "            eval_results = TrainHelper.train(\n",
    "                lr=lr,\n",
    "                cnn=model,\n",
    "                epochs=20,\n",
    "                train_dataset=train_data,\n",
    "                test_dataset=test_data,\n",
    "                batch_size=batch_size,\n",
    "                device_name=device_name,\n",
    "                print_results=False\n",
    "            )\n",
    "            end = time.time()\n",
    "            best_acc = max(eval_results)\n",
    "            params_count = TrainHelper.total_parameters_count(model)\n",
    "            print(f\"best accuracy = {best_acc}, parameters = {params_count}, training time = {end - start}\")\n",
    "            yield params_count, best_acc\n",
    "\n",
    "    @staticmethod\n",
    "    def total_parameters_count(model: nn.Module) -> int:\n",
    "        return sum(np.prod(p.size()) for p in model.parameters())\n",
    "\n",
    "    @staticmethod\n",
    "    def print_parameters(model: nn.Module):\n",
    "        print(f\"total parameters = {TrainHelper.total_parameters_count(model)}\")\n",
    "        for p in model.parameters():\n",
    "            print(f\"size {np.prod(p.size())}: {p.size()}\")"
   ],
   "metadata": {
    "collapsed": false,
    "ExecuteTime": {
     "end_time": "2023-04-08T00:42:04.544788622Z",
     "start_time": "2023-04-08T00:42:04.496871510Z"
    }
   }
  },
  {
   "cell_type": "code",
   "execution_count": 6,
   "outputs": [],
   "source": [
    "class MyTransformer(nn.Module):\n",
    "    def __init__(self, ch: int, kq_ch: int, img_size: int, ff_ch: int):\n",
    "        super(MyTransformer, self).__init__()\n",
    "\n",
    "        self.attention = MyAttention3x3(in_ch=ch, kq_ch=kq_ch, out_ch=ch, img_size=img_size)\n",
    "\n",
    "        self.norm1 = nn.BatchNorm2d(ch)\n",
    "        self.norm2 = nn.BatchNorm2d(ch)\n",
    "\n",
    "        self.ff = nn.Sequential(\n",
    "            nn.Conv2d(ch, ff_ch, kernel_size=1, bias=True),\n",
    "            nn.LeakyReLU(0.1),\n",
    "            nn.Conv2d(ff_ch, ch, kernel_size=1, bias=True),\n",
    "        )\n",
    "\n",
    "    def forward(self, x):\n",
    "        x = self.norm1(self.attention(x) + x[:, :, 1:-1, 1:-1])\n",
    "        x = self.norm2(self.ff(x) + x)\n",
    "        return x"
   ],
   "metadata": {
    "collapsed": false,
    "ExecuteTime": {
     "end_time": "2023-04-08T00:42:04.545143196Z",
     "start_time": "2023-04-08T00:42:04.544638731Z"
    }
   }
  },
  {
   "cell_type": "code",
   "execution_count": 7,
   "outputs": [],
   "source": [
    "class MyAttention3x3(nn.Module):\n",
    "    def __init__(self, in_ch: int, kq_ch: int, out_ch: int, img_size: int):\n",
    "        super(MyAttention3x3, self).__init__()\n",
    "\n",
    "        self.in_ch: int = in_ch\n",
    "        self.out_ch: int = out_ch\n",
    "        self.img_size: int = img_size\n",
    "\n",
    "        # size = [b_s, ch, h, w]\n",
    "        self.to_key = nn.Conv2d(in_ch, kq_ch, kernel_size=1, bias=False)\n",
    "        self.to_query = nn.Conv2d(in_ch, kq_ch, kernel_size=1, bias=False)\n",
    "        self.to_value = nn.Conv2d(in_ch, out_ch, kernel_size=1, bias=False)\n",
    "\n",
    "        self.key_pos_embedding = nn.Parameter(torch.zeros(size=(1, 1, kq_ch)))\n",
    "        self.query_pos_embedding = nn.Parameter(torch.zeros(size=(1, 9, kq_ch)))\n",
    "        self.value_pos_embedding = nn.Parameter(torch.zeros(size=(1, 9, out_ch)))\n",
    "\n",
    "    def repack_img(self, img: torch.Tensor):\n",
    "        batch_size, channels, height, width = img.size()\n",
    "        assert width == self.img_size\n",
    "        assert height == self.img_size\n",
    "\n",
    "        img = img.view(batch_size, channels, height, width, 1)\n",
    "\n",
    "        new_w = width - 2\n",
    "        new_h = height - 2\n",
    "\n",
    "        img = torch.cat([img[:, :, :, i: new_w + i] for i in range(3)], dim=4)\n",
    "        img = torch.cat([img[:, :, i: new_h + i] for i in range(3)], dim=4)\n",
    "        assert img.size() == (batch_size, channels, new_h, new_w, 9)\n",
    "\n",
    "        img = torch.moveaxis(img, 1, 4)\n",
    "        assert img.size() == (batch_size, new_h, new_w, 9, channels)\n",
    "\n",
    "        img = img.reshape(batch_size * new_h * new_w, 9, channels)\n",
    "        return img\n",
    "\n",
    "    def forward(self, x):\n",
    "        batch_size, channels, height, width = x.size()\n",
    "\n",
    "        key = self.to_key(x)\n",
    "        query = self.to_query(x)\n",
    "        value = self.to_value(x)\n",
    "\n",
    "        packed_key = self.repack_img(key)[:, 4:5] + self.key_pos_embedding\n",
    "        # b, 1, ch\n",
    "        packed_query = self.repack_img(query) + self.query_pos_embedding\n",
    "        # b, 9, ch\n",
    "        packed_value = self.repack_img(value) + self.value_pos_embedding\n",
    "        # b, 9, out_ch\n",
    "\n",
    "        dots = torch.bmm(packed_key, torch.moveaxis(packed_query, 1, 2))\n",
    "        assert dots.size() == (batch_size * (height - 2) * (width - 2), 1, 9)\n",
    "\n",
    "        weights = F.softmax(dots / 3.0, dim=2)\n",
    "        # b, 1, 9\n",
    "\n",
    "        out = torch.bmm(weights, packed_value)\n",
    "        assert out.size() == (batch_size * (height - 2) * (width - 2), 1, self.out_ch)\n",
    "        # b, 1, ch\n",
    "\n",
    "        out = out.reshape(batch_size, height - 2, width - 2, self.out_ch)\n",
    "        out = torch.moveaxis(out, 3, 1)\n",
    "\n",
    "        return out\n"
   ],
   "metadata": {
    "collapsed": false,
    "ExecuteTime": {
     "end_time": "2023-04-08T00:42:04.545446069Z",
     "start_time": "2023-04-08T00:42:04.545220087Z"
    }
   }
  },
  {
   "cell_type": "code",
   "execution_count": 8,
   "outputs": [],
   "source": [
    "class MyConvT3(nn.Module):\n",
    "    def __init__(self, channels: int):\n",
    "        super(MyConvT3, self).__init__()\n",
    "\n",
    "        c = channels\n",
    "        self.layers = nn.Sequential(\n",
    "            nn.Conv2d(1, c, kernel_size=1, padding=\"valid\", bias=False),  # 28\n",
    "            MyTransformer(c, c, 28, c * 2),  # 26\n",
    "            MyTransformer(c, c, 26, c * 2),  # 24\n",
    "            nn.MaxPool2d(2),  # 12\n",
    "\n",
    "            nn.Conv2d(c, c * 2, kernel_size=1, padding=\"valid\", bias=False),  # 12\n",
    "            MyTransformer(c * 2, c * 2, 12, c * 4),  # 10\n",
    "            MyTransformer(c * 2, c * 2, 10, c * 4),  # 8\n",
    "            nn.MaxPool2d(2),  # 4\n",
    "\n",
    "            MyTransformer(c * 2, c * 4, 4, c * 8),  # 2\n",
    "            nn.Conv2d(c * 2, c * 4, kernel_size=2, padding=\"valid\", bias=False),  # 1\n",
    "            nn.BatchNorm2d(c * 4),\n",
    "            nn.LeakyReLU(0.1),\n",
    "\n",
    "            nn.Conv2d(c * 4, 10, kernel_size=1),  # 1\n",
    "            nn.Flatten(),\n",
    "        )\n",
    "\n",
    "    def conv(self, in_ch: int, out_ch: int, *, kernel_size):\n",
    "        return nn.Sequential(\n",
    "            nn.Conv2d(in_ch, out_ch, kernel_size=kernel_size, padding='valid', bias=False),\n",
    "            nn.BatchNorm2d(out_ch),\n",
    "            nn.LeakyReLU(0.1),\n",
    "        )\n",
    "\n",
    "    def forward(self, x: torch.Tensor):\n",
    "        return self.layers(x)"
   ],
   "metadata": {
    "collapsed": false,
    "ExecuteTime": {
     "end_time": "2023-04-08T00:42:04.545651401Z",
     "start_time": "2023-04-08T00:42:04.545407948Z"
    }
   }
  },
  {
   "cell_type": "code",
   "execution_count": 9,
   "outputs": [],
   "source": [
    "results = []"
   ],
   "metadata": {
    "collapsed": false,
    "ExecuteTime": {
     "end_time": "2023-04-08T00:42:04.545851373Z",
     "start_time": "2023-04-08T00:42:04.545570140Z"
    }
   }
  },
  {
   "cell_type": "code",
   "execution_count": 10,
   "outputs": [
    {
     "name": "stdout",
     "output_type": "stream",
     "text": [
      "best accuracy = 0.9888, parameters = 656970, training time = 1624.5554239749908\n",
      "best accuracy = 0.9882, parameters = 372922, training time = 1224.6352667808533\n",
      "best accuracy = 0.9878, parameters = 168746, training time = 791.2550809383392\n",
      "best accuracy = 0.9871, parameters = 96610, training time = 602.2606484889984\n",
      "best accuracy = 0.9849, parameters = 44442, training time = 417.74336218833923\n",
      "best accuracy = 0.9806, parameters = 25846, training time = 328.79275131225586\n",
      "best accuracy = 0.9788, parameters = 12242, training time = 240.84047985076904\n",
      "best accuracy = 0.9726, parameters = 7312, training time = 214.0488588809967\n",
      "best accuracy = 0.9506, parameters = 3630, training time = 202.0142846107483\n",
      "best accuracy = 0.975, parameters = 656970, training time = 1561.9381036758423\n",
      "best accuracy = 0.9876, parameters = 372922, training time = 1215.6311104297638\n",
      "best accuracy = 0.9885, parameters = 168746, training time = 792.5143005847931\n",
      "best accuracy = 0.9859, parameters = 96610, training time = 603.4718599319458\n",
      "best accuracy = 0.9873, parameters = 44442, training time = 418.5787422657013\n",
      "best accuracy = 0.9824, parameters = 25846, training time = 329.5578074455261\n",
      "best accuracy = 0.9832, parameters = 12242, training time = 241.08507823944092\n",
      "best accuracy = 0.9748, parameters = 7312, training time = 213.76242852210999\n",
      "best accuracy = 0.9568, parameters = 3630, training time = 198.38165712356567\n",
      "best accuracy = 0.9871, parameters = 656970, training time = 1562.153974056244\n",
      "best accuracy = 0.989, parameters = 372922, training time = 1215.7418944835663\n",
      "best accuracy = 0.9884, parameters = 168746, training time = 792.7068350315094\n",
      "best accuracy = 0.9872, parameters = 96610, training time = 603.4844679832458\n",
      "best accuracy = 0.9887, parameters = 44442, training time = 418.63570857048035\n",
      "best accuracy = 0.9798, parameters = 25846, training time = 329.5835928916931\n",
      "best accuracy = 0.9774, parameters = 12242, training time = 241.22147512435913\n",
      "best accuracy = 0.9735, parameters = 7312, training time = 213.25916123390198\n",
      "best accuracy = 0.9603, parameters = 3630, training time = 196.26041293144226\n",
      "best accuracy = 0.9877, parameters = 656970, training time = 1562.5008709430695\n",
      "best accuracy = 0.9847, parameters = 372922, training time = 1215.7046604156494\n",
      "best accuracy = 0.9866, parameters = 168746, training time = 792.7513463497162\n",
      "best accuracy = 0.9865, parameters = 96610, training time = 603.4108619689941\n",
      "best accuracy = 0.984, parameters = 44442, training time = 418.65677523612976\n",
      "best accuracy = 0.9855, parameters = 25846, training time = 329.49678897857666\n",
      "best accuracy = 0.9794, parameters = 12242, training time = 241.12316751480103\n",
      "best accuracy = 0.9714, parameters = 7312, training time = 211.95017552375793\n",
      "best accuracy = 0.9664, parameters = 3630, training time = 199.2095444202423\n"
     ]
    }
   ],
   "source": [
    "device_name = 'cuda' if torch.cuda.is_available() else 'cpu'\n",
    "\n",
    "for i in range(4):\n",
    "    models = [MyConvT3(n) for n in reversed([4, 6, 8, 12, 16, 24, 32, 48, 64])]\n",
    "    for pair in TrainHelper.train_models(models, device_name=device_name, batch_size=256, lr=0.0003):\n",
    "        results.append(pair)"
   ],
   "metadata": {
    "collapsed": false,
    "ExecuteTime": {
     "end_time": "2023-04-08T06:54:53.660172598Z",
     "start_time": "2023-04-08T00:42:04.545951974Z"
    }
   }
  },
  {
   "cell_type": "code",
   "execution_count": 11,
   "outputs": [
    {
     "name": "stderr",
     "output_type": "stream",
     "text": [
      "No artists with labels found to put in legend.  Note that artists whose label start with an underscore are ignored when legend() is called with no argument.\n"
     ]
    },
    {
     "data": {
      "text/plain": "<Figure size 1200x1200 with 1 Axes>",
      "image/png": "[encoded data removed]"
     },
     "metadata": {},
     "output_type": "display_data"
    }
   ],
   "source": [
    "plt.rcParams['figure.figsize'] = [12, 12]\n",
    "fig, ax = plt.subplots()\n",
    "ax.set_xscale(\"log\")\n",
    "ax.set_ylim(0.97, 1)\n",
    "\n",
    "params_counts = [p[0] for p in results]\n",
    "accuracies = [p[1] for p in results]\n",
    "\n",
    "ax.scatter(params_counts, accuracies, c='red', alpha=0.5, marker=r'.')\n",
    "\n",
    "ax.legend()\n",
    "plt.show()"
   ],
   "metadata": {
    "collapsed": false,
    "ExecuteTime": {
     "end_time": "2023-04-08T06:54:54.093547457Z",
     "start_time": "2023-04-08T06:54:53.659649829Z"
    }
   }
  }
 ],
 "metadata": {
  "kernelspec": {
   "display_name": "Python 3",
   "language": "python",
   "name": "python3"
  },
  "language_info": {
   "codemirror_mode": {
    "name": "ipython",
    "version": 2
   },
   "file_extension": ".py",
   "mimetype": "text/x-python",
   "name": "python",
   "nbconvert_exporter": "python",
   "pygments_lexer": "ipython2",
   "version": "2.7.6"
  }
 },
 "nbformat": 4,
 "nbformat_minor": 0
}
