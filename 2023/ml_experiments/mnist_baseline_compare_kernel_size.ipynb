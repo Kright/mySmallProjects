{
 "cells": [
  {
   "cell_type": "code",
   "execution_count": 9,
   "metadata": {
    "ExecuteTime": {
     "start_time": "2023-04-12T00:40:21.656014Z",
     "end_time": "2023-04-12T00:40:21.745317Z"
    }
   },
   "outputs": [],
   "source": [
    "import time\n",
    "from typing import Optional, Tuple, List\n",
    "\n",
    "import matplotlib.pyplot as plt\n",
    "import numpy as np\n",
    "import torch\n",
    "import torch.nn as nn\n",
    "from torch.autograd import Variable\n",
    "from torch.utils.data import DataLoader"
   ]
  },
  {
   "cell_type": "code",
   "execution_count": 10,
   "metadata": {
    "ExecuteTime": {
     "start_time": "2023-04-12T00:40:21.701493Z",
     "end_time": "2023-04-12T00:40:21.756333Z"
    }
   },
   "outputs": [
    {
     "data": {
      "text/plain": "True"
     },
     "execution_count": 10,
     "metadata": {},
     "output_type": "execute_result"
    }
   ],
   "source": [
    "torch.cuda.is_available()"
   ]
  },
  {
   "cell_type": "code",
   "execution_count": 11,
   "metadata": {
    "ExecuteTime": {
     "start_time": "2023-04-12T00:40:21.701745Z",
     "end_time": "2023-04-12T00:40:21.756783Z"
    }
   },
   "outputs": [
    {
     "data": {
      "text/plain": "'1.13.1+cu117'"
     },
     "execution_count": 11,
     "metadata": {},
     "output_type": "execute_result"
    }
   ],
   "source": [
    "torch.__version__"
   ]
  },
  {
   "cell_type": "code",
   "execution_count": 12,
   "metadata": {
    "ExecuteTime": {
     "start_time": "2023-04-12T00:40:21.701979Z",
     "end_time": "2023-04-12T00:40:21.757067Z"
    }
   },
   "outputs": [],
   "source": [
    "from torchvision import datasets\n",
    "from torchvision.transforms import ToTensor\n",
    "\n",
    "train_data = datasets.MNIST(\n",
    "    root='../models/mnist',\n",
    "    train=True,\n",
    "    transform=ToTensor(),\n",
    "    download=True,\n",
    ")\n",
    "\n",
    "test_data = datasets.MNIST(\n",
    "    root='../models/mnist',\n",
    "    train=False,\n",
    "    transform=ToTensor(),\n",
    "    download=True,\n",
    ")"
   ]
  },
  {
   "cell_type": "code",
   "execution_count": 13,
   "metadata": {
    "ExecuteTime": {
     "start_time": "2023-04-12T00:40:21.718854Z",
     "end_time": "2023-04-12T00:40:21.779652Z"
    }
   },
   "outputs": [],
   "source": [
    "class TrainHelper:\n",
    "    @staticmethod\n",
    "    def train(cnn: nn.Module,\n",
    "              *,\n",
    "              epochs: int,\n",
    "              train_dataset: datasets.MNIST,\n",
    "              test_dataset: Optional[datasets.MNIST] = None,\n",
    "              print_results: bool = True,\n",
    "              batch_size: int,\n",
    "              device_name: str) -> List[float]:\n",
    "\n",
    "        train_loader = torch.utils.data.DataLoader(train_dataset,\n",
    "                                                   batch_size=batch_size,\n",
    "                                                   shuffle=True,\n",
    "                                                   num_workers=1)\n",
    "\n",
    "        device = torch.device(device_name)\n",
    "\n",
    "        cnn.to(device)\n",
    "        cnn.train()\n",
    "\n",
    "        optimizer = torch.optim.Adam(cnn.parameters(), lr=0.001)\n",
    "        loss_func = nn.CrossEntropyLoss()\n",
    "\n",
    "        eval_results: List[float] = []\n",
    "\n",
    "        for epoch in range(epochs):\n",
    "            for images, labels in train_loader:\n",
    "                images = Variable(images.to(device))\n",
    "                labels = Variable(labels.to(device))\n",
    "\n",
    "                output = cnn(images)\n",
    "                loss = loss_func(output, labels)\n",
    "\n",
    "                optimizer.zero_grad()\n",
    "                loss.backward()\n",
    "                optimizer.step()\n",
    "\n",
    "            if test_dataset is not None:\n",
    "                eval_result = TrainHelper.test(cnn, test_dataset, device)\n",
    "                eval_results.append(eval_result)\n",
    "                if print_results:\n",
    "                    print(f\"epoch {epoch}, accuracy = {eval_result}, loss = {loss.detach()}\")\n",
    "                cnn.train()\n",
    "\n",
    "        return eval_results\n",
    "\n",
    "    @staticmethod\n",
    "    def test(cnn: nn.Module, test_dataset: datasets.MNIST, device=None) -> float:\n",
    "        cnn.eval()\n",
    "        loader = torch.utils.data.DataLoader(test_dataset, batch_size=128, shuffle=False, num_workers=1)\n",
    "        correct = 0\n",
    "        incorrect = 0\n",
    "\n",
    "        for images, labels in loader:\n",
    "            if device is not None:\n",
    "                images = images.to(device)\n",
    "\n",
    "            results = cnn(images)\n",
    "            predictions = results.detach().cpu().numpy().argmax(axis=1)\n",
    "            oks = (predictions == labels.numpy()).sum()\n",
    "            correct += oks\n",
    "            incorrect += len(predictions) - oks\n",
    "\n",
    "        return correct / (correct + incorrect)\n",
    "\n",
    "    @staticmethod\n",
    "    def train_models(models: List[nn.Module], device_name: str) -> Tuple[int, float]:\n",
    "        \"\"\"\n",
    "        generator yields pair (trainable parameters count, best accuracy) for each network\n",
    "        :param device_name: 'cuda' or 'cpu'\n",
    "        \"\"\"\n",
    "        assert len(models) > 0\n",
    "\n",
    "        for model in models:\n",
    "            start = time.time()\n",
    "            eval_results = TrainHelper.train(\n",
    "                cnn=model,\n",
    "                epochs=20,\n",
    "                train_dataset=train_data,\n",
    "                test_dataset=test_data,\n",
    "                batch_size=512,\n",
    "                device_name=device_name,\n",
    "                print_results=False\n",
    "            )\n",
    "            end = time.time()\n",
    "            best_acc = max(eval_results)\n",
    "            params_count = TrainHelper.total_parameters_count(model)\n",
    "            print(f\"best accuracy = {best_acc}, parameters = {params_count}, training time = {end - start}\")\n",
    "            yield params_count, best_acc\n",
    "\n",
    "    @staticmethod\n",
    "    def total_parameters_count(model: nn.Module) -> int:\n",
    "        return sum(np.prod(p.size()) for p in model.parameters())\n",
    "\n",
    "    @staticmethod\n",
    "    def print_parameters(model: nn.Module):\n",
    "        print(f\"total parameters = {TrainHelper.total_parameters_count(model)}\")\n",
    "        for p in model.parameters():\n",
    "            print(f\"size {np.prod(p.size())}: {p.size()}\")"
   ]
  },
  {
   "cell_type": "code",
   "execution_count": 14,
   "metadata": {
    "ExecuteTime": {
     "start_time": "2023-04-12T00:40:21.761635Z",
     "end_time": "2023-04-12T00:40:21.780552Z"
    }
   },
   "outputs": [],
   "source": [
    "class MyConvModel(nn.Module):\n",
    "    def __init__(self, channels: int, extra_pad: int):\n",
    "        super(MyConvModel, self).__init__()\n",
    "\n",
    "        c = channels\n",
    "        self.layers = nn.Sequential(\n",
    "            self.conv(1, c, kernel_size=3, extra_pad=0),         # 28 - 26\n",
    "            self.conv(c, c, kernel_size=3, extra_pad=extra_pad),         # 26 - 24\n",
    "            nn.MaxPool2d(2),                        # 24 - 12\n",
    "\n",
    "            self.conv(c, c * 2, kernel_size=3, extra_pad=extra_pad),     # 12 - 10\n",
    "            self.conv(c * 2, c * 2, kernel_size=3, extra_pad=extra_pad), # 10 - 8\n",
    "            nn.MaxPool2d(2),                        # 8 - 4\n",
    "\n",
    "            self.conv(c * 2, c * 4, kernel_size=3, extra_pad=extra_pad), # 4 - 2\n",
    "            self.conv(c * 4, c * 4, kernel_size=2, extra_pad=extra_pad), # 2 - 1\n",
    "\n",
    "            nn.Conv2d(c * 4, 10, kernel_size=1, padding='valid', bias=True),\n",
    "            nn.Flatten(),\n",
    "        )\n",
    "\n",
    "    def conv(self, in_ch: int, out_ch: int, *, kernel_size: int, extra_pad:int):\n",
    "        layers = []\n",
    "        if extra_pad != 0:\n",
    "            layers.append(nn.ConstantPad2d(extra_pad, value=0.0))\n",
    "\n",
    "        layers += [\n",
    "            nn.Conv2d(in_ch, out_ch, kernel_size=kernel_size + 2 * extra_pad, padding='valid', bias=False),\n",
    "            nn.BatchNorm2d(out_ch),\n",
    "            nn.LeakyReLU(0.1)\n",
    "        ]\n",
    "        return nn.Sequential(*layers)\n",
    "\n",
    "    def forward(self, x: torch.Tensor):\n",
    "        return self.layers(x)"
   ]
  },
  {
   "cell_type": "code",
   "execution_count": 15,
   "metadata": {
    "ExecuteTime": {
     "start_time": "2023-04-12T00:40:21.761858Z",
     "end_time": "2023-04-12T00:40:21.780758Z"
    }
   },
   "outputs": [],
   "source": [
    "results = {\n",
    "    0: [],\n",
    "    1: [],\n",
    "}"
   ]
  },
  {
   "cell_type": "code",
   "execution_count": 16,
   "metadata": {
    "ExecuteTime": {
     "start_time": "2023-04-12T00:40:21.762124Z",
     "end_time": "2023-04-12T02:33:01.673305Z"
    }
   },
   "outputs": [
    {
     "name": "stdout",
     "output_type": "stream",
     "text": [
      "best accuracy = 0.9898, parameters = 10414, training time = 87.40611052513123\n",
      "best accuracy = 0.9929, parameters = 23188, training time = 86.44575691223145\n",
      "best accuracy = 0.9931, parameters = 41010, training time = 89.15504574775696\n",
      "best accuracy = 0.9955, parameters = 91798, training time = 88.98713803291321\n",
      "best accuracy = 0.9949, parameters = 162778, training time = 88.56385707855225\n",
      "best accuracy = 0.9949, parameters = 365314, training time = 90.71823596954346\n",
      "best accuracy = 0.9948, parameters = 648618, training time = 90.01146054267883\n",
      "best accuracy = 0.9946, parameters = 1457530, training time = 139.1360478401184\n",
      "best accuracy = 0.9958, parameters = 2589514, training time = 172.93099904060364\n",
      "best accuracy = 0.9889, parameters = 3502, training time = 89.7176923751831\n",
      "best accuracy = 0.9917, parameters = 7636, training time = 89.46572875976562\n",
      "best accuracy = 0.9922, parameters = 13362, training time = 89.75597500801086\n",
      "best accuracy = 0.9946, parameters = 29590, training time = 89.40728306770325\n",
      "best accuracy = 0.9943, parameters = 52186, training time = 88.88415694236755\n",
      "best accuracy = 0.9952, parameters = 116482, training time = 88.90376830101013\n",
      "best accuracy = 0.9942, parameters = 206250, training time = 90.13284802436829\n",
      "best accuracy = 0.995, parameters = 462202, training time = 87.4525203704834\n",
      "best accuracy = 0.9946, parameters = 820042, training time = 88.73751330375671\n",
      "best accuracy = 0.9905, parameters = 10414, training time = 89.5002920627594\n",
      "best accuracy = 0.9925, parameters = 23188, training time = 90.09630393981934\n",
      "best accuracy = 0.9939, parameters = 41010, training time = 90.83116126060486\n",
      "best accuracy = 0.9939, parameters = 91798, training time = 93.34884667396545\n",
      "best accuracy = 0.9937, parameters = 162778, training time = 92.24877071380615\n",
      "best accuracy = 0.9961, parameters = 365314, training time = 87.38691878318787\n",
      "best accuracy = 0.9948, parameters = 648618, training time = 86.88313794136047\n",
      "best accuracy = 0.9942, parameters = 1457530, training time = 130.71094965934753\n",
      "best accuracy = 0.9947, parameters = 2589514, training time = 166.2722945213318\n",
      "best accuracy = 0.9899, parameters = 3502, training time = 86.35363388061523\n",
      "best accuracy = 0.9912, parameters = 7636, training time = 85.82626080513\n",
      "best accuracy = 0.9926, parameters = 13362, training time = 85.51903462409973\n",
      "best accuracy = 0.9944, parameters = 29590, training time = 85.26682734489441\n",
      "best accuracy = 0.9945, parameters = 52186, training time = 85.50702619552612\n",
      "best accuracy = 0.9947, parameters = 116482, training time = 85.7329843044281\n",
      "best accuracy = 0.9946, parameters = 206250, training time = 86.21227025985718\n",
      "best accuracy = 0.9957, parameters = 462202, training time = 86.26359438896179\n",
      "best accuracy = 0.9951, parameters = 820042, training time = 87.92913508415222\n",
      "best accuracy = 0.9899, parameters = 10414, training time = 86.19503402709961\n",
      "best accuracy = 0.992, parameters = 23188, training time = 85.8004937171936\n",
      "best accuracy = 0.9934, parameters = 41010, training time = 85.53872847557068\n",
      "best accuracy = 0.9943, parameters = 91798, training time = 85.78145933151245\n",
      "best accuracy = 0.9956, parameters = 162778, training time = 85.79349184036255\n",
      "best accuracy = 0.9955, parameters = 365314, training time = 86.32555365562439\n",
      "best accuracy = 0.9944, parameters = 648618, training time = 86.42215418815613\n",
      "best accuracy = 0.9958, parameters = 1457530, training time = 128.09447193145752\n",
      "best accuracy = 0.9958, parameters = 2589514, training time = 161.99907422065735\n",
      "best accuracy = 0.99, parameters = 3502, training time = 85.88667845726013\n",
      "best accuracy = 0.9917, parameters = 7636, training time = 85.79283547401428\n",
      "best accuracy = 0.992, parameters = 13362, training time = 85.62394905090332\n",
      "best accuracy = 0.994, parameters = 29590, training time = 85.10424852371216\n",
      "best accuracy = 0.9938, parameters = 52186, training time = 85.05163407325745\n",
      "best accuracy = 0.9958, parameters = 116482, training time = 85.43261861801147\n",
      "best accuracy = 0.9954, parameters = 206250, training time = 85.7567846775055\n",
      "best accuracy = 0.9959, parameters = 462202, training time = 85.76078677177429\n",
      "best accuracy = 0.9958, parameters = 820042, training time = 86.23684811592102\n",
      "best accuracy = 0.9911, parameters = 10414, training time = 85.72945046424866\n",
      "best accuracy = 0.9934, parameters = 23188, training time = 85.50741529464722\n",
      "best accuracy = 0.9935, parameters = 41010, training time = 85.34894180297852\n",
      "best accuracy = 0.9952, parameters = 91798, training time = 85.59916734695435\n",
      "best accuracy = 0.994, parameters = 162778, training time = 85.47181248664856\n",
      "best accuracy = 0.9962, parameters = 365314, training time = 86.08257174491882\n",
      "best accuracy = 0.9953, parameters = 648618, training time = 86.16424942016602\n",
      "best accuracy = 0.9952, parameters = 1457530, training time = 127.24078583717346\n",
      "best accuracy = 0.9952, parameters = 2589514, training time = 162.1359784603119\n",
      "best accuracy = 0.9885, parameters = 3502, training time = 85.81440091133118\n",
      "best accuracy = 0.9909, parameters = 7636, training time = 85.40205907821655\n",
      "best accuracy = 0.9927, parameters = 13362, training time = 85.3794777393341\n",
      "best accuracy = 0.9944, parameters = 29590, training time = 85.13861441612244\n",
      "best accuracy = 0.9947, parameters = 52186, training time = 85.45893454551697\n",
      "best accuracy = 0.9952, parameters = 116482, training time = 85.2571542263031\n",
      "best accuracy = 0.9947, parameters = 206250, training time = 85.21366810798645\n",
      "best accuracy = 0.9953, parameters = 462202, training time = 85.86368370056152\n",
      "best accuracy = 0.9959, parameters = 820042, training time = 86.53593349456787\n"
     ]
    }
   ],
   "source": [
    "device_name = 'cuda' if torch.cuda.is_available() else 'cpu'\n",
    "\n",
    "for i in range(4):\n",
    "    for extra_pad in reversed([0, 1]):\n",
    "        models = [MyConvModel(n, extra_pad) for n in [4, 6, 8, 12, 16, 24, 32, 48, 64]]\n",
    "        for pair in TrainHelper.train_models(models, device_name=device_name):\n",
    "            results[extra_pad].append(pair)"
   ]
  },
  {
   "cell_type": "code",
   "execution_count": 17,
   "metadata": {
    "ExecuteTime": {
     "start_time": "2023-04-12T02:33:01.673157Z",
     "end_time": "2023-04-12T02:33:02.002976Z"
    }
   },
   "outputs": [
    {
     "name": "stderr",
     "output_type": "stream",
     "text": [
      "No artists with labels found to put in legend.  Note that artists whose label start with an underscore are ignored when legend() is called with no argument.\n"
     ]
    },
    {
     "data": {
      "text/plain": "<Figure size 1200x1200 with 1 Axes>",
      "image/png": "[encoded data removed]"
     },
     "metadata": {},
     "output_type": "display_data"
    }
   ],
   "source": [
    "plt.rcParams['figure.figsize'] = [12, 12]\n",
    "fig, ax = plt.subplots()\n",
    "ax.set_xscale(\"log\")\n",
    "ax.set_ylim(0.97, 1)\n",
    "\n",
    "for extra_pad, color in [(0, 'red'), (1, 'green')]:\n",
    "    ax.scatter([p[0] for p in results[extra_pad]],  [p[1] for p in results[extra_pad]], c=color, alpha=0.5, marker=r'.')\n",
    "\n",
    "ax.legend()\n",
    "plt.show()"
   ]
  }
 ],
 "metadata": {
  "kernelspec": {
   "display_name": "Python 3 (ipykernel)",
   "language": "python",
   "name": "python3"
  },
  "language_info": {
   "codemirror_mode": {
    "name": "ipython",
    "version": 3
   },
   "file_extension": ".py",
   "mimetype": "text/x-python",
   "name": "python",
   "nbconvert_exporter": "python",
   "pygments_lexer": "ipython3",
   "version": "3.10.6"
  }
 },
 "nbformat": 4,
 "nbformat_minor": 1
}
