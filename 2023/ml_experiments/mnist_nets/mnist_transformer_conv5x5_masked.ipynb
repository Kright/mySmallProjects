{
 "cells": [
  {
   "cell_type": "code",
   "execution_count": 1,
   "outputs": [],
   "source": [
    "import time\n",
    "from typing import Optional, Tuple, List\n",
    "\n",
    "\n",
    "import matplotlib.pyplot as plt\n",
    "import numpy as np\n",
    "import torch\n",
    "import torch.nn as nn\n",
    "import torch.nn.functional as F\n",
    "from torch.autograd import Variable\n",
    "from torch.utils.data import DataLoader"
   ],
   "metadata": {
    "collapsed": false,
    "ExecuteTime": {
     "start_time": "2023-04-13T00:18:03.042020Z",
     "end_time": "2023-04-13T00:18:03.882093Z"
    }
   }
  },
  {
   "cell_type": "code",
   "execution_count": 2,
   "outputs": [
    {
     "data": {
      "text/plain": "True"
     },
     "execution_count": 2,
     "metadata": {},
     "output_type": "execute_result"
    }
   ],
   "source": [
    "torch.cuda.is_available()"
   ],
   "metadata": {
    "collapsed": false,
    "ExecuteTime": {
     "start_time": "2023-04-13T00:18:03.919721Z",
     "end_time": "2023-04-13T00:18:03.938971Z"
    }
   }
  },
  {
   "cell_type": "code",
   "execution_count": 3,
   "outputs": [
    {
     "data": {
      "text/plain": "'1.13.1+cu117'"
     },
     "execution_count": 3,
     "metadata": {},
     "output_type": "execute_result"
    }
   ],
   "source": [
    "torch.__version__"
   ],
   "metadata": {
    "collapsed": false,
    "ExecuteTime": {
     "start_time": "2023-04-13T00:18:03.922459Z",
     "end_time": "2023-04-13T00:18:03.941059Z"
    }
   }
  },
  {
   "cell_type": "code",
   "execution_count": 4,
   "outputs": [],
   "source": [
    "from torchvision import datasets\n",
    "from torchvision.transforms import ToTensor\n",
    "\n",
    "train_data = datasets.MNIST(\n",
    "    root='../models/mnist',\n",
    "    train=True,\n",
    "    transform=ToTensor(),\n",
    "    download=True,\n",
    ")\n",
    "\n",
    "test_data = datasets.MNIST(\n",
    "    root='../models/mnist',\n",
    "    train=False,\n",
    "    transform=ToTensor(),\n",
    "    download=True,\n",
    ")"
   ],
   "metadata": {
    "collapsed": false,
    "ExecuteTime": {
     "start_time": "2023-04-13T00:18:03.934794Z",
     "end_time": "2023-04-13T00:18:04.137938Z"
    }
   }
  },
  {
   "cell_type": "code",
   "execution_count": 5,
   "outputs": [],
   "source": [
    "class TrainHelper:\n",
    "    @staticmethod\n",
    "    def train(cnn: nn.Module,\n",
    "              *,\n",
    "              lr: float,\n",
    "              epochs: int,\n",
    "              train_dataset: datasets.MNIST,\n",
    "              test_dataset: Optional[datasets.MNIST] = None,\n",
    "              print_results: bool = True,\n",
    "              batch_size: int,\n",
    "              device_name: str) -> List[float]:\n",
    "\n",
    "        train_loader = torch.utils.data.DataLoader(train_dataset,\n",
    "                                                   batch_size=batch_size,\n",
    "                                                   shuffle=True,\n",
    "                                                   num_workers=1)\n",
    "\n",
    "        device = torch.device(device_name)\n",
    "\n",
    "        cnn.to(device)\n",
    "        cnn.train()\n",
    "\n",
    "        optimizer = torch.optim.Adam(cnn.parameters(), lr=lr)\n",
    "        loss_func = nn.CrossEntropyLoss()\n",
    "\n",
    "        eval_results: List[float] = []\n",
    "\n",
    "        for epoch in range(epochs):\n",
    "            for images, labels in train_loader:\n",
    "                images = Variable(images.to(device))\n",
    "                labels = Variable(labels.to(device))\n",
    "\n",
    "                output = cnn(images)\n",
    "                loss = loss_func(output, labels)\n",
    "\n",
    "                optimizer.zero_grad()\n",
    "                loss.backward()\n",
    "                optimizer.step()\n",
    "\n",
    "            if test_dataset is not None:\n",
    "                eval_result = TrainHelper.test(cnn, test_dataset, device)\n",
    "                eval_results.append(eval_result)\n",
    "                if print_results:\n",
    "                    print(f\"epoch {epoch}, accuracy = {eval_result}, loss = {loss.detach()}\")\n",
    "                cnn.train()\n",
    "\n",
    "        return eval_results\n",
    "\n",
    "    @staticmethod\n",
    "    def test(cnn: nn.Module, test_dataset: datasets.MNIST, device=None) -> float:\n",
    "        cnn.eval()\n",
    "        loader = torch.utils.data.DataLoader(test_dataset, batch_size=128, shuffle=False, num_workers=1)\n",
    "        correct = 0\n",
    "        incorrect = 0\n",
    "\n",
    "        for images, labels in loader:\n",
    "            if device is not None:\n",
    "                images = images.to(device)\n",
    "\n",
    "            results = cnn(images)\n",
    "            predictions = results.detach().cpu().numpy().argmax(axis=1)\n",
    "            oks = (predictions == labels.numpy()).sum()\n",
    "            correct += oks\n",
    "            incorrect += len(predictions) - oks\n",
    "\n",
    "        return correct / (correct + incorrect)\n",
    "\n",
    "    @staticmethod\n",
    "    def train_models(models: List[nn.Module], device_name: str, batch_size: int, lr: float) -> Tuple[int, float]:\n",
    "        \"\"\"\n",
    "        generator yields pair (trainable parameters count, best accuracy) for each network\n",
    "        :param device_name: 'cuda' or 'cpu'\n",
    "        \"\"\"\n",
    "        assert len(models) > 0\n",
    "\n",
    "        for model in models:\n",
    "            start = time.time()\n",
    "            eval_results = TrainHelper.train(\n",
    "                lr=lr,\n",
    "                cnn=model,\n",
    "                epochs=20,\n",
    "                train_dataset=train_data,\n",
    "                test_dataset=test_data,\n",
    "                batch_size=batch_size,\n",
    "                device_name=device_name,\n",
    "                print_results=False\n",
    "            )\n",
    "            end = time.time()\n",
    "            best_acc = max(eval_results)\n",
    "            params_count = TrainHelper.total_parameters_count(model)\n",
    "            print(f\"best accuracy = {best_acc}, parameters = {params_count}, training time = {end - start}\")\n",
    "            yield params_count, best_acc\n",
    "\n",
    "    @staticmethod\n",
    "    def total_parameters_count(model: nn.Module) -> int:\n",
    "        return sum(np.prod(p.size()) for p in model.parameters())\n",
    "\n",
    "    @staticmethod\n",
    "    def print_parameters(model: nn.Module):\n",
    "        print(f\"total parameters = {TrainHelper.total_parameters_count(model)}\")\n",
    "        for p in model.parameters():\n",
    "            print(f\"size {np.prod(p.size())}: {p.size()}\")"
   ],
   "metadata": {
    "collapsed": false,
    "ExecuteTime": {
     "start_time": "2023-04-13T00:18:04.147044Z",
     "end_time": "2023-04-13T00:18:04.191678Z"
    }
   }
  },
  {
   "cell_type": "code",
   "execution_count": 6,
   "outputs": [],
   "source": [
    "class MyTransformer2d(nn.Module):\n",
    "    def __init__(self, ch: int, kq_ch: int, img_size: int, ff_ch: int, kernel_size: int, extra_pad: int):\n",
    "        super(MyTransformer2d, self).__init__()\n",
    "\n",
    "        self.kernel_size: int = kernel_size\n",
    "        self.extra_pad: int = extra_pad\n",
    "\n",
    "        self.attention = MyAttention2d(in_ch=ch, kq_ch=kq_ch, out_ch=ch, img_size=img_size, kernel_size=kernel_size, extra_pad=extra_pad)\n",
    "\n",
    "        self.norm1 = nn.BatchNorm2d(ch)\n",
    "        self.norm2 = nn.BatchNorm2d(ch)\n",
    "\n",
    "        self.ff = nn.Sequential(\n",
    "            nn.Conv2d(ch, ff_ch, kernel_size=1, bias=True),\n",
    "            nn.LeakyReLU(0.1),\n",
    "            nn.Conv2d(ff_ch, ch, kernel_size=1, bias=True),\n",
    "        )\n",
    "\n",
    "    def forward(self, x):\n",
    "        d_size = (self.kernel_size - 1) // 2 - self.extra_pad\n",
    "        x = self.norm1(self.attention(x) + x[:, :, d_size:-d_size, d_size:-d_size])\n",
    "        x = self.norm2(self.ff(x) + x)\n",
    "        return x"
   ],
   "metadata": {
    "collapsed": false,
    "ExecuteTime": {
     "start_time": "2023-04-13T00:18:04.191439Z",
     "end_time": "2023-04-13T00:18:04.192164Z"
    }
   }
  },
  {
   "cell_type": "code",
   "execution_count": 18,
   "outputs": [],
   "source": [
    "class MyAttention2d(nn.Module):\n",
    "    def __init__(self, in_ch: int, kq_ch: int, out_ch: int, img_size: int, kernel_size: int, extra_pad: int):\n",
    "        super(MyAttention2d, self).__init__()\n",
    "\n",
    "        self.in_ch: int = in_ch\n",
    "        self.out_ch: int = out_ch\n",
    "        self.img_size: int = img_size\n",
    "        self.kernel_size: int = kernel_size\n",
    "        self.extra_pad: int = extra_pad\n",
    "        assert self.extra_pad >= 0\n",
    "\n",
    "        # size = [b_s, ch, h, w]\n",
    "        self.to_key = nn.Conv2d(in_ch, kq_ch, kernel_size=1, bias=False)\n",
    "        self.to_query = nn.Conv2d(in_ch, kq_ch, kernel_size=1, bias=False)\n",
    "        self.to_value = nn.Conv2d(in_ch, out_ch, kernel_size=1, bias=False)\n",
    "\n",
    "        self.key_pos_embedding = nn.Parameter(torch.zeros(size=(1, 1, kq_ch)))\n",
    "        self.query_pos_embedding = nn.Parameter(torch.zeros(size=(1, kernel_size ** 2, kq_ch)))\n",
    "        self.value_pos_embedding = nn.Parameter(torch.zeros(size=(1, kernel_size ** 2, out_ch)))\n",
    "\n",
    "        self.mask: nn.Parameter = nn.Parameter(self.make_mask(img_size, kernel_size, extra_pad))\n",
    "        self.mask.requires_grad = False\n",
    "\n",
    "    def make_mask(self, img_size: int, kernel_size: int, extra_pad: int):\n",
    "        new_size = img_size + extra_pad * 2 - (kernel_size - 1)\n",
    "        img_input = torch.zeros(1, 1, img_size, img_size)\n",
    "        img_padded = F.pad(img_input, (extra_pad, extra_pad, extra_pad, extra_pad), mode=\"constant\", value=-float(\"inf\"))\n",
    "        img_repacked = self.repack_img_valid_pad(img_padded)\n",
    "        assert img_repacked.size() == (new_size * new_size, kernel_size ** 2, 1)\n",
    "        img_repacked = torch.reshape(img_repacked, (1, new_size, new_size, kernel_size ** 2))\n",
    "        return img_repacked\n",
    "\n",
    "    def repack_img_valid_pad(self, img: torch.Tensor):\n",
    "        batch_size, channels, height, width = img.size()\n",
    "        assert width == self.img_size + self.extra_pad * 2\n",
    "        assert height == self.img_size + self.extra_pad * 2\n",
    "\n",
    "        img = img.view(batch_size, channels, height, width, 1)\n",
    "\n",
    "        new_w = width - (self.kernel_size - 1)\n",
    "        new_h = height - (self.kernel_size - 1)\n",
    "\n",
    "        img = torch.cat([img[:, :, :, i: new_w + i] for i in range(self.kernel_size)], dim=4)\n",
    "        img = torch.cat([img[:, :, i: new_h + i] for i in range(self.kernel_size)], dim=4)\n",
    "        assert img.size() == (batch_size, channels, new_h, new_w, self.kernel_size ** 2)\n",
    "\n",
    "        img = torch.moveaxis(img, 1, 4)\n",
    "        assert img.size() == (batch_size, new_h, new_w, self.kernel_size ** 2, channels)\n",
    "\n",
    "        img = img.reshape(batch_size * new_h * new_w, self.kernel_size ** 2, channels)\n",
    "        return img\n",
    "\n",
    "    def repack_keys(self, img: torch.Tensor):\n",
    "        batch_size, channels, height, width = img.size()\n",
    "        assert width == self.img_size + self.extra_pad * 2\n",
    "        assert height == self.img_size + self.extra_pad * 2\n",
    "\n",
    "        new_w = width - (self.kernel_size - 1)\n",
    "        new_h = height - (self.kernel_size - 1)\n",
    "        pad = (self.kernel_size - 1) // 2\n",
    "\n",
    "        img = img[:, :, pad : new_h + pad, pad : new_w + pad]\n",
    "        img = torch.moveaxis(img, 1, 3)\n",
    "        assert img.size() == (batch_size, new_h, new_w, channels), f\"expected {(batch_size, new_h, new_w, channels)}, got {img.size()}\"\n",
    "\n",
    "        img = img.reshape(batch_size * new_h * new_w, 1, channels)\n",
    "        return img\n",
    "\n",
    "    def forward(self, x):\n",
    "        batch_size, channels, height, width = x.size()\n",
    "        new_height = height + self.extra_pad * 2 - (self.kernel_size - 1)\n",
    "        new_width = width + self.extra_pad * 2 - (self.kernel_size - 1)\n",
    "\n",
    "        if self.extra_pad != 0:\n",
    "            p = self.extra_pad\n",
    "            x = F.pad(x, (p, p, p, p), \"constant\", 0.0)\n",
    "\n",
    "        key = self.to_key(x)\n",
    "        query = self.to_query(x)\n",
    "        value = self.to_value(x)\n",
    "\n",
    "        packed_key = self.repack_keys(key) + self.key_pos_embedding\n",
    "        # b, k**2, ch\n",
    "        packed_query = self.repack_img_valid_pad(query) + self.query_pos_embedding\n",
    "        # b, k**2, ch\n",
    "        packed_value = self.repack_img_valid_pad(value) + self.value_pos_embedding\n",
    "        # b, k**2, out_ch\n",
    "\n",
    "        dots = torch.bmm(packed_key, torch.moveaxis(packed_query, 1, 2))\n",
    "        assert dots.size() == (batch_size * new_height * new_width, 1, self.kernel_size ** 2)\n",
    "\n",
    "        masked_dots = torch.reshape(dots, (batch_size, new_height, new_width, self.kernel_size ** 2))\n",
    "        masked_dots = masked_dots + self.mask\n",
    "        masked_dots = torch.reshape(masked_dots, (batch_size * new_height * new_width, 1, self.kernel_size ** 2))\n",
    "\n",
    "        weights = F.softmax(masked_dots / 3.0, dim=2)\n",
    "        # b, 1, k**2\n",
    "\n",
    "        out = torch.bmm(weights, packed_value)\n",
    "        assert out.size() == (batch_size * new_height * new_width, 1, self.out_ch)\n",
    "        # b, 1, ch\n",
    "\n",
    "        out = out.reshape(batch_size, new_height, new_width, self.out_ch)\n",
    "        out = torch.moveaxis(out, 3, 1)\n",
    "\n",
    "        assert out.size() == (batch_size, self.out_ch, new_height, new_width)\n",
    "        return out\n"
   ],
   "metadata": {
    "collapsed": false,
    "ExecuteTime": {
     "start_time": "2023-04-13T00:27:26.508480Z",
     "end_time": "2023-04-13T00:27:26.540224Z"
    }
   }
  },
  {
   "cell_type": "code",
   "execution_count": 19,
   "outputs": [],
   "source": [
    "class MyConvT3(nn.Module):\n",
    "    def __init__(self, channels: int, extra_pad: int):\n",
    "        super(MyConvT3, self).__init__()\n",
    "\n",
    "        c = channels\n",
    "        self.layers = nn.Sequential(\n",
    "            nn.Conv2d(1, c, kernel_size=1, padding=\"valid\", bias=False),  # 28\n",
    "            MyTransformer2d(c, c, 28, c * 2, kernel_size=3 + 2 * extra_pad, extra_pad=extra_pad),  # 26\n",
    "            MyTransformer2d(c, c, 26, c * 2, kernel_size=3 + 2 * extra_pad, extra_pad=extra_pad),  # 24\n",
    "            nn.MaxPool2d(2),  # 12\n",
    "\n",
    "            nn.Conv2d(c, c * 2, kernel_size=1, padding=\"valid\", bias=False),  # 12\n",
    "            MyTransformer2d(c * 2, c * 2, 12, c * 4, kernel_size=3 + 2 * extra_pad, extra_pad=extra_pad),  # 10\n",
    "            MyTransformer2d(c * 2, c * 2, 10, c * 4, kernel_size=3 + 2 * extra_pad, extra_pad=extra_pad),  # 8\n",
    "            nn.MaxPool2d(2),  # 4\n",
    "\n",
    "            MyTransformer2d(c * 2, c * 4, 4, c * 8, kernel_size=3 + 2 * extra_pad, extra_pad=extra_pad),  # 2\n",
    "            nn.Conv2d(c * 2, c * 4, kernel_size=2, padding=\"valid\", bias=False),  # 1\n",
    "            nn.BatchNorm2d(c * 4),\n",
    "            nn.LeakyReLU(0.1),\n",
    "\n",
    "            nn.Conv2d(c * 4, 10, kernel_size=1),  # 1\n",
    "            nn.Flatten(),\n",
    "        )\n",
    "\n",
    "    def conv(self, in_ch: int, out_ch: int, *, kernel_size):\n",
    "        return nn.Sequential(\n",
    "            nn.Conv2d(in_ch, out_ch, kernel_size=kernel_size, padding='valid', bias=False),\n",
    "            nn.BatchNorm2d(out_ch),\n",
    "            nn.LeakyReLU(0.1),\n",
    "        )\n",
    "\n",
    "    def forward(self, x: torch.Tensor):\n",
    "        return self.layers(x)\n"
   ],
   "metadata": {
    "collapsed": false,
    "ExecuteTime": {
     "start_time": "2023-04-13T00:27:27.263903Z",
     "end_time": "2023-04-13T00:27:27.271955Z"
    }
   }
  },
  {
   "cell_type": "code",
   "execution_count": 23,
   "outputs": [],
   "source": [
    "model = MyConvT3(32, extra_pad=1)"
   ],
   "metadata": {
    "collapsed": false,
    "ExecuteTime": {
     "start_time": "2023-04-13T00:43:09.459092Z",
     "end_time": "2023-04-13T00:43:09.470559Z"
    }
   }
  },
  {
   "cell_type": "code",
   "execution_count": 24,
   "outputs": [
    {
     "name": "stdout",
     "output_type": "stream",
     "text": [
      "epoch 0, accuracy = 0.8823, loss = 0.594904363155365\n",
      "epoch 1, accuracy = 0.9398, loss = 0.24994289875030518\n",
      "epoch 2, accuracy = 0.956, loss = 0.2125159502029419\n",
      "epoch 3, accuracy = 0.9651, loss = 0.09367286413908005\n",
      "epoch 4, accuracy = 0.9694, loss = 0.09828472882509232\n",
      "epoch 5, accuracy = 0.9725, loss = 0.1280948966741562\n",
      "epoch 6, accuracy = 0.9733, loss = 0.08706718683242798\n",
      "epoch 7, accuracy = 0.9775, loss = 0.11391225457191467\n",
      "epoch 8, accuracy = 0.9782, loss = 0.04548821225762367\n",
      "epoch 9, accuracy = 0.9804, loss = 0.08622616529464722\n"
     ]
    }
   ],
   "source": [
    "accuracies = TrainHelper.train(\n",
    "    lr = 0.0001,\n",
    "    cnn=model,\n",
    "    epochs=10,\n",
    "    train_dataset=train_data,\n",
    "    test_dataset=test_data,\n",
    "    batch_size=256,\n",
    "    device_name='cuda',\n",
    "    print_results=True,\n",
    ")"
   ],
   "metadata": {
    "collapsed": false,
    "ExecuteTime": {
     "start_time": "2023-04-13T00:43:26.730601Z",
     "end_time": "2023-04-13T00:56:30.355369Z"
    }
   }
  },
  {
   "cell_type": "code",
   "execution_count": 28,
   "outputs": [
    {
     "name": "stdout",
     "output_type": "stream",
     "text": [
      "epoch 0, accuracy = 0.979, loss = 0.05303823947906494\n",
      "epoch 1, accuracy = 0.9805, loss = 0.06547646969556808\n",
      "epoch 2, accuracy = 0.9804, loss = 0.04067220911383629\n",
      "epoch 3, accuracy = 0.9791, loss = 0.07245016098022461\n",
      "epoch 4, accuracy = 0.979, loss = 0.03005737066268921\n",
      "epoch 5, accuracy = 0.9807, loss = 0.011742507107555866\n",
      "epoch 6, accuracy = 0.9801, loss = 0.00902013760060072\n",
      "epoch 7, accuracy = 0.9818, loss = 0.025360019877552986\n",
      "epoch 8, accuracy = 0.9839, loss = 0.022112438455224037\n",
      "epoch 9, accuracy = 0.9829, loss = 0.018869949504733086\n"
     ]
    }
   ],
   "source": [
    "accuracies += TrainHelper.train(\n",
    "    lr = 0.0001,\n",
    "    cnn=model,\n",
    "    epochs=10,\n",
    "    train_dataset=train_data,\n",
    "    test_dataset=test_data,\n",
    "    batch_size=256,\n",
    "    device_name='cuda',\n",
    "    print_results=True,\n",
    ")"
   ],
   "metadata": {
    "collapsed": false,
    "ExecuteTime": {
     "start_time": "2023-04-13T00:57:41.129049Z",
     "end_time": "2023-04-13T01:10:59.204458Z"
    }
   }
  },
  {
   "cell_type": "code",
   "execution_count": 30,
   "outputs": [
    {
     "name": "stdout",
     "output_type": "stream",
     "text": [
      "epoch 0, accuracy = 0.9838, loss = 0.006098387762904167\n",
      "epoch 1, accuracy = 0.9851, loss = 0.007056599482893944\n",
      "epoch 2, accuracy = 0.9845, loss = 0.006203159224241972\n",
      "epoch 3, accuracy = 0.9858, loss = 0.0320209376513958\n",
      "epoch 4, accuracy = 0.9845, loss = 0.029745161533355713\n",
      "epoch 5, accuracy = 0.9849, loss = 0.01221199706196785\n",
      "epoch 6, accuracy = 0.9841, loss = 0.004425723105669022\n",
      "epoch 7, accuracy = 0.9844, loss = 0.01750842109322548\n",
      "epoch 8, accuracy = 0.9855, loss = 0.012285144068300724\n",
      "epoch 9, accuracy = 0.9843, loss = 0.00391437578946352\n"
     ]
    }
   ],
   "source": [
    "accuracies += TrainHelper.train(\n",
    "    lr = 0.00003,\n",
    "    cnn=model,\n",
    "    epochs=10,\n",
    "    train_dataset=train_data,\n",
    "    test_dataset=test_data,\n",
    "    batch_size=256,\n",
    "    device_name='cuda',\n",
    "    print_results=True,\n",
    ")"
   ],
   "metadata": {
    "collapsed": false,
    "ExecuteTime": {
     "start_time": "2023-04-13T01:19:39.754910Z",
     "end_time": "2023-04-13T01:33:25.954950Z"
    }
   }
  },
  {
   "cell_type": "code",
   "execution_count": 32,
   "outputs": [
    {
     "name": "stdout",
     "output_type": "stream",
     "text": [
      "epoch 0, accuracy = 0.9857, loss = 0.031600598245859146\n",
      "epoch 1, accuracy = 0.9858, loss = 0.015024881809949875\n",
      "epoch 2, accuracy = 0.9857, loss = 0.003581875702366233\n",
      "epoch 3, accuracy = 0.9856, loss = 0.04817741736769676\n",
      "epoch 4, accuracy = 0.9864, loss = 0.0039148698560893536\n",
      "epoch 5, accuracy = 0.9847, loss = 0.036704499274492264\n",
      "epoch 6, accuracy = 0.9858, loss = 0.005845064762979746\n",
      "epoch 7, accuracy = 0.9857, loss = 0.01402821484953165\n",
      "epoch 8, accuracy = 0.9864, loss = 0.004649304319173098\n",
      "epoch 9, accuracy = 0.9853, loss = 0.0056375060230493546\n"
     ]
    }
   ],
   "source": [
    "accuracies += TrainHelper.train(\n",
    "    lr = 0.00001,\n",
    "    cnn=model,\n",
    "    epochs=10,\n",
    "    train_dataset=train_data,\n",
    "    test_dataset=test_data,\n",
    "    batch_size=256,\n",
    "    device_name='cuda',\n",
    "    print_results=True,\n",
    ")"
   ],
   "metadata": {
    "collapsed": false,
    "ExecuteTime": {
     "start_time": "2023-04-13T01:33:40.636952Z",
     "end_time": "2023-04-13T01:47:41.322277Z"
    }
   }
  },
  {
   "cell_type": "code",
   "execution_count": 33,
   "outputs": [
    {
     "name": "stderr",
     "output_type": "stream",
     "text": [
      "No artists with labels found to put in legend.  Note that artists whose label start with an underscore are ignored when legend() is called with no argument.\n"
     ]
    },
    {
     "data": {
      "text/plain": "<Figure size 1200x1200 with 1 Axes>",
      "image/png": "[encoded data removed]"
     },
     "metadata": {},
     "output_type": "display_data"
    }
   ],
   "source": [
    "plt.rcParams['figure.figsize'] = [12, 12]\n",
    "fig, ax = plt.subplots()\n",
    "ax.set_xscale(\"log\")\n",
    "ax.set_ylim(0.95, 1)\n",
    "\n",
    "ax.plot(list(range(len(accuracies))), accuracies, c='red')\n",
    "ax.legend()\n",
    "plt.show()"
   ],
   "metadata": {
    "collapsed": false,
    "ExecuteTime": {
     "start_time": "2023-04-13T01:47:41.321445Z",
     "end_time": "2023-04-13T01:47:41.490495Z"
    }
   }
  }
 ],
 "metadata": {
  "kernelspec": {
   "display_name": "Python 3",
   "language": "python",
   "name": "python3"
  },
  "language_info": {
   "codemirror_mode": {
    "name": "ipython",
    "version": 2
   },
   "file_extension": ".py",
   "mimetype": "text/x-python",
   "name": "python",
   "nbconvert_exporter": "python",
   "pygments_lexer": "ipython2",
   "version": "2.7.6"
  }
 },
 "nbformat": 4,
 "nbformat_minor": 0
}
