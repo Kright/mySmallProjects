{
 "cells": [
  {
   "cell_type": "code",
   "execution_count": 1,
   "metadata": {
    "ExecuteTime": {
     "end_time": "2023-04-12T12:28:33.783766Z",
     "start_time": "2023-04-12T12:28:32.993700Z"
    }
   },
   "outputs": [],
   "source": [
    "import time\n",
    "from typing import Optional, Tuple, List\n",
    "\n",
    "import matplotlib.pyplot as plt\n",
    "import numpy as np\n",
    "import torch\n",
    "import torch.nn as nn\n",
    "from torch.autograd import Variable\n",
    "from torch.utils.data import DataLoader"
   ]
  },
  {
   "cell_type": "markdown",
   "metadata": {},
   "source": [
    "# Mobilenet v1: [https://arxiv.org/abs/1704.04861](https://arxiv.org/abs/1704.04861)\n",
    "\n",
    "compare depthwise separable convolutions 3x3, 5x5 and 7x7"
   ]
  },
  {
   "cell_type": "code",
   "execution_count": 7,
   "metadata": {
    "ExecuteTime": {
     "end_time": "2023-04-12T12:28:33.830236Z",
     "start_time": "2023-04-12T12:28:33.816446Z"
    }
   },
   "outputs": [
    {
     "data": {
      "text/plain": [
       "True"
      ]
     },
     "execution_count": 7,
     "metadata": {},
     "output_type": "execute_result"
    }
   ],
   "source": [
    "torch.cuda.is_available()"
   ]
  },
  {
   "cell_type": "code",
   "execution_count": 3,
   "metadata": {
    "ExecuteTime": {
     "end_time": "2023-04-12T12:28:33.831030Z",
     "start_time": "2023-04-12T12:28:33.819680Z"
    }
   },
   "outputs": [
    {
     "data": {
      "text/plain": [
       "'1.13.1+cu117'"
      ]
     },
     "execution_count": 3,
     "metadata": {},
     "output_type": "execute_result"
    }
   ],
   "source": [
    "torch.__version__"
   ]
  },
  {
   "cell_type": "code",
   "execution_count": 8,
   "metadata": {
    "ExecuteTime": {
     "end_time": "2023-04-12T12:28:34.013132Z",
     "start_time": "2023-04-12T12:28:33.830429Z"
    }
   },
   "outputs": [],
   "source": [
    "from torchvision import datasets\n",
    "from torchvision.transforms import ToTensor\n",
    "\n",
    "train_data = datasets.MNIST(\n",
    "    root='../models/mnist',\n",
    "    train=True,\n",
    "    transform=ToTensor(),\n",
    "    download=True,\n",
    ")\n",
    "\n",
    "test_data = datasets.MNIST(\n",
    "    root='../models/mnist',\n",
    "    train=False,\n",
    "    transform=ToTensor(),\n",
    "    download=True,\n",
    ")"
   ]
  },
  {
   "cell_type": "code",
   "execution_count": 9,
   "metadata": {
    "ExecuteTime": {
     "end_time": "2023-04-12T12:28:34.063161Z",
     "start_time": "2023-04-12T12:28:34.020373Z"
    }
   },
   "outputs": [],
   "source": [
    "class TrainHelper:\n",
    "    @staticmethod\n",
    "    def train(cnn: nn.Module,\n",
    "              *,\n",
    "              epochs: int,\n",
    "              train_dataset: datasets.MNIST,\n",
    "              test_dataset: Optional[datasets.MNIST] = None,\n",
    "              print_results: bool = True,\n",
    "              batch_size: int,\n",
    "              device_name: str) -> List[float]:\n",
    "\n",
    "        train_loader = torch.utils.data.DataLoader(train_dataset,\n",
    "                                                   batch_size=batch_size,\n",
    "                                                   shuffle=True,\n",
    "                                                   num_workers=1)\n",
    "\n",
    "        device = torch.device(device_name)\n",
    "\n",
    "        cnn.to(device)\n",
    "        cnn.train()\n",
    "\n",
    "        optimizer = torch.optim.Adam(cnn.parameters(), lr=0.001)\n",
    "        loss_func = nn.CrossEntropyLoss()\n",
    "\n",
    "        eval_results: List[float] = []\n",
    "\n",
    "        for epoch in range(epochs):\n",
    "            for images, labels in train_loader:\n",
    "                images = Variable(images.to(device))\n",
    "                labels = Variable(labels.to(device))\n",
    "\n",
    "                output = cnn(images)\n",
    "                loss = loss_func(output, labels)\n",
    "\n",
    "                optimizer.zero_grad()\n",
    "                loss.backward()\n",
    "                optimizer.step()\n",
    "\n",
    "            if test_dataset is not None:\n",
    "                eval_result = TrainHelper.test(cnn, test_dataset, device)\n",
    "                eval_results.append(eval_result)\n",
    "                if print_results:\n",
    "                    print(f\"epoch {epoch}, accuracy = {eval_result}, loss = {loss.detach()}\")\n",
    "                cnn.train()\n",
    "\n",
    "        return eval_results\n",
    "\n",
    "    @staticmethod\n",
    "    def test(cnn: nn.Module, test_dataset: datasets.MNIST, device=None) -> float:\n",
    "        cnn.eval()\n",
    "        loader = torch.utils.data.DataLoader(test_dataset, batch_size=128, shuffle=False, num_workers=1)\n",
    "        correct = 0\n",
    "        incorrect = 0\n",
    "\n",
    "        for images, labels in loader:\n",
    "            if device is not None:\n",
    "                images = images.to(device)\n",
    "\n",
    "            results = cnn(images)\n",
    "            predictions = results.detach().cpu().numpy().argmax(axis=1)\n",
    "            oks = (predictions == labels.numpy()).sum()\n",
    "            correct += oks\n",
    "            incorrect += len(predictions) - oks\n",
    "\n",
    "        return correct / (correct + incorrect)\n",
    "\n",
    "    @staticmethod\n",
    "    def train_models(models: List[nn.Module], device_name: str) -> Tuple[int, float]:\n",
    "        \"\"\"\n",
    "        generator yields pair (trainable parameters count, best accuracy) for each network\n",
    "        :param device_name: 'cuda' or 'cpu'\n",
    "        \"\"\"\n",
    "        assert len(models) > 0\n",
    "\n",
    "        for model in models:\n",
    "            start = time.time()\n",
    "            eval_results = TrainHelper.train(\n",
    "                cnn=model,\n",
    "                epochs=20,\n",
    "                train_dataset=train_data,\n",
    "                test_dataset=test_data,\n",
    "                batch_size=1024,\n",
    "                device_name=device_name,\n",
    "                print_results=False\n",
    "            )\n",
    "            end = time.time()\n",
    "            best_acc = max(eval_results)\n",
    "            params_count = TrainHelper.total_parameters_count(model)\n",
    "            print(f\"best accuracy = {best_acc}, parameters = {params_count}, training time = {end - start}\")\n",
    "            yield params_count, best_acc\n",
    "\n",
    "    @staticmethod\n",
    "    def total_parameters_count(model: nn.Module) -> int:\n",
    "        return sum(np.prod(p.size()) for p in model.parameters())\n",
    "\n",
    "    @staticmethod\n",
    "    def print_parameters(model: nn.Module):\n",
    "        print(f\"total parameters = {TrainHelper.total_parameters_count(model)}\")\n",
    "        for p in model.parameters():\n",
    "            print(f\"size {np.prod(p.size())}: {p.size()}\")"
   ]
  },
  {
   "cell_type": "code",
   "execution_count": 10,
   "metadata": {
    "ExecuteTime": {
     "end_time": "2023-04-12T12:28:34.063641Z",
     "start_time": "2023-04-12T12:28:34.062955Z"
    }
   },
   "outputs": [],
   "source": [
    "class MyMobileNetV1(nn.Module):\n",
    "    def __init__(self, channels: int, extra_pad:int = 1):\n",
    "        super(MyMobileNetV1, self).__init__()\n",
    "\n",
    "        c = channels\n",
    "        self.layers = nn.Sequential(\n",
    "            nn.Conv2d(1, c, groups=1, kernel_size=3, padding='valid', bias=False),         # 28 - 26\n",
    "            nn.BatchNorm2d(c),\n",
    "            nn.LeakyReLU(0.1),\n",
    "\n",
    "            self.conv(c, c, kernel_size=3, extra_pad=extra_pad),         # 26 - 24\n",
    "            nn.MaxPool2d(2),                        # 24 - 12\n",
    "\n",
    "            self.conv(c, c * 2, kernel_size=3, extra_pad=extra_pad),     # 12 - 10\n",
    "            self.conv(c * 2, c * 2, kernel_size=3, extra_pad=extra_pad), # 10 - 8\n",
    "            nn.MaxPool2d(2),                        # 8 - 4\n",
    "\n",
    "            self.conv(c * 2, c * 4, kernel_size=3, extra_pad=extra_pad), # 4 - 2\n",
    "            self.conv(c * 4, c * 4, kernel_size=2, extra_pad=extra_pad), # 2 - 1\n",
    "\n",
    "            nn.Conv2d(c * 4, 10, kernel_size=1, padding='valid', bias=True),\n",
    "            nn.Flatten(),\n",
    "        )\n",
    "\n",
    "    def conv(self, in_ch: int, out_ch: int, *, kernel_size, extra_pad: int):\n",
    "        return nn.Sequential(\n",
    "            nn.ConstantPad2d(extra_pad, value=0.0),\n",
    "            nn.Conv2d(in_ch, in_ch, groups=in_ch , kernel_size=kernel_size + 2 * extra_pad, padding='valid', bias=False),\n",
    "            nn.Conv2d(in_ch, out_ch, groups=1, kernel_size=1, padding='valid', bias=False),\n",
    "            nn.BatchNorm2d(out_ch),\n",
    "            nn.LeakyReLU(0.1)\n",
    "        )\n",
    "\n",
    "    def forward(self, x: torch.Tensor):\n",
    "        return self.layers(x)"
   ]
  },
  {
   "cell_type": "code",
   "execution_count": 11,
   "metadata": {
    "ExecuteTime": {
     "end_time": "2023-04-12T12:28:34.064019Z",
     "start_time": "2023-04-12T12:28:34.063345Z"
    }
   },
   "outputs": [],
   "source": [
    "results = {\n",
    "    0: [],\n",
    "    1: [],\n",
    "    2: [],\n",
    "}\n",
    "\n",
    "channel_counts = [4, 6, 8, 12, 16, 24, 32, 48, 64, 96, 128]"
   ]
  },
  {
   "cell_type": "code",
   "execution_count": 12,
   "metadata": {
    "ExecuteTime": {
     "end_time": "2023-04-07T21:52:17.808271916Z",
     "start_time": "2023-04-07T21:01:08.931635635Z"
    }
   },
   "outputs": [
    {
     "name": "stdout",
     "output_type": "stream",
     "text": [
      "best accuracy = 0.9943, parameters = 526730, training time = 141.91727662086487\n",
      "best accuracy = 0.9941, parameters = 299818, training time = 106.6863420009613\n",
      "best accuracy = 0.9927, parameters = 136394, training time = 85.10575151443481\n",
      "best accuracy = 0.9933, parameters = 78490, training time = 84.79104852676392\n",
      "best accuracy = 0.9911, parameters = 36458, training time = 84.46722316741943\n",
      "best accuracy = 0.9918, parameters = 21394, training time = 84.28642559051514\n",
      "best accuracy = 0.9903, parameters = 10298, training time = 84.4602541923523\n",
      "best accuracy = 0.9905, parameters = 6238, training time = 84.03357720375061\n",
      "best accuracy = 0.9864, parameters = 3170, training time = 83.81417226791382\n",
      "best accuracy = 0.9817, parameters = 2008, training time = 84.05959892272949\n",
      "best accuracy = 0.9667, parameters = 1094, training time = 83.90236210823059\n",
      "best accuracy = 0.9936, parameters = 545162, training time = 196.18578433990479\n",
      "best accuracy = 0.9939, parameters = 313642, training time = 149.18643617630005\n",
      "best accuracy = 0.9931, parameters = 145610, training time = 106.36552286148071\n",
      "best accuracy = 0.9921, parameters = 85402, training time = 85.5378532409668\n",
      "best accuracy = 0.9931, parameters = 41066, training time = 85.06668090820312\n",
      "best accuracy = 0.9917, parameters = 24850, training time = 84.55759286880493\n",
      "best accuracy = 0.9911, parameters = 12602, training time = 84.44977188110352\n",
      "best accuracy = 0.9903, parameters = 7966, training time = 84.34947943687439\n",
      "best accuracy = 0.9873, parameters = 4322, training time = 84.22755265235901\n",
      "best accuracy = 0.9843, parameters = 2872, training time = 84.025155544281\n",
      "best accuracy = 0.9768, parameters = 1670, training time = 84.04344487190247\n",
      "best accuracy = 0.9929, parameters = 573834, training time = 278.4316337108612\n",
      "best accuracy = 0.9929, parameters = 335146, training time = 209.44826531410217\n",
      "best accuracy = 0.9928, parameters = 159946, training time = 146.16803526878357\n",
      "best accuracy = 0.9913, parameters = 96154, training time = 114.64268016815186\n",
      "best accuracy = 0.9915, parameters = 48234, training time = 85.40267252922058\n",
      "best accuracy = 0.9919, parameters = 30226, training time = 85.03666472434998\n",
      "best accuracy = 0.9905, parameters = 16186, training time = 84.56355237960815\n",
      "best accuracy = 0.9901, parameters = 10654, training time = 84.69968247413635\n",
      "best accuracy = 0.9864, parameters = 6114, training time = 84.64410471916199\n",
      "best accuracy = 0.987, parameters = 4216, training time = 84.28733730316162\n",
      "best accuracy = 0.9763, parameters = 2566, training time = 84.35206723213196\n",
      "best accuracy = 0.9939, parameters = 526730, training time = 140.2810161113739\n",
      "best accuracy = 0.995, parameters = 299818, training time = 106.86443400382996\n",
      "best accuracy = 0.9934, parameters = 136394, training time = 85.51820135116577\n",
      "best accuracy = 0.9926, parameters = 78490, training time = 85.07845759391785\n",
      "best accuracy = 0.9902, parameters = 36458, training time = 84.81550312042236\n",
      "best accuracy = 0.991, parameters = 21394, training time = 85.0221095085144\n",
      "best accuracy = 0.9899, parameters = 10298, training time = 84.52922368049622\n",
      "best accuracy = 0.9887, parameters = 6238, training time = 84.55300307273865\n",
      "best accuracy = 0.986, parameters = 3170, training time = 84.1303162574768\n",
      "best accuracy = 0.9808, parameters = 2008, training time = 84.15278840065002\n",
      "best accuracy = 0.9722, parameters = 1094, training time = 84.15373373031616\n",
      "best accuracy = 0.9942, parameters = 545162, training time = 195.22732996940613\n",
      "best accuracy = 0.9931, parameters = 313642, training time = 148.26928639411926\n",
      "best accuracy = 0.9931, parameters = 145610, training time = 105.78425145149231\n",
      "best accuracy = 0.9924, parameters = 85402, training time = 85.725412607193\n",
      "best accuracy = 0.9928, parameters = 41066, training time = 84.546870470047\n",
      "best accuracy = 0.9909, parameters = 24850, training time = 84.74274015426636\n",
      "best accuracy = 0.9898, parameters = 12602, training time = 84.52130508422852\n",
      "best accuracy = 0.9915, parameters = 7966, training time = 84.54940390586853\n",
      "best accuracy = 0.9875, parameters = 4322, training time = 84.06459474563599\n",
      "best accuracy = 0.9851, parameters = 2872, training time = 84.29028987884521\n",
      "best accuracy = 0.9799, parameters = 1670, training time = 83.92760515213013\n",
      "best accuracy = 0.9931, parameters = 573834, training time = 278.245224237442\n",
      "best accuracy = 0.9933, parameters = 335146, training time = 209.52734184265137\n",
      "best accuracy = 0.9934, parameters = 159946, training time = 146.33847069740295\n",
      "best accuracy = 0.9932, parameters = 96154, training time = 114.81255149841309\n",
      "best accuracy = 0.9922, parameters = 48234, training time = 86.29825639724731\n",
      "best accuracy = 0.9919, parameters = 30226, training time = 85.55526566505432\n",
      "best accuracy = 0.9907, parameters = 16186, training time = 87.41258525848389\n",
      "best accuracy = 0.9895, parameters = 10654, training time = 92.5928087234497\n",
      "best accuracy = 0.987, parameters = 6114, training time = 92.72367787361145\n",
      "best accuracy = 0.9848, parameters = 4216, training time = 92.88786363601685\n",
      "best accuracy = 0.9731, parameters = 2566, training time = 90.80956721305847\n",
      "best accuracy = 0.9941, parameters = 526730, training time = 157.05569672584534\n",
      "best accuracy = 0.9937, parameters = 299818, training time = 118.78668093681335\n",
      "best accuracy = 0.9926, parameters = 136394, training time = 93.40508842468262\n",
      "best accuracy = 0.9927, parameters = 78490, training time = 92.68882608413696\n",
      "best accuracy = 0.9909, parameters = 36458, training time = 90.46917080879211\n",
      "best accuracy = 0.9913, parameters = 21394, training time = 91.0662202835083\n",
      "best accuracy = 0.9903, parameters = 10298, training time = 92.40228915214539\n",
      "best accuracy = 0.9882, parameters = 6238, training time = 88.10138273239136\n",
      "best accuracy = 0.9877, parameters = 3170, training time = 87.6221752166748\n",
      "best accuracy = 0.9832, parameters = 2008, training time = 86.37885189056396\n",
      "best accuracy = 0.9667, parameters = 1094, training time = 85.91929054260254\n",
      "best accuracy = 0.9945, parameters = 545162, training time = 207.60283493995667\n",
      "best accuracy = 0.9947, parameters = 313642, training time = 160.78434300422668\n",
      "best accuracy = 0.9932, parameters = 145610, training time = 113.97348499298096\n",
      "best accuracy = 0.9926, parameters = 85402, training time = 93.21107006072998\n",
      "best accuracy = 0.9919, parameters = 41066, training time = 91.56568455696106\n",
      "best accuracy = 0.9902, parameters = 24850, training time = 90.70930480957031\n",
      "best accuracy = 0.9914, parameters = 12602, training time = 89.38135194778442\n",
      "best accuracy = 0.9889, parameters = 7966, training time = 87.21642851829529\n",
      "best accuracy = 0.9871, parameters = 4322, training time = 86.6604516506195\n",
      "best accuracy = 0.9857, parameters = 2872, training time = 88.082115650177\n",
      "best accuracy = 0.9774, parameters = 1670, training time = 87.64162516593933\n",
      "best accuracy = 0.9938, parameters = 573834, training time = 295.9879467487335\n",
      "best accuracy = 0.9944, parameters = 335146, training time = 219.02184653282166\n",
      "best accuracy = 0.9929, parameters = 159946, training time = 147.59634590148926\n",
      "best accuracy = 0.993, parameters = 96154, training time = 114.8583083152771\n",
      "best accuracy = 0.9929, parameters = 48234, training time = 87.13717079162598\n",
      "best accuracy = 0.9915, parameters = 30226, training time = 87.02360653877258\n",
      "best accuracy = 0.9911, parameters = 16186, training time = 86.90689086914062\n",
      "best accuracy = 0.9891, parameters = 10654, training time = 86.59682846069336\n",
      "best accuracy = 0.9883, parameters = 6114, training time = 86.07250666618347\n",
      "best accuracy = 0.9832, parameters = 4216, training time = 85.90323734283447\n",
      "best accuracy = 0.9807, parameters = 2566, training time = 85.60294938087463\n",
      "best accuracy = 0.9942, parameters = 526730, training time = 140.5197696685791\n",
      "best accuracy = 0.9935, parameters = 299818, training time = 107.31838035583496\n",
      "best accuracy = 0.9932, parameters = 136394, training time = 86.89993643760681\n",
      "best accuracy = 0.9916, parameters = 78490, training time = 86.4900872707367\n",
      "best accuracy = 0.9919, parameters = 36458, training time = 86.17501020431519\n",
      "best accuracy = 0.9907, parameters = 21394, training time = 85.79247283935547\n",
      "best accuracy = 0.9903, parameters = 10298, training time = 85.9049563407898\n"
     ]
    },
    {
     "name": "stdout",
     "output_type": "stream",
     "text": [
      "best accuracy = 0.9885, parameters = 6238, training time = 85.60816884040833\n",
      "best accuracy = 0.9853, parameters = 3170, training time = 85.43176937103271\n",
      "best accuracy = 0.9796, parameters = 2008, training time = 85.31136536598206\n",
      "best accuracy = 0.9694, parameters = 1094, training time = 85.59472918510437\n",
      "best accuracy = 0.994, parameters = 545162, training time = 195.490816116333\n",
      "best accuracy = 0.9941, parameters = 313642, training time = 148.57996821403503\n",
      "best accuracy = 0.9925, parameters = 145610, training time = 105.94192624092102\n",
      "best accuracy = 0.9926, parameters = 85402, training time = 86.64732313156128\n",
      "best accuracy = 0.993, parameters = 41066, training time = 86.43769860267639\n",
      "best accuracy = 0.9906, parameters = 24850, training time = 86.32864189147949\n",
      "best accuracy = 0.9918, parameters = 12602, training time = 86.23136878013611\n",
      "best accuracy = 0.9883, parameters = 7966, training time = 85.96549391746521\n",
      "best accuracy = 0.9893, parameters = 4322, training time = 85.78358960151672\n",
      "best accuracy = 0.984, parameters = 2872, training time = 85.6020896434784\n",
      "best accuracy = 0.9743, parameters = 1670, training time = 85.50091242790222\n",
      "best accuracy = 0.9929, parameters = 573834, training time = 276.88317680358887\n",
      "best accuracy = 0.9934, parameters = 335146, training time = 217.88841795921326\n",
      "best accuracy = 0.9943, parameters = 159946, training time = 153.18338561058044\n",
      "best accuracy = 0.9922, parameters = 96154, training time = 116.24410200119019\n",
      "best accuracy = 0.9921, parameters = 48234, training time = 87.36872839927673\n",
      "best accuracy = 0.9927, parameters = 30226, training time = 87.0767240524292\n",
      "best accuracy = 0.9904, parameters = 16186, training time = 86.72661280632019\n",
      "best accuracy = 0.989, parameters = 10654, training time = 86.48924708366394\n",
      "best accuracy = 0.9885, parameters = 6114, training time = 86.5588264465332\n",
      "best accuracy = 0.9857, parameters = 4216, training time = 86.2181921005249\n",
      "best accuracy = 0.9761, parameters = 2566, training time = 86.68585896492004\n"
     ]
    }
   ],
   "source": [
    "device_name = 'cuda' if torch.cuda.is_available() else 'cpu'\n",
    "\n",
    "for i in range(4):\n",
    "    for extra_pad in [0, 1, 2]:\n",
    "        for pair in TrainHelper.train_models([MyMobileNetV1(n, extra_pad) for n in reversed(channel_counts)], device_name=device_name):\n",
    "            results[extra_pad].append(pair)"
   ]
  },
  {
   "cell_type": "code",
   "execution_count": 13,
   "metadata": {
    "ExecuteTime": {
     "end_time": "2023-04-07T21:52:18.195456399Z",
     "start_time": "2023-04-07T21:52:17.808096985Z"
    }
   },
   "outputs": [
    {
     "name": "stderr",
     "output_type": "stream",
     "text": [
      "No artists with labels found to put in legend.  Note that artists whose label start with an underscore are ignored when legend() is called with no argument.\n"
     ]
    },
    {
     "data": {
      "image/png": "[encoded data removed]",
      "text/plain": [
       "<Figure size 1200x1200 with 1 Axes>"
      ]
     },
     "metadata": {},
     "output_type": "display_data"
    }
   ],
   "source": [
    "plt.rcParams['figure.figsize'] = [12, 12]\n",
    "fig, ax = plt.subplots()\n",
    "ax.set_xscale(\"log\")\n",
    "ax.set_ylim(0.97, 1)\n",
    "\n",
    "for extra_pad, color in [(0, 'red'), (1, 'green'), (2, 'blue')]:\n",
    "    ax.scatter([p[0] for p in results[extra_pad]], [p[1] for p in results[extra_pad]], c=color, alpha=0.5, marker=r'.')\n",
    "\n",
    "ax.legend()\n",
    "plt.show()"
   ]
  }
 ],
 "metadata": {
  "kernelspec": {
   "display_name": "Python 3 (ipykernel)",
   "language": "python",
   "name": "python3"
  },
  "language_info": {
   "codemirror_mode": {
    "name": "ipython",
    "version": 3
   },
   "file_extension": ".py",
   "mimetype": "text/x-python",
   "name": "python",
   "nbconvert_exporter": "python",
   "pygments_lexer": "ipython3",
   "version": "3.10.6"
  }
 },
 "nbformat": 4,
 "nbformat_minor": 1
}
