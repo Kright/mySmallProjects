{
 "cells": [
  {
   "metadata": {},
   "cell_type": "raw",
   "source": [
    "# Idea:\n",
    "Compare numbers, complex numbers and elements from GA2 (scalar, x, y, x^y)\n",
    "Network consists of convolutions 3x3, PixelNorm and LeakyReLU, MaxPool2d layers and convolution with kernel 2x2 and 1x1 at the end\n",
    "\n",
    "# Result\n",
    "\n",
    "Suprisingly, convolution network with mnist task is working better with GA2 elements in terms of `accuracy / trainable parameters ratio`"
   ]
  },
  {
   "metadata": {
    "collapsed": false,
    "ExecuteTime": {
     "end_time": "2024-01-14T13:04:32.073322Z",
     "start_time": "2024-01-14T13:04:32.069852Z"
    }
   },
   "cell_type": "code",
   "outputs": [],
   "source": [
    "import time\n",
    "from typing import Optional, Tuple, List\n",
    "\n",
    "import matplotlib.pyplot as plt\n",
    "import numpy as np\n",
    "import torch\n",
    "import torch.nn as nn\n",
    "from torch.autograd import Variable\n",
    "from torch.utils.data import DataLoader\n",
    "\n",
    "from myutil import Bias, GA2Mag, PixelNorm2d"
   ],
   "execution_count": 11
  },
  {
   "cell_type": "code",
   "outputs": [
    {
     "data": {
      "text/plain": [
       "'2.0.1+cu117'"
      ]
     },
     "metadata": {},
     "output_type": "execute_result",
     "execution_count": 12
    }
   ],
   "source": [
    "torch.__version__"
   ],
   "metadata": {
    "collapsed": false,
    "ExecuteTime": {
     "end_time": "2024-01-14T13:04:32.105661Z",
     "start_time": "2024-01-14T13:04:32.101780Z"
    }
   },
   "execution_count": 12
  },
  {
   "cell_type": "code",
   "outputs": [],
   "source": [
    "from torchvision import datasets\n",
    "from torchvision.transforms import ToTensor\n",
    "\n",
    "train_data = datasets.MNIST(\n",
    "    root='models/mnist',\n",
    "    train=True,\n",
    "    transform=ToTensor(),\n",
    "    download=True,\n",
    ")\n",
    "\n",
    "test_data = datasets.MNIST(\n",
    "    root='models/mnist',\n",
    "    train=False,\n",
    "    transform=ToTensor(),\n",
    "    download=True,\n",
    ")"
   ],
   "metadata": {
    "collapsed": false,
    "ExecuteTime": {
     "end_time": "2024-01-14T13:04:32.190062Z",
     "start_time": "2024-01-14T13:04:32.125471Z"
    }
   },
   "execution_count": 13
  },
  {
   "cell_type": "code",
   "outputs": [],
   "source": [
    "class TrainHelper:\n",
    "    @staticmethod\n",
    "    def train(cnn: nn.Module,\n",
    "              *,\n",
    "              epochs: int,\n",
    "              train_dataset: datasets.MNIST,\n",
    "              test_dataset: Optional[datasets.MNIST] = None,\n",
    "              print_results: bool = True,\n",
    "              batch_size: int,\n",
    "              device_name: str) -> List[float]:\n",
    "\n",
    "        train_loader = torch.utils.data.DataLoader(train_dataset,\n",
    "                                                   batch_size=batch_size,\n",
    "                                                   shuffle=True,\n",
    "                                                   num_workers=1)\n",
    "\n",
    "        device = torch.device(device_name)\n",
    "\n",
    "        cnn.to(device)\n",
    "        cnn.train()\n",
    "\n",
    "        optimizer = torch.optim.Adam(cnn.parameters(), lr=0.001)\n",
    "        loss_func = nn.CrossEntropyLoss()\n",
    "\n",
    "        eval_results: List[float] = []\n",
    "\n",
    "        for epoch in range(epochs):\n",
    "            for images, labels in train_loader:\n",
    "                images = Variable(images.to(device))\n",
    "                labels = Variable(labels.to(device))\n",
    "\n",
    "                output = cnn(images)\n",
    "                loss = loss_func(output, labels)\n",
    "\n",
    "                optimizer.zero_grad()\n",
    "                loss.backward()\n",
    "                optimizer.step()\n",
    "\n",
    "            if test_dataset is not None:\n",
    "                eval_result = TrainHelper.test(cnn, test_dataset, device)\n",
    "                eval_results.append(eval_result)\n",
    "                if print_results:\n",
    "                    print(f\"epoch {epoch}, accuracy = {eval_result}, loss = {loss.detach()}\")\n",
    "                cnn.train()\n",
    "\n",
    "        return eval_results\n",
    "\n",
    "    @staticmethod\n",
    "    def test(cnn: nn.Module, test_dataset: datasets.MNIST, device=None) -> float:\n",
    "        cnn.eval()\n",
    "        loader = torch.utils.data.DataLoader(test_dataset, batch_size=128, shuffle=False, num_workers=1)\n",
    "        correct = 0\n",
    "        incorrect = 0\n",
    "\n",
    "        for images, labels in loader:\n",
    "            if device is not None:\n",
    "                images = images.to(device)\n",
    "\n",
    "            results = cnn(images)\n",
    "            predictions = results.detach().cpu().numpy().argmax(axis=1)\n",
    "            oks = (predictions == labels.numpy()).sum()\n",
    "            correct += oks\n",
    "            incorrect += len(predictions) - oks\n",
    "\n",
    "        return correct / (correct + incorrect)\n",
    "\n",
    "    @staticmethod\n",
    "    def train_models(models: List[nn.Module], device_name: str) -> Tuple[int, float]:\n",
    "        \"\"\"\n",
    "        generator yields pair (trainable parameters count, best accuracy) for each network\n",
    "        :param device_name: 'cuda' or 'cpu'\n",
    "        \"\"\"\n",
    "        assert len(models) > 0\n",
    "\n",
    "        for model in models:\n",
    "            start = time.time()\n",
    "            eval_results = TrainHelper.train(\n",
    "                cnn=model,\n",
    "                epochs=20,\n",
    "                train_dataset=train_data,\n",
    "                test_dataset=test_data,\n",
    "                batch_size=2048,\n",
    "                device_name=device_name,\n",
    "                print_results=False\n",
    "            )\n",
    "            end = time.time()\n",
    "            best_acc = max(eval_results)\n",
    "            params_count = TrainHelper.total_parameters_count(model)\n",
    "            print(f\"best accuracy = {best_acc}, parameters = {params_count}, training time = {end - start}\")\n",
    "            yield params_count, best_acc\n",
    "\n",
    "    @staticmethod\n",
    "    def total_parameters_count(model: nn.Module) -> int:\n",
    "        return sum(np.prod(p.size()) for p in model.parameters())\n",
    "\n",
    "    @staticmethod\n",
    "    def print_parameters(model: nn.Module):\n",
    "        print(f\"total parameters = {TrainHelper.total_parameters_count(model)}\")\n",
    "        for p in model.parameters():\n",
    "            print(f\"size {np.prod(p.size())}: {p.size()}\")"
   ],
   "metadata": {
    "collapsed": false,
    "ExecuteTime": {
     "end_time": "2024-01-14T13:04:32.207062Z",
     "start_time": "2024-01-14T13:04:32.192682Z"
    }
   },
   "execution_count": 14
  },
  {
   "cell_type": "code",
   "outputs": [],
   "source": [
    "class ComplexConv2d(nn.Module):\n",
    "    \"\"\"\n",
    "    no bias!\n",
    "    first half of channels is real part, second half - imaginary\n",
    "    \"\"\"\n",
    "\n",
    "    def __init__(self, in_ch_complex: int, out_ch_complex: int, *, kernel_size: int):\n",
    "        super(ComplexConv2d, self).__init__()\n",
    "        self.in_ch_complex = in_ch_complex\n",
    "        self.out_ch_complex = out_ch_complex\n",
    "\n",
    "        self.conv_re = nn.Conv2d(in_ch_complex, out_ch_complex, bias=False, stride=1, kernel_size=kernel_size,padding='valid')\n",
    "        self.conv_im = nn.Conv2d(in_ch_complex, out_ch_complex, bias=False, stride=1, kernel_size=kernel_size,padding='valid')\n",
    "\n",
    "    def forward(self, x):\n",
    "        assert x.size()[1] == self.in_ch_complex * 2\n",
    "        re, im = x[:, :self.in_ch_complex], x[:, self.in_ch_complex:]\n",
    "\n",
    "        out_re = self.conv_re(re) - self.conv_im(im)\n",
    "        out_im = self.conv_im(re) + self.conv_re(im)\n",
    "\n",
    "        return torch.cat([out_re, out_im], dim=1)\n",
    "\n",
    "\n",
    "class GA2Conv2d(nn.Module):\n",
    "    \"\"\"\n",
    "    no bias!\n",
    "    GA(2, 0, 1), so it has x, y where xx = 1, yy = 1\n",
    "    \"\"\"\n",
    "\n",
    "    def __init__(self, in_ch_ga2: int, out_ch_ga2: int, *, kernel_size: int):\n",
    "        super(GA2Conv2d, self).__init__()\n",
    "        self.in_ch = in_ch_ga2\n",
    "        self.out_ch = out_ch_ga2\n",
    "        self.convs = nn.ParameterList(\n",
    "            [nn.Conv2d(self.in_ch, self.out_ch, bias=False, stride=1, kernel_size=kernel_size, padding='valid') for _ in range(4)]\n",
    "        )\n",
    "\n",
    "    def forward(self, x):\n",
    "        assert x.size()[1] == self.in_ch * 4\n",
    "\n",
    "        ch = self.in_ch\n",
    "        s, x, y, xy = x[:, :ch], x[:, ch:2 * ch], x[:, 2 * ch:3 * ch], x[:, 3 * ch:4 * ch]\n",
    "\n",
    "        c_s, c_x, c_y, c_xy = self.convs\n",
    "\n",
    "        # (a + b x + c y + d xy) (e + f x + g y + h xy) == \n",
    "        # (ae + bf + cg + dh) + (af + be - ch + dg)x + (ag + bh + ce - df)y + (ah + bg - cf + de)xy\n",
    "\n",
    "        # a => c_s, b => c_x, c => c_y, d => c_xy\n",
    "        # e => s, f => x, g => y, h => xy \n",
    "\n",
    "        out_lst = [\n",
    "            c_s(s) + c_x(x) + c_y(y) + c_xy(xy),\n",
    "            c_s(x) + c_x(s) - c_y(xy) + c_xy(y),\n",
    "            c_s(y) + c_x(xy) + c_y(s) - c_xy(x),\n",
    "            c_s(xy) + c_x(y) - c_y(x) + c_xy(s),\n",
    "        ]\n",
    "\n",
    "        return torch.cat(out_lst, dim=1)"
   ],
   "metadata": {
    "collapsed": false,
    "ExecuteTime": {
     "end_time": "2024-01-14T13:04:32.214917Z",
     "start_time": "2024-01-14T13:04:32.207928Z"
    }
   },
   "execution_count": 15
  },
  {
   "cell_type": "code",
   "outputs": [],
   "source": [
    "class MyConvModel(nn.Module):\n",
    "    def __init__(self, channels: int, mode: str):\n",
    "        super(MyConvModel, self).__init__()\n",
    "        self.channels = channels\n",
    "        self.mode = mode\n",
    "\n",
    "        c = channels\n",
    "        self.conv1 = self.conv(1, c, kernel_size=3)  # 28 - 26\n",
    "        self.conv2 = self.conv(c, c, kernel_size=3, max_pool=2)  # 26 - 24 - 12\n",
    "        self.conv3 = self.conv(c, c * 2, kernel_size=3)  # 12 - 10\n",
    "        self.conv4 = self.conv(c * 2, c * 2, kernel_size=3, max_pool=2)  # 10 - 8 - 4\n",
    "        self.conv5 = self.conv(c * 2, c * 4, kernel_size=3)  # 4 - 2\n",
    "        self.conv6 = self.conv(c * 4, c * 4, kernel_size=2)  # 2 - 1\n",
    "        self.conv7 = self.conv(c * 4, 10, kernel_size=1, use_activation=False, use_bn=False)\n",
    "        self.to_real: Optional[nn.Module] = GA2Mag()\n",
    "        self.flatten = nn.Flatten()\n",
    "\n",
    "    def conv(self, in_ch: int, out_ch: int, *, kernel_size, max_pool: int = 1, use_activation: bool = True, use_bn: bool = True):\n",
    "        layers: List[nn.Module] = []\n",
    "\n",
    "        if self.mode == 'complex':\n",
    "            layers.append(ComplexConv2d(in_ch * 2, out_ch * 2, kernel_size=kernel_size))\n",
    "        elif self.mode == 'ga2':\n",
    "            layers.append(GA2Conv2d(in_ch, out_ch, kernel_size=kernel_size))\n",
    "        elif self.mode == 'naive':\n",
    "            layers.append(nn.Conv2d(in_ch * 4, out_ch * 4, kernel_size=kernel_size, padding='valid', bias=False))\n",
    "        else:\n",
    "            raise NameError(f\"wrong mode: {self.mode}\")\n",
    "\n",
    "        layers.append(Bias(out_ch * 4))\n",
    "        \n",
    "        if use_bn:\n",
    "            layers.append(PixelNorm2d())\n",
    "\n",
    "        if max_pool != 1:\n",
    "            layers.append(nn.MaxPool2d(kernel_size=max_pool))\n",
    "\n",
    "        if use_activation:\n",
    "            layers.append(nn.LeakyReLU(0.1))\n",
    "\n",
    "        return nn.Sequential(*layers)\n",
    "\n",
    "    def forward(self, x: torch.Tensor):\n",
    "        x = torch.cat([x, x * 0.0, x * 0.0, x*0.0], dim=1)  # convert to ga2\n",
    "        x = self.conv1(x)\n",
    "        x = self.conv2(x)\n",
    "        x = self.conv3(x)\n",
    "        x = self.conv4(x)\n",
    "        x = self.conv5(x)\n",
    "        x = self.conv6(x)\n",
    "        x = self.conv7(x)\n",
    "        if self.to_real is not None:\n",
    "            x = self.to_real(x)\n",
    "        x = self.flatten(x)\n",
    "        return x"
   ],
   "metadata": {
    "collapsed": false,
    "ExecuteTime": {
     "end_time": "2024-01-14T13:04:32.223023Z",
     "start_time": "2024-01-14T13:04:32.216065Z"
    }
   },
   "execution_count": 16
  },
  {
   "cell_type": "code",
   "outputs": [],
   "source": [
    "modes = ['naive', 'complex', 'ga2']\n",
    "channel_multipliers = [4, 6, 8, 12, 16, 24, 32]\n",
    "results = {mode: [] for mode in modes}"
   ],
   "metadata": {
    "collapsed": false,
    "ExecuteTime": {
     "end_time": "2024-01-14T13:04:32.229595Z",
     "start_time": "2024-01-14T13:04:32.224018Z"
    }
   },
   "execution_count": 17
  },
  {
   "cell_type": "markdown",
   "source": [
    "## Cell below could be executed several times to get more points"
   ],
   "metadata": {
    "collapsed": false
   }
  },
  {
   "cell_type": "code",
   "outputs": [
    {
     "name": "stdout",
     "output_type": "stream",
     "text": [
      "best accuracy = 0.9935, parameters = 54344, training time = 92.80442547798157\n",
      "best accuracy = 0.9942, parameters = 119704, training time = 94.98770380020142\n",
      "best accuracy = 0.9945, parameters = 210536, training time = 95.79285383224487\n",
      "best accuracy = 0.9951, parameters = 468616, training time = 95.42299675941467\n",
      "best accuracy = 0.9946, parameters = 828584, training time = 95.67196226119995\n",
      "best accuracy = 0.9949, parameters = 1854184, training time = 107.9557089805603\n",
      "best accuracy = 0.9949, parameters = 3287336, training time = 121.08321022987366\n",
      "best accuracy = 0.9919, parameters = 27304, training time = 92.19310975074768\n",
      "best accuracy = 0.9934, parameters = 60040, training time = 93.09030985832214\n",
      "best accuracy = 0.9938, parameters = 105512, training time = 96.6804449558258\n",
      "best accuracy = 0.9947, parameters = 234664, training time = 97.13814187049866\n",
      "best accuracy = 0.9951, parameters = 414760, training time = 120.27715182304382\n",
      "best accuracy = 0.9953, parameters = 927784, training time = 165.24439549446106\n",
      "best accuracy = 0.9951, parameters = 1644584, training time = 221.44051146507263\n",
      "best accuracy = 0.9892, parameters = 13784, training time = 95.98789119720459\n",
      "best accuracy = 0.9895, parameters = 30208, training time = 95.87045311927795\n",
      "best accuracy = 0.9908, parameters = 53000, training time = 95.44864153862\n",
      "best accuracy = 0.9934, parameters = 117688, training time = 121.79601526260376\n",
      "best accuracy = 0.9935, parameters = 207848, training time = 187.26886749267578\n",
      "best accuracy = 0.9939, parameters = 464584, training time = 269.6459095478058\n",
      "best accuracy = 0.995, parameters = 823208, training time = 353.2102973461151\n"
     ]
    }
   ],
   "source": [
    "for i in range(1):\n",
    "    for mode in modes:\n",
    "        models = [MyConvModel(n, mode=mode) for n in channel_multipliers]\n",
    "        for pair in TrainHelper.train_models(models, device_name='cuda'):\n",
    "            results[mode].append(pair)"
   ],
   "metadata": {
    "collapsed": false,
    "ExecuteTime": {
     "end_time": "2024-01-14T13:51:21.435024Z",
     "start_time": "2024-01-14T13:04:32.230360Z"
    }
   },
   "execution_count": 18
  },
  {
   "cell_type": "code",
   "outputs": [
    {
     "data": {
      "text/plain": [
       "<Figure size 1200x1200 with 1 Axes>"
      ],
      "image/png": "[encoded data removed]"
     },
     "metadata": {},
     "output_type": "display_data"
    }
   ],
   "source": [
    "plt.rcParams['figure.figsize'] = [12, 12]\n",
    "fig, ax = plt.subplots()\n",
    "ax.set_xscale(\"log\")\n",
    "ax.set_ylim(0.97, 1)\n",
    "\n",
    "mode_to_color = {\n",
    "    'naive': 'red',\n",
    "    'complex': 'green',\n",
    "    'ga2': 'blue',\n",
    "}\n",
    "\n",
    "for mode in modes:\n",
    "    mid = {}\n",
    "    for x, y in results[mode]:\n",
    "        if x not in mid:\n",
    "            mid[x] = []\n",
    "        mid[x].append(y)\n",
    "\n",
    "    mid_pairs = sorted([(x, np.mean(lst)) for x, lst in mid.items()], key=lambda pair: pair[0])\n",
    "    ax.plot([p[0] for p in mid_pairs], [p[1] for p in mid_pairs], c=mode_to_color[mode], label=mode)\n",
    "\n",
    "for mode in modes:\n",
    "    list_of_pairs = results[mode]\n",
    "    params_counts = [p[0] for p in list_of_pairs]\n",
    "    accuracies = [p[1] for p in list_of_pairs]\n",
    "\n",
    "    ax.scatter(params_counts, accuracies, c=mode_to_color[mode], alpha=0.5, marker=r'.')\n",
    "\n",
    "ax.legend()\n",
    "plt.xlabel(\"model parameters count\")\n",
    "plt.ylabel(\"accuracy\")\n",
    "plt.show()"
   ],
   "metadata": {
    "collapsed": false,
    "ExecuteTime": {
     "end_time": "2024-01-14T13:51:21.694379Z",
     "start_time": "2024-01-14T13:51:21.436078Z"
    }
   },
   "execution_count": 19
  },
  {
   "metadata": {
    "ExecuteTime": {
     "end_time": "2024-01-14T13:51:21.699218Z",
     "start_time": "2024-01-14T13:51:21.695539Z"
    }
   },
   "cell_type": "code",
   "outputs": [
    {
     "data": {
      "text/plain": [
       "{'naive': [(54344, 0.9935),\n",
       "  (119704, 0.9942),\n",
       "  (210536, 0.9945),\n",
       "  (468616, 0.9951),\n",
       "  (828584, 0.9946),\n",
       "  (1854184, 0.9949),\n",
       "  (3287336, 0.9949)],\n",
       " 'complex': [(27304, 0.9919),\n",
       "  (60040, 0.9934),\n",
       "  (105512, 0.9938),\n",
       "  (234664, 0.9947),\n",
       "  (414760, 0.9951),\n",
       "  (927784, 0.9953),\n",
       "  (1644584, 0.9951)],\n",
       " 'ga2': [(13784, 0.9892),\n",
       "  (30208, 0.9895),\n",
       "  (53000, 0.9908),\n",
       "  (117688, 0.9934),\n",
       "  (207848, 0.9935),\n",
       "  (464584, 0.9939),\n",
       "  (823208, 0.995)]}"
      ]
     },
     "metadata": {},
     "output_type": "execute_result",
     "execution_count": 20
    }
   ],
   "source": [
    "results"
   ],
   "execution_count": 20
  }
 ],
 "metadata": {
  "kernelspec": {
   "display_name": "Python 3",
   "language": "python",
   "name": "python3"
  },
  "language_info": {
   "codemirror_mode": {
    "name": "ipython",
    "version": 2
   },
   "file_extension": ".py",
   "mimetype": "text/x-python",
   "name": "python",
   "nbconvert_exporter": "python",
   "pygments_lexer": "ipython2",
   "version": "2.7.6"
  }
 },
 "nbformat": 4,
 "nbformat_minor": 0
}
