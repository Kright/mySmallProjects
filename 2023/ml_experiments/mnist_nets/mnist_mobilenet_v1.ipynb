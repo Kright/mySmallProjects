{
 "cells": [
  {
   "cell_type": "code",
   "execution_count": 1,
   "metadata": {
    "ExecuteTime": {
     "end_time": "2023-04-10T15:17:25.089420Z",
     "start_time": "2023-04-10T15:17:24.230912Z"
    }
   },
   "outputs": [],
   "source": [
    "import time\n",
    "from typing import Optional, Tuple, List\n",
    "\n",
    "import matplotlib.pyplot as plt\n",
    "import numpy as np\n",
    "import torch\n",
    "import torch.nn as nn\n",
    "from torch.autograd import Variable\n",
    "from torch.utils.data import DataLoader"
   ]
  },
  {
   "cell_type": "markdown",
   "metadata": {},
   "source": [
    "# Mobilenet v1: [https://arxiv.org/abs/1704.04861](https://arxiv.org/abs/1704.04861)"
   ]
  },
  {
   "cell_type": "code",
   "execution_count": 2,
   "metadata": {
    "ExecuteTime": {
     "end_time": "2023-04-10T15:17:27.336344Z",
     "start_time": "2023-04-10T15:17:27.329421Z"
    }
   },
   "outputs": [
    {
     "data": {
      "text/plain": [
       "True"
      ]
     },
     "execution_count": 2,
     "metadata": {},
     "output_type": "execute_result"
    }
   ],
   "source": [
    "torch.cuda.is_available()"
   ]
  },
  {
   "cell_type": "code",
   "execution_count": 3,
   "metadata": {},
   "outputs": [
    {
     "data": {
      "text/plain": [
       "'1.13.1+cu117'"
      ]
     },
     "execution_count": 3,
     "metadata": {},
     "output_type": "execute_result"
    }
   ],
   "source": [
    "torch.__version__"
   ]
  },
  {
   "cell_type": "code",
   "execution_count": 4,
   "metadata": {
    "ExecuteTime": {
     "end_time": "2023-04-07T21:00:11.141029078Z",
     "start_time": "2023-04-07T21:00:10.878262311Z"
    }
   },
   "outputs": [],
   "source": [
    "from torchvision import datasets\n",
    "from torchvision.transforms import ToTensor\n",
    "\n",
    "train_data = datasets.MNIST(\n",
    "    root='../models/mnist',\n",
    "    train=True,\n",
    "    transform=ToTensor(),\n",
    "    download=True,\n",
    ")\n",
    "\n",
    "test_data = datasets.MNIST(\n",
    "    root='../models/mnist',\n",
    "    train=False,\n",
    "    transform=ToTensor(),\n",
    "    download=True,\n",
    ")"
   ]
  },
  {
   "cell_type": "code",
   "execution_count": 5,
   "metadata": {
    "ExecuteTime": {
     "end_time": "2023-04-10T15:18:22.641902Z",
     "start_time": "2023-04-10T15:18:22.635892Z"
    }
   },
   "outputs": [],
   "source": [
    "class TrainHelper:\n",
    "    @staticmethod\n",
    "    def train(cnn: nn.Module,\n",
    "              *,\n",
    "              epochs: int,\n",
    "              train_dataset: datasets.MNIST,\n",
    "              test_dataset: Optional[datasets.MNIST] = None,\n",
    "              print_results: bool = True,\n",
    "              batch_size: int,\n",
    "              device_name: str) -> List[float]:\n",
    "\n",
    "        train_loader = torch.utils.data.DataLoader(train_dataset,\n",
    "                                                   batch_size=batch_size,\n",
    "                                                   shuffle=True,\n",
    "                                                   num_workers=1)\n",
    "\n",
    "        device = torch.device(device_name)\n",
    "\n",
    "        cnn.to(device)\n",
    "        cnn.train()\n",
    "\n",
    "        optimizer = torch.optim.Adam(cnn.parameters(), lr=0.001)\n",
    "        loss_func = nn.CrossEntropyLoss()\n",
    "\n",
    "        eval_results: List[float] = []\n",
    "\n",
    "        for epoch in range(epochs):\n",
    "            for images, labels in train_loader:\n",
    "                images = Variable(images.to(device))\n",
    "                labels = Variable(labels.to(device))\n",
    "\n",
    "                output = cnn(images)\n",
    "                loss = loss_func(output, labels)\n",
    "\n",
    "                optimizer.zero_grad()\n",
    "                loss.backward()\n",
    "                optimizer.step()\n",
    "\n",
    "            if test_dataset is not None:\n",
    "                eval_result = TrainHelper.test(cnn, test_dataset, device)\n",
    "                eval_results.append(eval_result)\n",
    "                if print_results:\n",
    "                    print(f\"epoch {epoch}, accuracy = {eval_result}, loss = {loss.detach()}\")\n",
    "                cnn.train()\n",
    "\n",
    "        return eval_results\n",
    "\n",
    "    @staticmethod\n",
    "    def test(cnn: nn.Module, test_dataset: datasets.MNIST, device=None) -> float:\n",
    "        cnn.eval()\n",
    "        loader = torch.utils.data.DataLoader(test_dataset, batch_size=128, shuffle=False, num_workers=1)\n",
    "        correct = 0\n",
    "        incorrect = 0\n",
    "\n",
    "        for images, labels in loader:\n",
    "            if device is not None:\n",
    "                images = images.to(device)\n",
    "\n",
    "            results = cnn(images)\n",
    "            predictions = results.detach().cpu().numpy().argmax(axis=1)\n",
    "            oks = (predictions == labels.numpy()).sum()\n",
    "            correct += oks\n",
    "            incorrect += len(predictions) - oks\n",
    "\n",
    "        return correct / (correct + incorrect)\n",
    "\n",
    "    @staticmethod\n",
    "    def train_models(models: List[nn.Module], device_name: str) -> Tuple[int, float]:\n",
    "        \"\"\"\n",
    "        generator yields pair (trainable parameters count, best accuracy) for each network\n",
    "        :param device_name: 'cuda' or 'cpu'\n",
    "        \"\"\"\n",
    "        assert len(models) > 0\n",
    "\n",
    "        for model in models:\n",
    "            start = time.time()\n",
    "            eval_results = TrainHelper.train(\n",
    "                cnn=model,\n",
    "                epochs=20,\n",
    "                train_dataset=train_data,\n",
    "                test_dataset=test_data,\n",
    "                batch_size=1024,\n",
    "                device_name=device_name,\n",
    "                print_results=False\n",
    "            )\n",
    "            end = time.time()\n",
    "            best_acc = max(eval_results)\n",
    "            params_count = TrainHelper.total_parameters_count(model)\n",
    "            print(f\"best accuracy = {best_acc}, parameters = {params_count}, training time = {end - start}\")\n",
    "            yield params_count, best_acc\n",
    "\n",
    "    @staticmethod\n",
    "    def total_parameters_count(model: nn.Module) -> int:\n",
    "        return sum(np.prod(p.size()) for p in model.parameters())\n",
    "\n",
    "    @staticmethod\n",
    "    def print_parameters(model: nn.Module):\n",
    "        print(f\"total parameters = {TrainHelper.total_parameters_count(model)}\")\n",
    "        for p in model.parameters():\n",
    "            print(f\"size {np.prod(p.size())}: {p.size()}\")"
   ]
  },
  {
   "cell_type": "code",
   "execution_count": 6,
   "metadata": {
    "ExecuteTime": {
     "end_time": "2023-04-10T15:18:26.169612Z",
     "start_time": "2023-04-10T15:18:26.106091Z"
    }
   },
   "outputs": [],
   "source": [
    "class MyMobileNetV1(nn.Module):\n",
    "    def __init__(self, channels: int, nonlinear_mid: bool):\n",
    "        super(MyMobileNetV1, self).__init__()\n",
    "        self.nonlinear_mid = nonlinear_mid\n",
    "\n",
    "        c = channels\n",
    "        self.layers = nn.Sequential(\n",
    "            nn.Conv2d(1, c, groups=1, kernel_size=3, padding='valid', bias=False),         # 28 - 26\n",
    "            nn.BatchNorm2d(c),\n",
    "            nn.LeakyReLU(0.1),\n",
    "\n",
    "            self.conv(c, c, kernel_size=3),         # 26 - 24\n",
    "            nn.MaxPool2d(2),                        # 24 - 12\n",
    "\n",
    "            self.conv(c, c * 2, kernel_size=3),     # 12 - 10\n",
    "            self.conv(c * 2, c * 2, kernel_size=3), # 10 - 8\n",
    "            nn.MaxPool2d(2),                        # 8 - 4\n",
    "\n",
    "            self.conv(c * 2, c * 4, kernel_size=3), # 4 - 2\n",
    "            self.conv(c * 4, c * 4, kernel_size=2), # 2 - 1\n",
    "\n",
    "            nn.Conv2d(c * 4, 10, kernel_size=1, padding='valid', bias=True),\n",
    "            nn.Flatten(),\n",
    "        )\n",
    "\n",
    "    def conv(self, in_ch: int, out_ch: int, *, kernel_size):\n",
    "        depthwise_conv = nn.Conv2d(in_ch, in_ch, groups=in_ch , kernel_size=kernel_size, padding='valid', bias=False)\n",
    "        channelwise_conv = nn.Conv2d(in_ch, out_ch, groups=1, kernel_size=1, padding='valid', bias=False)\n",
    "\n",
    "        if self.nonlinear_mid:\n",
    "            return nn.Sequential(\n",
    "                depthwise_conv,\n",
    "                nn.BatchNorm2d(in_ch),\n",
    "                nn.LeakyReLU(0.1),\n",
    "                channelwise_conv,\n",
    "                nn.BatchNorm2d(out_ch),\n",
    "                nn.LeakyReLU(0.1)\n",
    "            )\n",
    "        else:\n",
    "            return nn.Sequential(\n",
    "                depthwise_conv,\n",
    "                channelwise_conv,\n",
    "                nn.BatchNorm2d(out_ch),\n",
    "                nn.LeakyReLU(0.1)\n",
    "            )\n",
    "\n",
    "    def forward(self, x: torch.Tensor):\n",
    "        return self.layers(x)"
   ]
  },
  {
   "cell_type": "code",
   "execution_count": 7,
   "metadata": {
    "ExecuteTime": {
     "end_time": "2023-04-10T15:18:32.457734Z",
     "start_time": "2023-04-10T15:18:32.450434Z"
    }
   },
   "outputs": [],
   "source": [
    "results_no_mid = []\n",
    "results_nonlinear_mid = []\n",
    "channel_counts = [4, 6, 8, 12, 16, 24, 32, 48, 64, 96, 128]"
   ]
  },
  {
   "cell_type": "code",
   "execution_count": 8,
   "metadata": {
    "ExecuteTime": {
     "end_time": "2023-04-07T21:52:17.808271916Z",
     "start_time": "2023-04-07T21:01:08.931635635Z"
    }
   },
   "outputs": [
    {
     "name": "stdout",
     "output_type": "stream",
     "text": [
      "best accuracy = 0.9709, parameters = 1094, training time = 84.41824269294739\n",
      "best accuracy = 0.9808, parameters = 2008, training time = 82.86199283599854\n",
      "best accuracy = 0.987, parameters = 3170, training time = 82.6839599609375\n",
      "best accuracy = 0.9889, parameters = 6238, training time = 82.96412301063538\n",
      "best accuracy = 0.9908, parameters = 10298, training time = 83.09248471260071\n",
      "best accuracy = 0.9931, parameters = 21394, training time = 82.90012979507446\n",
      "best accuracy = 0.9921, parameters = 36458, training time = 83.32740616798401\n",
      "best accuracy = 0.9928, parameters = 78490, training time = 83.71057772636414\n",
      "best accuracy = 0.9925, parameters = 136394, training time = 83.92194056510925\n",
      "best accuracy = 0.9935, parameters = 299818, training time = 101.42006301879883\n",
      "best accuracy = 0.9947, parameters = 526730, training time = 134.1332733631134\n",
      "best accuracy = 0.9713, parameters = 1094, training time = 84.47342872619629\n",
      "best accuracy = 0.9811, parameters = 2008, training time = 84.3250138759613\n",
      "best accuracy = 0.9856, parameters = 3170, training time = 83.77811765670776\n",
      "best accuracy = 0.9886, parameters = 6238, training time = 83.81675577163696\n",
      "best accuracy = 0.9904, parameters = 10298, training time = 84.24868035316467\n",
      "best accuracy = 0.991, parameters = 21394, training time = 84.78545475006104\n",
      "best accuracy = 0.9915, parameters = 36458, training time = 83.82270860671997\n",
      "best accuracy = 0.9927, parameters = 78490, training time = 83.84053206443787\n",
      "best accuracy = 0.9933, parameters = 136394, training time = 84.72097134590149\n",
      "best accuracy = 0.9942, parameters = 299818, training time = 101.76266479492188\n",
      "best accuracy = 0.994, parameters = 526730, training time = 134.4575972557068\n",
      "best accuracy = 0.9698, parameters = 1094, training time = 85.2413558959961\n",
      "best accuracy = 0.9808, parameters = 2008, training time = 84.37221121788025\n",
      "best accuracy = 0.9863, parameters = 3170, training time = 84.31794929504395\n",
      "best accuracy = 0.9877, parameters = 6238, training time = 84.34739279747009\n",
      "best accuracy = 0.9898, parameters = 10298, training time = 83.97422218322754\n",
      "best accuracy = 0.992, parameters = 21394, training time = 83.93687772750854\n",
      "best accuracy = 0.9915, parameters = 36458, training time = 83.70132994651794\n",
      "best accuracy = 0.9932, parameters = 78490, training time = 84.07282781600952\n",
      "best accuracy = 0.992, parameters = 136394, training time = 84.83743596076965\n",
      "best accuracy = 0.9931, parameters = 299818, training time = 101.6753740310669\n",
      "best accuracy = 0.9944, parameters = 526730, training time = 134.58130192756653\n",
      "best accuracy = 0.9699, parameters = 1094, training time = 84.87755870819092\n",
      "best accuracy = 0.9801, parameters = 2008, training time = 84.46169543266296\n",
      "best accuracy = 0.9862, parameters = 3170, training time = 84.70333862304688\n",
      "best accuracy = 0.9893, parameters = 6238, training time = 84.8917760848999\n",
      "best accuracy = 0.9905, parameters = 10298, training time = 84.51021957397461\n",
      "best accuracy = 0.9918, parameters = 21394, training time = 84.0716233253479\n",
      "best accuracy = 0.9925, parameters = 36458, training time = 84.24753713607788\n",
      "best accuracy = 0.9936, parameters = 78490, training time = 84.67257118225098\n",
      "best accuracy = 0.9935, parameters = 136394, training time = 85.28112697601318\n",
      "best accuracy = 0.9928, parameters = 299818, training time = 101.89695024490356\n",
      "best accuracy = 0.995, parameters = 526730, training time = 134.44481253623962\n"
     ]
    }
   ],
   "source": [
    "device_name = 'cuda' if torch.cuda.is_available() else 'cpu'\n",
    "\n",
    "for i in range(4):\n",
    "    for pair in TrainHelper.train_models([MyMobileNetV1(n, nonlinear_mid=False) for n in channel_counts], device_name=device_name):\n",
    "        results_no_mid.append(pair)"
   ]
  },
  {
   "cell_type": "code",
   "execution_count": 9,
   "metadata": {},
   "outputs": [
    {
     "name": "stdout",
     "output_type": "stream",
     "text": [
      "best accuracy = 0.957, parameters = 1174, training time = 85.45157837867737\n",
      "best accuracy = 0.9749, parameters = 2128, training time = 84.91150736808777\n",
      "best accuracy = 0.9812, parameters = 3330, training time = 84.4858603477478\n",
      "best accuracy = 0.9854, parameters = 6478, training time = 84.73620557785034\n",
      "best accuracy = 0.9874, parameters = 10618, training time = 85.04801774024963\n",
      "best accuracy = 0.9878, parameters = 21874, training time = 84.97305178642273\n",
      "best accuracy = 0.9882, parameters = 37098, training time = 84.75248599052429\n",
      "best accuracy = 0.989, parameters = 79450, training time = 84.60826373100281\n",
      "best accuracy = 0.9913, parameters = 137674, training time = 85.28315997123718\n",
      "best accuracy = 0.9928, parameters = 301738, training time = 114.94288349151611\n",
      "best accuracy = 0.9922, parameters = 529290, training time = 151.54352378845215\n",
      "best accuracy = 0.9635, parameters = 1174, training time = 86.24637532234192\n",
      "best accuracy = 0.9726, parameters = 2128, training time = 85.91931080818176\n",
      "best accuracy = 0.9843, parameters = 3330, training time = 85.52181601524353\n",
      "best accuracy = 0.984, parameters = 6478, training time = 85.75669074058533\n",
      "best accuracy = 0.9863, parameters = 10618, training time = 85.41307950019836\n",
      "best accuracy = 0.9902, parameters = 21874, training time = 85.21162152290344\n",
      "best accuracy = 0.9891, parameters = 37098, training time = 85.5319333076477\n",
      "best accuracy = 0.9886, parameters = 79450, training time = 88.74820709228516\n",
      "best accuracy = 0.991, parameters = 137674, training time = 91.13683152198792\n",
      "best accuracy = 0.9901, parameters = 301738, training time = 123.56547403335571\n",
      "best accuracy = 0.9924, parameters = 529290, training time = 164.71156096458435\n",
      "best accuracy = 0.9627, parameters = 1174, training time = 89.37566757202148\n",
      "best accuracy = 0.9761, parameters = 2128, training time = 87.52941727638245\n",
      "best accuracy = 0.984, parameters = 3330, training time = 88.82888126373291\n",
      "best accuracy = 0.9865, parameters = 6478, training time = 88.75086402893066\n",
      "best accuracy = 0.9869, parameters = 10618, training time = 88.45949268341064\n",
      "best accuracy = 0.9874, parameters = 21874, training time = 88.46729612350464\n",
      "best accuracy = 0.9886, parameters = 37098, training time = 88.93549299240112\n",
      "best accuracy = 0.9906, parameters = 79450, training time = 86.91723322868347\n",
      "best accuracy = 0.9905, parameters = 137674, training time = 87.86594033241272\n",
      "best accuracy = 0.9933, parameters = 301738, training time = 118.33018255233765\n",
      "best accuracy = 0.993, parameters = 529290, training time = 156.39975595474243\n",
      "best accuracy = 0.9632, parameters = 1174, training time = 87.17037057876587\n",
      "best accuracy = 0.9751, parameters = 2128, training time = 87.30994606018066\n",
      "best accuracy = 0.98, parameters = 3330, training time = 86.87917828559875\n",
      "best accuracy = 0.9852, parameters = 6478, training time = 86.55988931655884\n",
      "best accuracy = 0.9872, parameters = 10618, training time = 86.50317144393921\n",
      "best accuracy = 0.9896, parameters = 21874, training time = 86.30596375465393\n",
      "best accuracy = 0.9895, parameters = 37098, training time = 86.54802989959717\n",
      "best accuracy = 0.9915, parameters = 79450, training time = 87.52254796028137\n",
      "best accuracy = 0.9923, parameters = 137674, training time = 91.93697500228882\n",
      "best accuracy = 0.9921, parameters = 301738, training time = 120.25301313400269\n",
      "best accuracy = 0.9924, parameters = 529290, training time = 157.7262523174286\n"
     ]
    }
   ],
   "source": [
    "device_name = 'cuda' if torch.cuda.is_available() else 'cpu'\n",
    "\n",
    "for i in range(4):\n",
    "    for pair in TrainHelper.train_models([MyMobileNetV1(n, nonlinear_mid=True) for n in channel_counts], device_name=device_name):\n",
    "        results_nonlinear_mid.append(pair)"
   ]
  },
  {
   "cell_type": "code",
   "execution_count": 10,
   "metadata": {
    "ExecuteTime": {
     "end_time": "2023-04-07T21:52:18.195456399Z",
     "start_time": "2023-04-07T21:52:17.808096985Z"
    }
   },
   "outputs": [
    {
     "name": "stderr",
     "output_type": "stream",
     "text": [
      "No artists with labels found to put in legend.  Note that artists whose label start with an underscore are ignored when legend() is called with no argument.\n"
     ]
    },
    {
     "data": {
      "image/png": "[encoded data removed]",
      "text/plain": [
       "<Figure size 1200x1200 with 1 Axes>"
      ]
     },
     "metadata": {},
     "output_type": "display_data"
    }
   ],
   "source": [
    "plt.rcParams['figure.figsize'] = [12, 12]\n",
    "fig, ax = plt.subplots()\n",
    "ax.set_xscale(\"log\")\n",
    "ax.set_ylim(0.97, 1)\n",
    "\n",
    "ax.scatter([p[0] for p in results_no_mid], [p[1] for p in results_no_mid], c='red', alpha=0.5, marker=r'.')\n",
    "ax.scatter([p[0] for p in results_nonlinear_mid], [p[1] for p in results_nonlinear_mid], c='green', alpha=0.5, marker=r'.')\n",
    "\n",
    "ax.legend()\n",
    "plt.show()"
   ]
  },
  {
   "cell_type": "markdown",
   "metadata": {},
   "source": [
    "Combination of channelwise and depthwise convolution works better without activation layer between them on my example. It's quite surprising result because original mobilenet article proposes to use activation between them.  \n",
    "\n",
    "May be my implementation is incorrect."
   ]
  }
 ],
 "metadata": {
  "kernelspec": {
   "display_name": "Python 3 (ipykernel)",
   "language": "python",
   "name": "python3"
  },
  "language_info": {
   "codemirror_mode": {
    "name": "ipython",
    "version": 3
   },
   "file_extension": ".py",
   "mimetype": "text/x-python",
   "name": "python",
   "nbconvert_exporter": "python",
   "pygments_lexer": "ipython3",
   "version": "3.10.6"
  }
 },
 "nbformat": 4,
 "nbformat_minor": 1
}
