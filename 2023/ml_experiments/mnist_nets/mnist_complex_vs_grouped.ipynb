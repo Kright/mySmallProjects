{
 "cells": [
  {
   "cell_type": "code",
   "execution_count": 1,
   "outputs": [],
   "source": [
    "import time\n",
    "from typing import Optional, Tuple, List\n",
    "\n",
    "import matplotlib.pyplot as plt\n",
    "import numpy as np\n",
    "import torch\n",
    "import torch.nn as nn\n",
    "from torch.autograd import Variable\n",
    "from torch.utils.data import DataLoader"
   ],
   "metadata": {
    "collapsed": false,
    "ExecuteTime": {
     "start_time": "2023-02-26T20:26:00.428023Z",
     "end_time": "2023-02-26T20:26:01.441637Z"
    }
   }
  },
  {
   "cell_type": "code",
   "execution_count": 12,
   "outputs": [
    {
     "data": {
      "text/plain": "'1.13.1+cu117'"
     },
     "execution_count": 12,
     "metadata": {},
     "output_type": "execute_result"
    }
   ],
   "source": [
    "torch.__version__"
   ],
   "metadata": {
    "collapsed": false,
    "ExecuteTime": {
     "start_time": "2023-02-27T17:03:45.585575Z",
     "end_time": "2023-02-27T17:03:45.596261Z"
    }
   }
  },
  {
   "cell_type": "code",
   "execution_count": 2,
   "outputs": [],
   "source": [
    "from torchvision import datasets\n",
    "from torchvision.transforms import ToTensor\n",
    "\n",
    "train_data = datasets.MNIST(\n",
    "    root='models/mnist',\n",
    "    train=True,\n",
    "    transform=ToTensor(),\n",
    "    download=True,\n",
    ")\n",
    "\n",
    "test_data = datasets.MNIST(\n",
    "    root='models/mnist',\n",
    "    train=False,\n",
    "    transform=ToTensor(),\n",
    "    download=True,\n",
    ")"
   ],
   "metadata": {
    "collapsed": false,
    "ExecuteTime": {
     "start_time": "2023-02-26T20:26:01.444490Z",
     "end_time": "2023-02-26T20:26:01.647697Z"
    }
   }
  },
  {
   "cell_type": "code",
   "execution_count": 3,
   "outputs": [],
   "source": [
    "class TrainHelper:\n",
    "    @staticmethod\n",
    "    def train(cnn: nn.Module,\n",
    "              *,\n",
    "              epochs: int,\n",
    "              train_dataset: datasets.MNIST,\n",
    "              test_dataset: Optional[datasets.MNIST] = None,\n",
    "              print_results: bool = True,\n",
    "              batch_size: int,\n",
    "              device_name: str) -> List[float]:\n",
    "\n",
    "        train_loader = torch.utils.data.DataLoader(train_dataset,\n",
    "                                                   batch_size=batch_size,\n",
    "                                                   shuffle=True,\n",
    "                                                   num_workers=1)\n",
    "\n",
    "        device = torch.device(device_name)\n",
    "\n",
    "        cnn.to(device)\n",
    "        cnn.train()\n",
    "\n",
    "        optimizer = torch.optim.Adam(cnn.parameters(), lr=0.001)\n",
    "        loss_func = nn.CrossEntropyLoss()\n",
    "\n",
    "        eval_results: List[float] = []\n",
    "\n",
    "        for epoch in range(epochs):\n",
    "            for images, labels in train_loader:\n",
    "                images = Variable(images.to(device))\n",
    "                labels = Variable(labels.to(device))\n",
    "\n",
    "                output = cnn(images)\n",
    "                loss = loss_func(output, labels)\n",
    "\n",
    "                optimizer.zero_grad()\n",
    "                loss.backward()\n",
    "                optimizer.step()\n",
    "\n",
    "            if test_dataset is not None:\n",
    "                eval_result = TrainHelper.test(cnn, test_dataset, device)\n",
    "                eval_results.append(eval_result)\n",
    "                if print_results:\n",
    "                    print(f\"epoch {epoch}, accuracy = {eval_result}, loss = {loss.detach()}\")\n",
    "                cnn.train()\n",
    "\n",
    "        return eval_results\n",
    "\n",
    "    @staticmethod\n",
    "    def test(cnn: nn.Module, test_dataset: datasets.MNIST, device=None) -> float:\n",
    "        cnn.eval()\n",
    "        loader = torch.utils.data.DataLoader(test_dataset, batch_size=128, shuffle=False, num_workers=1)\n",
    "        correct = 0\n",
    "        incorrect = 0\n",
    "\n",
    "        for images, labels in loader:\n",
    "            if device is not None:\n",
    "                images = images.to(device)\n",
    "\n",
    "            results = cnn(images)\n",
    "            predictions = results.detach().cpu().numpy().argmax(axis=1)\n",
    "            oks = (predictions == labels.numpy()).sum()\n",
    "            correct += oks\n",
    "            incorrect += len(predictions) - oks\n",
    "\n",
    "        return correct / (correct + incorrect)\n",
    "\n",
    "    @staticmethod\n",
    "    def train_models(models: List[nn.Module], device_name: str) -> Tuple[int, float]:\n",
    "        \"\"\"\n",
    "        generator yields pair (trainable parameters count, best accuracy) for each network\n",
    "        :param device_name: 'cuda' or 'cpu'\n",
    "        \"\"\"\n",
    "        assert len(models) > 0\n",
    "\n",
    "        for model in models:\n",
    "            start = time.time()\n",
    "            eval_results = TrainHelper.train(\n",
    "                cnn=model,\n",
    "                epochs=20,\n",
    "                train_dataset=train_data,\n",
    "                test_dataset=test_data,\n",
    "                batch_size=2048,\n",
    "                device_name=device_name,\n",
    "                print_results=False\n",
    "            )\n",
    "            end = time.time()\n",
    "            best_acc = max(eval_results)\n",
    "            params_count = TrainHelper.total_parameters_count(model)\n",
    "            print(f\"best accuracy = {best_acc}, parameters = {params_count}, training time = {end - start}\")\n",
    "            yield params_count, best_acc\n",
    "\n",
    "    @staticmethod\n",
    "    def total_parameters_count(model: nn.Module) -> int:\n",
    "        return sum(np.prod(p.size()) for p in model.parameters())\n",
    "\n",
    "    @staticmethod\n",
    "    def print_parameters(model: nn.Module):\n",
    "        print(f\"total parameters = {TrainHelper.total_parameters_count(model)}\")\n",
    "        for p in model.parameters():\n",
    "            print(f\"size {np.prod(p.size())}: {p.size()}\")"
   ],
   "metadata": {
    "collapsed": false,
    "ExecuteTime": {
     "start_time": "2023-02-26T20:26:01.653518Z",
     "end_time": "2023-02-26T20:26:01.658200Z"
    }
   }
  },
  {
   "cell_type": "code",
   "execution_count": 4,
   "outputs": [],
   "source": [
    "class Bias(nn.Module):\n",
    "    def __init__(self, channels: int):\n",
    "        super(Bias, self).__init__()\n",
    "        self.channels = channels\n",
    "        self.bias = nn.Parameter(torch.zeros(size=(1, channels, 1, 1)))\n",
    "\n",
    "    def forward(self, x):\n",
    "        assert x.size()[1] == self.channels, f\"unknown size = {x.size()}, expected {self.channels}\"\n",
    "        return x + self.bias\n",
    "\n",
    "\n",
    "class ComplexConv2d(nn.Module):\n",
    "    \"\"\"\n",
    "    no bias!\n",
    "    first half of channels is real part, second half - imaginary\n",
    "    \"\"\"\n",
    "\n",
    "    def __init__(self, in_ch_complex: int, out_ch_complex: int, *, kernel_size: int):\n",
    "        super(ComplexConv2d, self).__init__()\n",
    "        self.in_ch_complex = in_ch_complex\n",
    "        self.out_ch_complex = out_ch_complex\n",
    "\n",
    "        self.conv_re = nn.Conv2d(in_ch_complex, out_ch_complex, bias=False, stride=1, kernel_size=kernel_size,\n",
    "                                 padding='valid')\n",
    "        self.conv_im = nn.Conv2d(in_ch_complex, out_ch_complex, bias=False, stride=1, kernel_size=kernel_size,\n",
    "                                 padding='valid')\n",
    "\n",
    "    def forward(self, x):\n",
    "        assert x.size()[1] == self.in_ch_complex * 2\n",
    "        re, im = x[:, :self.in_ch_complex], x[:, self.in_ch_complex:]\n",
    "\n",
    "        out_re = self.conv_re(re) - self.conv_im(im)\n",
    "        out_im = self.conv_im(re) + self.conv_re(im)\n",
    "\n",
    "        return torch.cat([out_re, out_im], dim=1)\n",
    "\n",
    "\n",
    "class Grouped2Conv2d(nn.Module):\n",
    "    \"\"\"\n",
    "    no bias!\n",
    "    channels are shuffled before convolutions\n",
    "    \"\"\"\n",
    "\n",
    "    def __init__(self, in_ch_complex: int, out_ch_complex: int, *, kernel_size: int):\n",
    "        super(Grouped2Conv2d, self).__init__()\n",
    "        self.in_ch_complex = in_ch_complex\n",
    "        self.out_ch_complex = out_ch_complex\n",
    "\n",
    "        self.conv_a = nn.Conv2d(in_ch_complex, out_ch_complex, bias=False, stride=1, kernel_size=kernel_size,\n",
    "                                padding='valid')\n",
    "        self.conv_b = nn.Conv2d(in_ch_complex, out_ch_complex, bias=False, stride=1, kernel_size=kernel_size,\n",
    "                                padding='valid')\n",
    "\n",
    "    def forward(self, x):\n",
    "        assert x.size()[1] == self.in_ch_complex * 2\n",
    "        a, b = x[:, 0::2], x[:, 1::2]\n",
    "\n",
    "        out_a = self.conv_a(a)\n",
    "        out_b = self.conv_b(b)\n",
    "\n",
    "        return torch.cat([out_a, out_b], dim=1)\n",
    "\n",
    "\n",
    "class ComplexSquareMag(nn.Module):\n",
    "    def __init__(self):\n",
    "        super(ComplexSquareMag, self).__init__()\n",
    "\n",
    "    def forward(self, x):\n",
    "        channels = x.size()[1]\n",
    "        assert channels % 2 == 0\n",
    "        channels_half = channels // 2\n",
    "        re, im = x[:, :channels_half], x[:, channels_half:]\n",
    "        return re * re + im * im"
   ],
   "metadata": {
    "collapsed": false,
    "ExecuteTime": {
     "start_time": "2023-02-26T20:26:01.662839Z",
     "end_time": "2023-02-26T20:26:01.666945Z"
    }
   }
  },
  {
   "cell_type": "code",
   "execution_count": 5,
   "outputs": [],
   "source": [
    "class MyConvModel(nn.Module):\n",
    "    def __init__(self, channels: int, mode: str):\n",
    "        super(MyConvModel, self).__init__()\n",
    "        self.channels = channels\n",
    "        self.mode = mode\n",
    "\n",
    "        c = channels\n",
    "        self.conv1 = self.conv(1, c, kernel_size=3)  # 28 - 26\n",
    "        self.conv2 = self.conv(c, c, kernel_size=3, max_pool=2)  # 26 - 24 - 12\n",
    "        self.conv3 = self.conv(c, c * 2, kernel_size=3)  # 12 - 10\n",
    "        self.conv4 = self.conv(c * 2, c * 2, kernel_size=3, max_pool=2)  # 10 - 8 - 4\n",
    "        self.conv5 = self.conv(c * 2, c * 4, kernel_size=3)  # 4 - 2\n",
    "        self.conv6 = self.conv(c * 4, c * 4, kernel_size=2)  # 2 - 1\n",
    "        self.conv7 = self.conv(c * 4, 10, kernel_size=1, use_activation=False)\n",
    "        self.squareMag = ComplexSquareMag()\n",
    "        self.flatten = nn.Flatten()\n",
    "\n",
    "    def conv(self, in_ch: int, out_ch: int, *, kernel_size, max_pool: int = 1, use_activation: bool = True):\n",
    "        layers: List[nn.Module] = []\n",
    "\n",
    "        if self.mode == 'complex':\n",
    "            layers.append(ComplexConv2d(in_ch, out_ch, kernel_size=kernel_size))\n",
    "        elif self.mode == 'grouped':\n",
    "            layers.append(Grouped2Conv2d(in_ch, out_ch, kernel_size=kernel_size))\n",
    "        elif self.mode == 'naive':\n",
    "            layers.append(nn.Conv2d(in_ch * 2, out_ch * 2, kernel_size=kernel_size, padding='valid', bias=False))\n",
    "        else:\n",
    "            raise NameError(f\"wrong mode: {self.mode}\")\n",
    "\n",
    "        if max_pool != 1:\n",
    "            layers.append(nn.MaxPool2d(kernel_size=max_pool))\n",
    "\n",
    "        layers.append(Bias(out_ch * 2))\n",
    "\n",
    "        if use_activation:\n",
    "            layers.append(nn.LeakyReLU(0.1))\n",
    "\n",
    "        return nn.Sequential(*layers)\n",
    "\n",
    "    def forward(self, x: torch.Tensor):\n",
    "        x = torch.cat([x, x * 0.0], dim=1)  # convert to complex\n",
    "        x = self.conv1(x)\n",
    "        x = self.conv2(x)\n",
    "        x = self.conv3(x)\n",
    "        x = self.conv4(x)\n",
    "        x = self.conv5(x)\n",
    "        x = self.conv6(x)\n",
    "        x = self.conv7(x)\n",
    "        x = self.squareMag(x)\n",
    "        x = self.flatten(x)\n",
    "        return x"
   ],
   "metadata": {
    "collapsed": false,
    "ExecuteTime": {
     "start_time": "2023-02-26T20:26:01.672144Z",
     "end_time": "2023-02-26T20:26:01.720346Z"
    }
   }
  },
  {
   "cell_type": "code",
   "execution_count": 6,
   "outputs": [],
   "source": [
    "modes = ['naive', 'complex', 'grouped']\n",
    "channel_multipliers = [4, 6, 8, 12, 16, 24, 32, 48, 64]\n",
    "results = {mode: [] for mode in modes}"
   ],
   "metadata": {
    "collapsed": false,
    "ExecuteTime": {
     "start_time": "2023-02-26T20:26:01.720213Z",
     "end_time": "2023-02-26T20:26:01.720671Z"
    }
   }
  },
  {
   "cell_type": "markdown",
   "source": [
    "## Cell below could be executed several times to get more points"
   ],
   "metadata": {
    "collapsed": false
   }
  },
  {
   "cell_type": "code",
   "execution_count": 9,
   "outputs": [
    {
     "name": "stdout",
     "output_type": "stream",
     "text": [
      "best accuracy = 0.9789, parameters = 13652, training time = 82.76076912879944\n",
      "best accuracy = 0.9873, parameters = 30020, training time = 82.13722538948059\n",
      "best accuracy = 0.9877, parameters = 52756, training time = 82.67326068878174\n",
      "best accuracy = 0.9905, parameters = 117332, training time = 81.3103928565979\n",
      "best accuracy = 0.992, parameters = 207380, training time = 82.03486013412476\n",
      "best accuracy = 0.9926, parameters = 463892, training time = 83.0224015712738\n",
      "best accuracy = 0.9933, parameters = 822292, training time = 83.42394495010376\n",
      "best accuracy = 0.9936, parameters = 1844756, training time = 134.27495765686035\n",
      "best accuracy = 0.9941, parameters = 3274772, training time = 191.3337700366974\n",
      "best accuracy = 0.98, parameters = 6892, training time = 83.84906268119812\n",
      "best accuracy = 0.983, parameters = 15104, training time = 83.69074177742004\n",
      "best accuracy = 0.9869, parameters = 26500, training time = 84.17240023612976\n",
      "best accuracy = 0.9909, parameters = 58844, training time = 85.36031413078308\n",
      "best accuracy = 0.9904, parameters = 103924, training time = 86.80717039108276\n",
      "best accuracy = 0.9917, parameters = 232292, training time = 123.70195269584656\n",
      "best accuracy = 0.9925, parameters = 411604, training time = 153.59127068519592\n",
      "best accuracy = 0.9937, parameters = 923060, training time = 250.6230549812317\n",
      "best accuracy = 0.994, parameters = 1638292, training time = 306.5493290424347\n",
      "best accuracy = 0.9643, parameters = 6892, training time = 84.93337559700012\n",
      "best accuracy = 0.9781, parameters = 15104, training time = 84.61534070968628\n",
      "best accuracy = 0.9837, parameters = 26500, training time = 84.74567174911499\n",
      "best accuracy = 0.9885, parameters = 58844, training time = 84.7608060836792\n",
      "best accuracy = 0.9912, parameters = 103924, training time = 85.19055318832397\n",
      "best accuracy = 0.992, parameters = 232292, training time = 85.58763146400452\n",
      "best accuracy = 0.9921, parameters = 411604, training time = 97.4674928188324\n",
      "best accuracy = 0.9928, parameters = 923060, training time = 159.81301403045654\n",
      "best accuracy = 0.9946, parameters = 1638292, training time = 201.1362805366516\n",
      "best accuracy = 0.9842, parameters = 13652, training time = 86.77401661872864\n",
      "best accuracy = 0.9863, parameters = 30020, training time = 86.17065668106079\n",
      "best accuracy = 0.988, parameters = 52756, training time = 86.38573002815247\n",
      "best accuracy = 0.9902, parameters = 117332, training time = 86.27796483039856\n",
      "best accuracy = 0.991, parameters = 207380, training time = 86.30602192878723\n",
      "best accuracy = 0.9935, parameters = 463892, training time = 87.17808747291565\n",
      "best accuracy = 0.994, parameters = 822292, training time = 88.22361063957214\n",
      "best accuracy = 0.9939, parameters = 1844756, training time = 155.2893102169037\n",
      "best accuracy = 0.9926, parameters = 3274772, training time = 198.517418384552\n",
      "best accuracy = 0.9797, parameters = 6892, training time = 86.49524903297424\n",
      "best accuracy = 0.9815, parameters = 15104, training time = 89.39213442802429\n",
      "best accuracy = 0.987, parameters = 26500, training time = 89.20453524589539\n",
      "best accuracy = 0.991, parameters = 58844, training time = 89.80139136314392\n",
      "best accuracy = 0.9902, parameters = 103924, training time = 91.56576013565063\n",
      "best accuracy = 0.9924, parameters = 232292, training time = 124.76854133605957\n",
      "best accuracy = 0.9923, parameters = 411604, training time = 166.15138745307922\n",
      "best accuracy = 0.9921, parameters = 923060, training time = 263.71215987205505\n",
      "best accuracy = 0.9933, parameters = 1638292, training time = 329.17965483665466\n",
      "best accuracy = 0.9735, parameters = 6892, training time = 86.01187634468079\n",
      "best accuracy = 0.9738, parameters = 15104, training time = 85.03939032554626\n",
      "best accuracy = 0.9839, parameters = 26500, training time = 84.89920043945312\n",
      "best accuracy = 0.9886, parameters = 58844, training time = 85.37872767448425\n",
      "best accuracy = 0.9902, parameters = 103924, training time = 86.60350751876831\n",
      "best accuracy = 0.9913, parameters = 232292, training time = 88.62509799003601\n",
      "best accuracy = 0.9918, parameters = 411604, training time = 106.43802547454834\n",
      "best accuracy = 0.9927, parameters = 923060, training time = 168.35586547851562\n",
      "best accuracy = 0.994, parameters = 1638292, training time = 202.64067673683167\n",
      "best accuracy = 0.978, parameters = 13652, training time = 87.03660082817078\n",
      "best accuracy = 0.988, parameters = 30020, training time = 86.29125714302063\n",
      "best accuracy = 0.9877, parameters = 52756, training time = 86.21493601799011\n",
      "best accuracy = 0.9914, parameters = 117332, training time = 86.60208916664124\n",
      "best accuracy = 0.9905, parameters = 207380, training time = 86.82555198669434\n",
      "best accuracy = 0.9929, parameters = 463892, training time = 87.53028750419617\n",
      "best accuracy = 0.9932, parameters = 822292, training time = 86.3765618801117\n",
      "best accuracy = 0.993, parameters = 1844756, training time = 135.8038284778595\n",
      "best accuracy = 0.9942, parameters = 3274772, training time = 192.39766764640808\n",
      "best accuracy = 0.9728, parameters = 6892, training time = 85.98397135734558\n",
      "best accuracy = 0.9842, parameters = 15104, training time = 86.19481563568115\n",
      "best accuracy = 0.9872, parameters = 26500, training time = 86.17875242233276\n",
      "best accuracy = 0.9895, parameters = 58844, training time = 86.3157250881195\n",
      "best accuracy = 0.9905, parameters = 103924, training time = 88.08119583129883\n",
      "best accuracy = 0.9933, parameters = 232292, training time = 119.37509894371033\n",
      "best accuracy = 0.9933, parameters = 411604, training time = 149.02039122581482\n",
      "best accuracy = 0.9943, parameters = 923060, training time = 248.0407943725586\n",
      "best accuracy = 0.9942, parameters = 1638292, training time = 300.68216466903687\n",
      "best accuracy = 0.9712, parameters = 6892, training time = 85.57001113891602\n",
      "best accuracy = 0.9787, parameters = 15104, training time = 85.40775609016418\n",
      "best accuracy = 0.9804, parameters = 26500, training time = 85.33280110359192\n",
      "best accuracy = 0.9876, parameters = 58844, training time = 85.1633186340332\n",
      "best accuracy = 0.9895, parameters = 103924, training time = 85.32179570198059\n",
      "best accuracy = 0.9914, parameters = 232292, training time = 86.32527780532837\n",
      "best accuracy = 0.9916, parameters = 411604, training time = 95.59838390350342\n",
      "best accuracy = 0.9943, parameters = 923060, training time = 148.9109447002411\n",
      "best accuracy = 0.9933, parameters = 1638292, training time = 178.8101704120636\n",
      "best accuracy = 0.98, parameters = 13652, training time = 85.49066305160522\n",
      "best accuracy = 0.9857, parameters = 30020, training time = 84.97070360183716\n",
      "best accuracy = 0.9876, parameters = 52756, training time = 88.76499104499817\n",
      "best accuracy = 0.9906, parameters = 117332, training time = 88.12089157104492\n",
      "best accuracy = 0.9919, parameters = 207380, training time = 86.55068469047546\n",
      "best accuracy = 0.9935, parameters = 463892, training time = 87.03392887115479\n",
      "best accuracy = 0.9937, parameters = 822292, training time = 87.21240472793579\n",
      "best accuracy = 0.994, parameters = 1844756, training time = 150.28895378112793\n",
      "best accuracy = 0.9935, parameters = 3274772, training time = 214.34983777999878\n",
      "best accuracy = 0.9806, parameters = 6892, training time = 87.0729067325592\n",
      "best accuracy = 0.985, parameters = 15104, training time = 86.92511534690857\n",
      "best accuracy = 0.9857, parameters = 26500, training time = 87.5280110836029\n",
      "best accuracy = 0.9913, parameters = 58844, training time = 87.84949588775635\n",
      "best accuracy = 0.9905, parameters = 103924, training time = 96.46216869354248\n",
      "best accuracy = 0.9923, parameters = 232292, training time = 132.58146977424622\n",
      "best accuracy = 0.9926, parameters = 411604, training time = 167.27224588394165\n",
      "best accuracy = 0.9928, parameters = 923060, training time = 282.3953354358673\n",
      "best accuracy = 0.9943, parameters = 1638292, training time = 327.08260774612427\n",
      "best accuracy = 0.9673, parameters = 6892, training time = 85.51259183883667\n",
      "best accuracy = 0.9808, parameters = 15104, training time = 85.12313985824585\n",
      "best accuracy = 0.981, parameters = 26500, training time = 85.02472496032715\n",
      "best accuracy = 0.9887, parameters = 58844, training time = 85.06151628494263\n",
      "best accuracy = 0.9909, parameters = 103924, training time = 85.3030858039856\n",
      "best accuracy = 0.9917, parameters = 232292, training time = 86.11378693580627\n",
      "best accuracy = 0.9924, parameters = 411604, training time = 95.0169985294342\n",
      "best accuracy = 0.9928, parameters = 923060, training time = 149.00365781784058\n",
      "best accuracy = 0.9941, parameters = 1638292, training time = 187.71750473976135\n"
     ]
    }
   ],
   "source": [
    "device_name = 'cuda' if torch.cuda.is_available() else 'cpu'\n",
    "\n",
    "for i in range(4):\n",
    "    for mode in modes:\n",
    "        models = [MyConvModel(n, mode=mode) for n in channel_multipliers]\n",
    "        for pair in TrainHelper.train_models(models, device_name=device_name):\n",
    "            results[mode].append(pair)"
   ],
   "metadata": {
    "collapsed": false,
    "ExecuteTime": {
     "start_time": "2023-02-27T13:24:40.441826Z",
     "end_time": "2023-02-27T16:58:09.088181Z"
    }
   }
  },
  {
   "cell_type": "code",
   "execution_count": 10,
   "outputs": [
    {
     "name": "stderr",
     "output_type": "stream",
     "text": [
      "No artists with labels found to put in legend.  Note that artists whose label start with an underscore are ignored when legend() is called with no argument.\n"
     ]
    },
    {
     "data": {
      "text/plain": "<Figure size 1200x1200 with 1 Axes>",
      "image/png": "[encoded data removed]"
     },
     "metadata": {},
     "output_type": "display_data"
    }
   ],
   "source": [
    "plt.rcParams['figure.figsize'] = [12, 12]\n",
    "fig, ax = plt.subplots()\n",
    "ax.set_xscale(\"log\")\n",
    "ax.set_ylim(0.97, 1)\n",
    "\n",
    "mode_to_color = {\n",
    "    'naive': 'red',\n",
    "    'complex': 'green',\n",
    "    'grouped': 'blue',\n",
    "}\n",
    "\n",
    "for mode in modes:\n",
    "    list_of_pairs = results[mode]\n",
    "    params_counts = [p[0] for p in list_of_pairs]\n",
    "    accuracies = [p[1] for p in list_of_pairs]\n",
    "\n",
    "    ax.scatter(params_counts, accuracies, c=mode_to_color[mode], alpha=0.5, marker=r'.')\n",
    "\n",
    "ax.legend()\n",
    "plt.show()"
   ],
   "metadata": {
    "collapsed": false,
    "ExecuteTime": {
     "start_time": "2023-02-27T17:01:54.896002Z",
     "end_time": "2023-02-27T17:01:55.190760Z"
    }
   }
  },
  {
   "cell_type": "code",
   "execution_count": 11,
   "outputs": [
    {
     "name": "stderr",
     "output_type": "stream",
     "text": [
      "No artists with labels found to put in legend.  Note that artists whose label start with an underscore are ignored when legend() is called with no argument.\n"
     ]
    },
    {
     "data": {
      "text/plain": "<Figure size 1200x1200 with 1 Axes>",
      "image/png": "[encoded data removed]"
     },
     "metadata": {},
     "output_type": "display_data"
    }
   ],
   "source": [
    "plt.rcParams['figure.figsize'] = [12, 12]\n",
    "fig, ax = plt.subplots()\n",
    "ax.set_xscale(\"log\")\n",
    "ax.set_ylim(0.97, 1)\n",
    "\n",
    "mode_to_color = {\n",
    "    'naive': 'red',\n",
    "    'complex': 'green',\n",
    "    'grouped': 'blue',\n",
    "}\n",
    "\n",
    "for mode in ['naive', 'complex']:\n",
    "    list_of_pairs = results[mode]\n",
    "    params_counts = [p[0] for p in list_of_pairs]\n",
    "    accuracies = [p[1] for p in list_of_pairs]\n",
    "\n",
    "    ax.scatter(params_counts, accuracies, c=mode_to_color[mode], alpha=0.5, marker=r'.')\n",
    "\n",
    "ax.legend()\n",
    "plt.show()"
   ],
   "metadata": {
    "collapsed": false,
    "ExecuteTime": {
     "start_time": "2023-02-27T17:02:38.092522Z",
     "end_time": "2023-02-27T17:02:38.309580Z"
    }
   }
  }
 ],
 "metadata": {
  "kernelspec": {
   "display_name": "Python 3",
   "language": "python",
   "name": "python3"
  },
  "language_info": {
   "codemirror_mode": {
    "name": "ipython",
    "version": 2
   },
   "file_extension": ".py",
   "mimetype": "text/x-python",
   "name": "python",
   "nbconvert_exporter": "python",
   "pygments_lexer": "ipython2",
   "version": "2.7.6"
  }
 },
 "nbformat": 4,
 "nbformat_minor": 0
}
