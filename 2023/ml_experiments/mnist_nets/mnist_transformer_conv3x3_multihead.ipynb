{
 "cells": [
  {
   "cell_type": "code",
   "execution_count": 1,
   "outputs": [],
   "source": [
    "import time\n",
    "from typing import Optional, Tuple, List\n",
    "\n",
    "\n",
    "import matplotlib.pyplot as plt\n",
    "import numpy as np\n",
    "import torch\n",
    "import torch.nn as nn\n",
    "import torch.nn.functional as F\n",
    "from torch.autograd import Variable\n",
    "from torch.utils.data import DataLoader"
   ],
   "metadata": {
    "collapsed": false,
    "ExecuteTime": {
     "start_time": "2023-04-13T02:49:27.138040Z",
     "end_time": "2023-04-13T02:49:27.969174Z"
    }
   }
  },
  {
   "cell_type": "code",
   "execution_count": 2,
   "outputs": [
    {
     "data": {
      "text/plain": "True"
     },
     "execution_count": 2,
     "metadata": {},
     "output_type": "execute_result"
    }
   ],
   "source": [
    "torch.cuda.is_available()"
   ],
   "metadata": {
    "collapsed": false,
    "ExecuteTime": {
     "start_time": "2023-04-13T02:49:27.999846Z",
     "end_time": "2023-04-13T02:49:28.021075Z"
    }
   }
  },
  {
   "cell_type": "code",
   "execution_count": 3,
   "outputs": [
    {
     "data": {
      "text/plain": "'1.13.1+cu117'"
     },
     "execution_count": 3,
     "metadata": {},
     "output_type": "execute_result"
    }
   ],
   "source": [
    "torch.__version__"
   ],
   "metadata": {
    "collapsed": false,
    "ExecuteTime": {
     "start_time": "2023-04-13T02:49:28.002472Z",
     "end_time": "2023-04-13T02:49:28.022024Z"
    }
   }
  },
  {
   "cell_type": "code",
   "execution_count": 4,
   "outputs": [],
   "source": [
    "from torchvision import datasets\n",
    "from torchvision.transforms import ToTensor\n",
    "\n",
    "train_data = datasets.MNIST(\n",
    "    root='../models/mnist',\n",
    "    train=True,\n",
    "    transform=ToTensor(),\n",
    "    download=True,\n",
    ")\n",
    "\n",
    "test_data = datasets.MNIST(\n",
    "    root='../models/mnist',\n",
    "    train=False,\n",
    "    transform=ToTensor(),\n",
    "    download=True,\n",
    ")"
   ],
   "metadata": {
    "collapsed": false,
    "ExecuteTime": {
     "start_time": "2023-04-13T02:49:28.013937Z",
     "end_time": "2023-04-13T02:49:28.197075Z"
    }
   }
  },
  {
   "cell_type": "code",
   "execution_count": 5,
   "outputs": [],
   "source": [
    "class TrainHelper:\n",
    "    @staticmethod\n",
    "    def train(cnn: nn.Module,\n",
    "              *,\n",
    "              lr: float,\n",
    "              epochs: int,\n",
    "              train_dataset: datasets.MNIST,\n",
    "              test_dataset: Optional[datasets.MNIST] = None,\n",
    "              print_results: bool = True,\n",
    "              batch_size: int,\n",
    "              device_name: str) -> List[float]:\n",
    "\n",
    "        train_loader = torch.utils.data.DataLoader(train_dataset,\n",
    "                                                   batch_size=batch_size,\n",
    "                                                   shuffle=True,\n",
    "                                                   num_workers=1)\n",
    "\n",
    "        device = torch.device(device_name)\n",
    "\n",
    "        cnn.to(device)\n",
    "        cnn.train()\n",
    "\n",
    "        optimizer = torch.optim.Adam(cnn.parameters(), lr=lr)\n",
    "        loss_func = nn.CrossEntropyLoss()\n",
    "\n",
    "        eval_results: List[float] = []\n",
    "\n",
    "        for epoch in range(epochs):\n",
    "            for images, labels in train_loader:\n",
    "                images = Variable(images.to(device))\n",
    "                labels = Variable(labels.to(device))\n",
    "\n",
    "                output = cnn(images)\n",
    "                loss = loss_func(output, labels)\n",
    "\n",
    "                optimizer.zero_grad()\n",
    "                loss.backward()\n",
    "                optimizer.step()\n",
    "\n",
    "            if test_dataset is not None:\n",
    "                eval_result = TrainHelper.test(cnn, test_dataset, device)\n",
    "                eval_results.append(eval_result)\n",
    "                if print_results:\n",
    "                    print(f\"epoch {epoch}, accuracy = {eval_result}, loss = {loss.detach()}\")\n",
    "                cnn.train()\n",
    "\n",
    "        return eval_results\n",
    "\n",
    "    @staticmethod\n",
    "    def test(cnn: nn.Module, test_dataset: datasets.MNIST, device=None) -> float:\n",
    "        cnn.eval()\n",
    "        loader = torch.utils.data.DataLoader(test_dataset, batch_size=128, shuffle=False, num_workers=1)\n",
    "        correct = 0\n",
    "        incorrect = 0\n",
    "\n",
    "        for images, labels in loader:\n",
    "            if device is not None:\n",
    "                images = images.to(device)\n",
    "\n",
    "            results = cnn(images)\n",
    "            predictions = results.detach().cpu().numpy().argmax(axis=1)\n",
    "            oks = (predictions == labels.numpy()).sum()\n",
    "            correct += oks\n",
    "            incorrect += len(predictions) - oks\n",
    "\n",
    "        return correct / (correct + incorrect)\n",
    "\n",
    "    @staticmethod\n",
    "    def train_models(models: List[nn.Module], device_name: str, batch_size: int, lr: float) -> Tuple[int, float]:\n",
    "        \"\"\"\n",
    "        generator yields pair (trainable parameters count, best accuracy) for each network\n",
    "        :param device_name: 'cuda' or 'cpu'\n",
    "        \"\"\"\n",
    "        assert len(models) > 0\n",
    "\n",
    "        for model in models:\n",
    "            start = time.time()\n",
    "            eval_results = TrainHelper.train(\n",
    "                lr=lr,\n",
    "                cnn=model,\n",
    "                epochs=20,\n",
    "                train_dataset=train_data,\n",
    "                test_dataset=test_data,\n",
    "                batch_size=batch_size,\n",
    "                device_name=device_name,\n",
    "                print_results=False\n",
    "            )\n",
    "            end = time.time()\n",
    "            best_acc = max(eval_results)\n",
    "            params_count = TrainHelper.total_parameters_count(model)\n",
    "            print(f\"best accuracy = {best_acc}, parameters = {params_count}, training time = {end - start}\")\n",
    "            yield params_count, best_acc\n",
    "\n",
    "    @staticmethod\n",
    "    def total_parameters_count(model: nn.Module) -> int:\n",
    "        return sum(np.prod(p.size()) for p in model.parameters())\n",
    "\n",
    "    @staticmethod\n",
    "    def print_parameters(model: nn.Module):\n",
    "        print(f\"total parameters = {TrainHelper.total_parameters_count(model)}\")\n",
    "        for p in model.parameters():\n",
    "            print(f\"size {np.prod(p.size())}: {p.size()}\")"
   ],
   "metadata": {
    "collapsed": false,
    "ExecuteTime": {
     "start_time": "2023-04-13T02:49:28.205397Z",
     "end_time": "2023-04-13T02:49:28.251735Z"
    }
   }
  },
  {
   "cell_type": "code",
   "execution_count": 6,
   "outputs": [],
   "source": [
    "class MyTransformer2d(nn.Module):\n",
    "    def __init__(self, ch: int, kq_ch: int, img_size: int, ff_ch: int, kernel_size: int, extra_pad: int, num_heads: int):\n",
    "        super(MyTransformer2d, self).__init__()\n",
    "\n",
    "        self.kernel_size: int = kernel_size\n",
    "        self.extra_pad: int = extra_pad\n",
    "\n",
    "        self.attention_heads = nn.ModuleList([MyAttention2d(in_ch=ch, kq_ch=kq_ch // num_heads, out_ch=ch, img_size=img_size, kernel_size=kernel_size, extra_pad=extra_pad) for _ in range(num_heads)])\n",
    "\n",
    "        self.norm1 = nn.BatchNorm2d(ch)\n",
    "        self.norm2 = nn.BatchNorm2d(ch)\n",
    "\n",
    "        self.ff = nn.Sequential(\n",
    "            nn.Conv2d(ch, ff_ch, kernel_size=1, bias=True),\n",
    "            nn.LeakyReLU(0.1),\n",
    "            nn.Conv2d(ff_ch, ch, kernel_size=1, bias=True),\n",
    "        )\n",
    "\n",
    "    def forward(self, x):\n",
    "        d_size = (self.kernel_size - 1) // 2 - self.extra_pad\n",
    "        attended = torch.stack([head(x) for head in self.attention_heads], dim=4).sum(dim=4)\n",
    "        x = self.norm1(attended + x[:, :, d_size:-d_size, d_size:-d_size])\n",
    "        x = self.norm2(self.ff(x) + x)\n",
    "        return x"
   ],
   "metadata": {
    "collapsed": false,
    "ExecuteTime": {
     "start_time": "2023-04-13T02:49:28.251527Z",
     "end_time": "2023-04-13T02:49:28.252379Z"
    }
   }
  },
  {
   "cell_type": "code",
   "execution_count": 7,
   "outputs": [],
   "source": [
    "class MyAttention2d(nn.Module):\n",
    "    def __init__(self, in_ch: int, kq_ch: int, out_ch: int, img_size: int, kernel_size: int, extra_pad: int):\n",
    "        super(MyAttention2d, self).__init__()\n",
    "\n",
    "        self.in_ch: int = in_ch\n",
    "        self.out_ch: int = out_ch\n",
    "        self.img_size: int = img_size\n",
    "        self.kernel_size: int = kernel_size\n",
    "        self.extra_pad: int = extra_pad\n",
    "        assert self.extra_pad >= 0\n",
    "\n",
    "        # size = [b_s, ch, h, w]\n",
    "        self.to_key = nn.Conv2d(in_ch, kq_ch, kernel_size=1, bias=False)\n",
    "        self.to_query = nn.Conv2d(in_ch, kq_ch, kernel_size=1, bias=False)\n",
    "        self.to_value = nn.Conv2d(in_ch, out_ch, kernel_size=1, bias=False)\n",
    "\n",
    "        self.key_pos_embedding = nn.Parameter(torch.zeros(size=(1, 1, kq_ch)))\n",
    "        self.query_pos_embedding = nn.Parameter(torch.zeros(size=(1, kernel_size ** 2, kq_ch)))\n",
    "        self.value_pos_embedding = nn.Parameter(torch.zeros(size=(1, kernel_size ** 2, out_ch)))\n",
    "\n",
    "        self.mask: nn.Parameter = nn.Parameter(self.make_mask(img_size, kernel_size, extra_pad))\n",
    "        self.mask.requires_grad = False\n",
    "\n",
    "    def make_mask(self, img_size: int, kernel_size: int, extra_pad: int):\n",
    "        new_size = img_size + extra_pad * 2 - (kernel_size - 1)\n",
    "        img_input = torch.zeros(1, 1, img_size, img_size)\n",
    "        img_padded = F.pad(img_input, (extra_pad, extra_pad, extra_pad, extra_pad), mode=\"constant\", value=-float(\"inf\"))\n",
    "        img_repacked = self.repack_img_valid_pad(img_padded)\n",
    "        assert img_repacked.size() == (new_size * new_size, kernel_size ** 2, 1)\n",
    "        img_repacked = torch.reshape(img_repacked, (1, new_size, new_size, kernel_size ** 2))\n",
    "        return img_repacked\n",
    "\n",
    "    def repack_img_valid_pad(self, img: torch.Tensor):\n",
    "        batch_size, channels, height, width = img.size()\n",
    "        assert width == self.img_size + self.extra_pad * 2\n",
    "        assert height == self.img_size + self.extra_pad * 2\n",
    "\n",
    "        img = img.view(batch_size, channels, height, width, 1)\n",
    "\n",
    "        new_w = width - (self.kernel_size - 1)\n",
    "        new_h = height - (self.kernel_size - 1)\n",
    "\n",
    "        img = torch.cat([img[:, :, :, i: new_w + i] for i in range(self.kernel_size)], dim=4)\n",
    "        img = torch.cat([img[:, :, i: new_h + i] for i in range(self.kernel_size)], dim=4)\n",
    "        assert img.size() == (batch_size, channels, new_h, new_w, self.kernel_size ** 2)\n",
    "\n",
    "        img = torch.moveaxis(img, 1, 4)\n",
    "        assert img.size() == (batch_size, new_h, new_w, self.kernel_size ** 2, channels)\n",
    "\n",
    "        img = img.reshape(batch_size * new_h * new_w, self.kernel_size ** 2, channels)\n",
    "        return img\n",
    "\n",
    "    def repack_keys(self, img: torch.Tensor):\n",
    "        batch_size, channels, height, width = img.size()\n",
    "        assert width == self.img_size + self.extra_pad * 2\n",
    "        assert height == self.img_size + self.extra_pad * 2\n",
    "\n",
    "        new_w = width - (self.kernel_size - 1)\n",
    "        new_h = height - (self.kernel_size - 1)\n",
    "        pad = (self.kernel_size - 1) // 2\n",
    "\n",
    "        img = img[:, :, pad : new_h + pad, pad : new_w + pad]\n",
    "        img = torch.moveaxis(img, 1, 3)\n",
    "        assert img.size() == (batch_size, new_h, new_w, channels), f\"expected {(batch_size, new_h, new_w, channels)}, got {img.size()}\"\n",
    "\n",
    "        img = img.reshape(batch_size * new_h * new_w, 1, channels)\n",
    "        return img\n",
    "\n",
    "    def forward(self, x):\n",
    "        batch_size, channels, height, width = x.size()\n",
    "        new_height = height + self.extra_pad * 2 - (self.kernel_size - 1)\n",
    "        new_width = width + self.extra_pad * 2 - (self.kernel_size - 1)\n",
    "\n",
    "        if self.extra_pad != 0:\n",
    "            p = self.extra_pad\n",
    "            x = F.pad(x, (p, p, p, p), \"constant\", 0.0)\n",
    "\n",
    "        key = self.to_key(x)\n",
    "        query = self.to_query(x)\n",
    "        value = self.to_value(x)\n",
    "\n",
    "        packed_key = self.repack_keys(key) + self.key_pos_embedding\n",
    "        # b, k**2, ch\n",
    "        packed_query = self.repack_img_valid_pad(query) + self.query_pos_embedding\n",
    "        # b, k**2, ch\n",
    "        packed_value = self.repack_img_valid_pad(value) + self.value_pos_embedding\n",
    "        # b, k**2, out_ch\n",
    "\n",
    "        dots = torch.bmm(packed_key, torch.moveaxis(packed_query, 1, 2))\n",
    "        assert dots.size() == (batch_size * new_height * new_width, 1, self.kernel_size ** 2)\n",
    "\n",
    "        masked_dots = torch.reshape(dots, (batch_size, new_height, new_width, self.kernel_size ** 2))\n",
    "        masked_dots = masked_dots + self.mask\n",
    "        masked_dots = torch.reshape(masked_dots, (batch_size * new_height * new_width, 1, self.kernel_size ** 2))\n",
    "\n",
    "        weights = F.softmax(masked_dots / 3.0, dim=2)\n",
    "        # b, 1, k**2\n",
    "\n",
    "        out = torch.bmm(weights, packed_value)\n",
    "        assert out.size() == (batch_size * new_height * new_width, 1, self.out_ch)\n",
    "        # b, 1, ch\n",
    "\n",
    "        out = out.reshape(batch_size, new_height, new_width, self.out_ch)\n",
    "        out = torch.moveaxis(out, 3, 1)\n",
    "\n",
    "        assert out.size() == (batch_size, self.out_ch, new_height, new_width)\n",
    "        return out\n"
   ],
   "metadata": {
    "collapsed": false,
    "ExecuteTime": {
     "start_time": "2023-04-13T02:49:28.251914Z",
     "end_time": "2023-04-13T02:49:28.255675Z"
    }
   }
  },
  {
   "cell_type": "code",
   "execution_count": 8,
   "outputs": [],
   "source": [
    "class MyConvT3(nn.Module):\n",
    "    def __init__(self, channels: int, extra_pad: int, num_heads: int):\n",
    "        super(MyConvT3, self).__init__()\n",
    "\n",
    "        c = channels\n",
    "        self.layers = nn.Sequential(\n",
    "            nn.Conv2d(1, c, kernel_size=1, padding=\"valid\", bias=False),  # 28\n",
    "            MyTransformer2d(c, c, 28, c * 2, kernel_size=3 + 2 * extra_pad, extra_pad=extra_pad, num_heads=num_heads),  # 26\n",
    "            MyTransformer2d(c, c, 26, c * 2, kernel_size=3 + 2 * extra_pad, extra_pad=extra_pad, num_heads=num_heads),  # 24\n",
    "            nn.MaxPool2d(2),  # 12\n",
    "\n",
    "            nn.Conv2d(c, c * 2, kernel_size=1, padding=\"valid\", bias=False),  # 12\n",
    "            MyTransformer2d(c * 2, c * 2, 12, c * 4, kernel_size=3 + 2 * extra_pad, extra_pad=extra_pad, num_heads=num_heads),  # 10\n",
    "            MyTransformer2d(c * 2, c * 2, 10, c * 4, kernel_size=3 + 2 * extra_pad, extra_pad=extra_pad, num_heads=num_heads),  # 8\n",
    "            nn.MaxPool2d(2),  # 4\n",
    "\n",
    "            MyTransformer2d(c * 2, c * 4, 4, c * 8, kernel_size=3 + 2 * extra_pad, extra_pad=extra_pad, num_heads=num_heads),  # 2\n",
    "            nn.Conv2d(c * 2, c * 4, kernel_size=2, padding=\"valid\", bias=False),  # 1\n",
    "            nn.BatchNorm2d(c * 4),\n",
    "            nn.LeakyReLU(0.1),\n",
    "\n",
    "            nn.Conv2d(c * 4, 10, kernel_size=1),  # 1\n",
    "            nn.Flatten(),\n",
    "        )\n",
    "\n",
    "    def conv(self, in_ch: int, out_ch: int, *, kernel_size):\n",
    "        return nn.Sequential(\n",
    "            nn.Conv2d(in_ch, out_ch, kernel_size=kernel_size, padding='valid', bias=False),\n",
    "            nn.BatchNorm2d(out_ch),\n",
    "            nn.LeakyReLU(0.1),\n",
    "        )\n",
    "\n",
    "    def forward(self, x: torch.Tensor):\n",
    "        return self.layers(x)\n"
   ],
   "metadata": {
    "collapsed": false,
    "ExecuteTime": {
     "start_time": "2023-04-13T02:49:28.253236Z",
     "end_time": "2023-04-13T02:49:28.256045Z"
    }
   }
  },
  {
   "cell_type": "code",
   "execution_count": 9,
   "outputs": [],
   "source": [
    "model = MyConvT3(64, extra_pad=0, num_heads=4)\n",
    "accuracies = []"
   ],
   "metadata": {
    "collapsed": false,
    "ExecuteTime": {
     "start_time": "2023-04-13T02:49:28.253509Z",
     "end_time": "2023-04-13T02:49:28.307165Z"
    }
   }
  },
  {
   "cell_type": "code",
   "execution_count": null,
   "outputs": [],
   "source": [
    "TrainHelper.total_parameters_count(model)"
   ],
   "metadata": {
    "collapsed": false
   }
  },
  {
   "cell_type": "code",
   "execution_count": 10,
   "outputs": [
    {
     "name": "stdout",
     "output_type": "stream",
     "text": [
      "epoch 0, accuracy = 0.9786, loss = 0.149114727973938\n",
      "epoch 1, accuracy = 0.9754, loss = 0.17795193195343018\n",
      "epoch 2, accuracy = 0.9854, loss = 0.005561031401157379\n",
      "epoch 3, accuracy = 0.988, loss = 0.002947809174656868\n",
      "epoch 4, accuracy = 0.9871, loss = 0.009525001049041748\n",
      "epoch 5, accuracy = 0.9884, loss = 0.017619678750634193\n",
      "epoch 6, accuracy = 0.984, loss = 0.1750190556049347\n",
      "epoch 7, accuracy = 0.9901, loss = 0.15616314113140106\n",
      "epoch 8, accuracy = 0.9778, loss = 0.0017113370122388005\n",
      "epoch 9, accuracy = 0.9838, loss = 0.017068851739168167\n"
     ]
    }
   ],
   "source": [
    "accuracies += TrainHelper.train(\n",
    "    lr = 0.0003,\n",
    "    cnn=model,\n",
    "    epochs=10,\n",
    "    train_dataset=train_data,\n",
    "    test_dataset=test_data,\n",
    "    batch_size=64,\n",
    "    device_name='cuda',\n",
    "    print_results=True,\n",
    ")"
   ],
   "metadata": {
    "collapsed": false,
    "ExecuteTime": {
     "start_time": "2023-04-13T02:49:28.297675Z",
     "end_time": "2023-04-13T03:19:45.839137Z"
    }
   }
  },
  {
   "cell_type": "code",
   "execution_count": 11,
   "outputs": [
    {
     "name": "stdout",
     "output_type": "stream",
     "text": [
      "epoch 0, accuracy = 0.9933, loss = 7.454986189259216e-05\n",
      "epoch 1, accuracy = 0.9924, loss = 0.000332048861309886\n",
      "epoch 2, accuracy = 0.9934, loss = 0.009814831428229809\n",
      "epoch 3, accuracy = 0.9933, loss = 0.0021430067718029022\n",
      "epoch 4, accuracy = 0.9939, loss = 0.08438428491353989\n",
      "epoch 5, accuracy = 0.9939, loss = 0.009246870875358582\n",
      "epoch 6, accuracy = 0.9933, loss = 0.0004012218560092151\n",
      "epoch 7, accuracy = 0.9938, loss = 0.006090772803872824\n",
      "epoch 8, accuracy = 0.9928, loss = 5.0074006139766425e-05\n",
      "epoch 9, accuracy = 0.9935, loss = 0.0017339506885036826\n"
     ]
    }
   ],
   "source": [
    "accuracies += TrainHelper.train(\n",
    "    lr = 0.0001,\n",
    "    cnn=model,\n",
    "    epochs=10,\n",
    "    train_dataset=train_data,\n",
    "    test_dataset=test_data,\n",
    "    batch_size=64,\n",
    "    device_name='cuda',\n",
    "    print_results=True,\n",
    ")"
   ],
   "metadata": {
    "collapsed": false,
    "ExecuteTime": {
     "start_time": "2023-04-13T03:19:45.833257Z",
     "end_time": "2023-04-13T03:47:47.547302Z"
    }
   }
  },
  {
   "cell_type": "code",
   "execution_count": 12,
   "outputs": [
    {
     "name": "stdout",
     "output_type": "stream",
     "text": [
      "epoch 0, accuracy = 0.9945, loss = 0.0001788707886589691\n",
      "epoch 1, accuracy = 0.9942, loss = 0.008568137884140015\n",
      "epoch 2, accuracy = 0.9942, loss = 0.0011885394342243671\n",
      "epoch 3, accuracy = 0.9945, loss = 0.00020157435210421681\n",
      "epoch 4, accuracy = 0.9945, loss = 0.0007836716831661761\n",
      "epoch 5, accuracy = 0.9942, loss = 0.00012877614062745124\n",
      "epoch 6, accuracy = 0.9948, loss = 2.3841664642532123e-06\n",
      "epoch 7, accuracy = 0.9945, loss = 0.00010482074867468327\n",
      "epoch 8, accuracy = 0.9944, loss = 9.38750963541679e-06\n",
      "epoch 9, accuracy = 0.9949, loss = 3.4766031603794545e-05\n"
     ]
    }
   ],
   "source": [
    "accuracies += TrainHelper.train(\n",
    "    lr = 0.00001,\n",
    "    cnn=model,\n",
    "    epochs=10,\n",
    "    train_dataset=train_data,\n",
    "    test_dataset=test_data,\n",
    "    batch_size=64,\n",
    "    device_name='cuda',\n",
    "    print_results=True,\n",
    ")"
   ],
   "metadata": {
    "collapsed": false,
    "ExecuteTime": {
     "start_time": "2023-04-13T03:47:47.537524Z",
     "end_time": "2023-04-13T04:15:10.614788Z"
    }
   }
  },
  {
   "cell_type": "code",
   "execution_count": 13,
   "outputs": [
    {
     "name": "stderr",
     "output_type": "stream",
     "text": [
      "No artists with labels found to put in legend.  Note that artists whose label start with an underscore are ignored when legend() is called with no argument.\n"
     ]
    },
    {
     "data": {
      "text/plain": "<Figure size 1200x1200 with 1 Axes>",
      "image/png": "[encoded data removed]"
     },
     "metadata": {},
     "output_type": "display_data"
    }
   ],
   "source": [
    "plt.rcParams['figure.figsize'] = [12, 12]\n",
    "fig, ax = plt.subplots()\n",
    "ax.set_xscale(\"log\")\n",
    "ax.set_ylim(0.95, 1)\n",
    "\n",
    "ax.plot(list(range(len(accuracies))), accuracies, c='red')\n",
    "ax.legend()\n",
    "plt.show()"
   ],
   "metadata": {
    "collapsed": false,
    "ExecuteTime": {
     "start_time": "2023-04-13T04:15:10.613251Z",
     "end_time": "2023-04-13T04:15:10.840493Z"
    }
   }
  }
 ],
 "metadata": {
  "kernelspec": {
   "display_name": "Python 3",
   "language": "python",
   "name": "python3"
  },
  "language_info": {
   "codemirror_mode": {
    "name": "ipython",
    "version": 2
   },
   "file_extension": ".py",
   "mimetype": "text/x-python",
   "name": "python",
   "nbconvert_exporter": "python",
   "pygments_lexer": "ipython2",
   "version": "2.7.6"
  }
 },
 "nbformat": 4,
 "nbformat_minor": 0
}
