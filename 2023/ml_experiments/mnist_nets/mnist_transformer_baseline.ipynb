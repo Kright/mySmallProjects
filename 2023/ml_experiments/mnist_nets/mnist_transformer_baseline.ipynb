{
 "cells": [
  {
   "cell_type": "code",
   "execution_count": 1,
   "id": "4759c9339f44b4bc",
   "metadata": {
    "ExecuteTime": {
     "end_time": "2023-08-02T09:45:02.886506046Z",
     "start_time": "2023-08-02T09:45:01.576763559Z"
    }
   },
   "outputs": [],
   "source": [
    "import time\n",
    "from typing import Optional, Tuple, List\n",
    "\n",
    "import matplotlib.pyplot as plt\n",
    "import numpy as np\n",
    "import torch\n",
    "import torch.nn as nn\n",
    "from torch.autograd import Variable\n",
    "from torch.utils.data import DataLoader"
   ]
  },
  {
   "cell_type": "code",
   "execution_count": 2,
   "id": "ea6c25517dc5b944",
   "metadata": {
    "ExecuteTime": {
     "end_time": "2023-08-02T09:45:02.952776996Z",
     "start_time": "2023-08-02T09:45:02.947023109Z"
    }
   },
   "outputs": [
    {
     "data": {
      "text/plain": [
       "True"
      ]
     },
     "execution_count": 2,
     "metadata": {},
     "output_type": "execute_result"
    }
   ],
   "source": [
    "torch.cuda.is_available()"
   ]
  },
  {
   "cell_type": "code",
   "execution_count": 3,
   "id": "5f0807659ee9a956",
   "metadata": {
    "ExecuteTime": {
     "end_time": "2023-08-02T09:45:02.967241141Z",
     "start_time": "2023-08-02T09:45:02.955126040Z"
    }
   },
   "outputs": [
    {
     "data": {
      "text/plain": [
       "'2.0.1+cu118'"
      ]
     },
     "execution_count": 3,
     "metadata": {},
     "output_type": "execute_result"
    }
   ],
   "source": [
    "torch.__version__"
   ]
  },
  {
   "cell_type": "code",
   "execution_count": 4,
   "id": "aec24dc114a1624",
   "metadata": {
    "ExecuteTime": {
     "end_time": "2023-08-02T09:45:03.160093193Z",
     "start_time": "2023-08-02T09:45:02.966507903Z"
    }
   },
   "outputs": [],
   "source": [
    "from torchvision import datasets\n",
    "from torchvision.transforms import ToTensor\n",
    "\n",
    "train_data = datasets.MNIST(\n",
    "    root='../models/mnist',\n",
    "    train=True,\n",
    "    transform=ToTensor(),\n",
    "    download=True,\n",
    ")\n",
    "\n",
    "test_data = datasets.MNIST(\n",
    "    root='../models/mnist',\n",
    "    train=False,\n",
    "    transform=ToTensor(),\n",
    "    download=True,\n",
    ")"
   ]
  },
  {
   "cell_type": "code",
   "execution_count": 5,
   "id": "78c5c55ac907434d",
   "metadata": {
    "ExecuteTime": {
     "end_time": "2023-08-02T09:45:03.172199974Z",
     "start_time": "2023-08-02T09:45:03.171464366Z"
    }
   },
   "outputs": [],
   "source": [
    "class TrainHelper:\n",
    "    @staticmethod\n",
    "    def train(cnn: nn.Module,\n",
    "              *,\n",
    "              epochs: int,\n",
    "              train_dataset: datasets.MNIST,\n",
    "              test_dataset: Optional[datasets.MNIST] = None,\n",
    "              print_results: bool = True,\n",
    "              print_each_step: bool = False,\n",
    "              batch_size: int,\n",
    "              lr: float) -> List[float]:\n",
    "\n",
    "        train_loader = torch.utils.data.DataLoader(train_dataset,\n",
    "                                                   batch_size=batch_size,\n",
    "                                                   shuffle=True,\n",
    "                                                   num_workers=1)\n",
    "\n",
    "        device = torch.device('cuda')\n",
    "\n",
    "        cnn.to(device)\n",
    "        cnn.train()\n",
    "\n",
    "        optimizer = torch.optim.Adam(cnn.parameters(), lr=lr)\n",
    "        loss_func = nn.CrossEntropyLoss()\n",
    "\n",
    "        eval_results: List[float] = []\n",
    "\n",
    "        for epoch in range(epochs):\n",
    "            for images, labels in train_loader:\n",
    "                images = Variable(images.to(device))\n",
    "                labels = Variable(labels.to(device))\n",
    "\n",
    "                output = cnn(images)\n",
    "                loss = loss_func(output, labels)\n",
    "\n",
    "                optimizer.zero_grad()\n",
    "                loss.backward()\n",
    "                optimizer.step()\n",
    "                if print_each_step:\n",
    "                    print(f\"step, loss = {loss.item()}\")\n",
    "\n",
    "            if test_dataset is not None:\n",
    "                eval_result = TrainHelper.test(cnn, test_dataset, device)\n",
    "                eval_results.append(eval_result)\n",
    "                if print_results:\n",
    "                    print(f\"epoch {epoch}, accuracy = {eval_result}, loss = {loss.detach()}\")\n",
    "                cnn.train()\n",
    "\n",
    "        optimizer.zero_grad(set_to_none=True)\n",
    "\n",
    "        return eval_results\n",
    "\n",
    "    @staticmethod\n",
    "    def test(cnn: nn.Module, test_dataset: datasets.MNIST, device=None) -> float:\n",
    "        cnn.eval()\n",
    "        loader = torch.utils.data.DataLoader(test_dataset, batch_size=128, shuffle=False, num_workers=1)\n",
    "        correct = 0\n",
    "        incorrect = 0\n",
    "\n",
    "        with torch.no_grad():\n",
    "            for images, labels in loader:\n",
    "                if device is not None:\n",
    "                    images = images.to(device)\n",
    "\n",
    "                results = cnn(images)\n",
    "                predictions = results.detach().cpu().numpy().argmax(axis=1)\n",
    "                oks = (predictions == labels.numpy()).sum()\n",
    "                correct += oks\n",
    "                incorrect += len(predictions) - oks\n",
    "\n",
    "        return correct / (correct + incorrect)\n",
    "\n",
    "    @staticmethod\n",
    "    def train_models(models: List[nn.Module], *, batch_size: int = 256, train_plan: List[Tuple[float, int]]) -> Tuple[int, float]:\n",
    "        assert len(models) > 0\n",
    "\n",
    "        for model in models:\n",
    "            start = time.time()\n",
    "            for lr, epochs in train_plan:\n",
    "                eval_results = TrainHelper.train(\n",
    "                    cnn=model,\n",
    "                    epochs=epochs,\n",
    "                    train_dataset=train_data,\n",
    "                    test_dataset=test_data,\n",
    "                    batch_size=batch_size,\n",
    "                    print_results=False,\n",
    "                    lr=lr,\n",
    "                )\n",
    "            end = time.time()\n",
    "            best_acc = max(eval_results)\n",
    "            params_count = TrainHelper.total_parameters_count(model)\n",
    "            print(f\"best accuracy = {best_acc}, parameters = {params_count}, training time = {end - start}\")\n",
    "            yield params_count, best_acc\n",
    "\n",
    "    @staticmethod\n",
    "    def total_parameters_count(model: nn.Module) -> int:\n",
    "        return sum(np.prod(p.size()) for p in model.parameters())\n",
    "\n",
    "    @staticmethod\n",
    "    def print_parameters(model: nn.Module):\n",
    "        print(f\"total parameters = {TrainHelper.total_parameters_count(model)}\")\n",
    "        for p in model.parameters():\n",
    "            print(f\"size {np.prod(p.size())}: {p.size()}\")"
   ]
  },
  {
   "cell_type": "code",
   "execution_count": 6,
   "id": "811ab6801d87151a",
   "metadata": {
    "ExecuteTime": {
     "end_time": "2023-08-02T09:45:03.217897309Z",
     "start_time": "2023-08-02T09:45:03.217094581Z"
    }
   },
   "outputs": [],
   "source": [
    "class PixelNorm2d(nn.Module):\n",
    "    def forward(self, x: torch.Tensor) -> torch.Tensor:\n",
    "        return x * (x.pow(2).mean(dim=1, keepdim=True) + 1e-8).rsqrt()\n",
    "\n",
    "\n",
    "class Residual(nn.Module):\n",
    "    def __init__(self, layer: nn.Module):\n",
    "        super().__init__()\n",
    "        self.layer = layer\n",
    "\n",
    "    def forward(self, x: torch.Tensor) -> torch.Tensor:\n",
    "        return x + self.layer(x)\n",
    "\n",
    "\n",
    "class RotEmbedding2d(nn.Module):\n",
    "    def __init__(self, *, base: float = 10000.0, heads: int):\n",
    "        super().__init__()\n",
    "        self.base: float = base\n",
    "        self.heads: int = heads\n",
    "\n",
    "    def forward(self, keys: torch.Tensor) -> torch.Tensor:\n",
    "        b, c, h, w = keys.shape\n",
    "        device = keys.device\n",
    "\n",
    "        k = torch.reshape(keys, (b * self.heads, c // self.heads, h, w))\n",
    "\n",
    "        indices_x = torch.reshape(torch.arange(w, device=device, dtype=torch.float32), (1, 1, 1, w))\n",
    "        indices_y = torch.reshape(torch.arange(h, device=device, dtype=torch.float32), (1, 1, h, 1))\n",
    "        \n",
    "        indices_ch = torch.arange(c // self.heads // 4, device=device, dtype=torch.float32)\n",
    "        angles = torch.reshape(self.base ** (indices_ch / -indices_ch.size(0)), (1, -1, 1, 1))\n",
    "        # angles starting from self.base ** 0 and end with self.base ** -1 \n",
    "\n",
    "        angles_x = angles * indices_x\n",
    "        angles_y = angles * indices_y\n",
    "\n",
    "        sin_x, cos_x = angles_x.sin(), angles_x.cos()\n",
    "        sin_y, cos_y = angles_y.sin(), angles_y.cos()\n",
    "\n",
    "        s = k.size(1) // 4\n",
    "        k0, k1, k2, k3 = k[:, :s], k[:, s:2 * s], k[:, 2 * s:3 * s], k[:, 3 * s:],\n",
    "        rot_x = torch.cat([\n",
    "            k0 * cos_x + k1 * sin_x,\n",
    "            k1 * cos_x - k0 * sin_x,\n",
    "            k2 * cos_y + k3 * sin_y,\n",
    "            k3 * cos_y - k2 * sin_y,\n",
    "        ], dim=1)\n",
    "\n",
    "        return torch.reshape(rot_x, (b, -1, h, w))\n",
    "\n",
    "\n",
    "class SelfAttention(nn.Module):\n",
    "    def __init__(self, ch_in: int = 64, ch_keys: int = 64, *, heads: int, size: int):\n",
    "        super().__init__()\n",
    "        self.size = size\n",
    "        self.heads = heads\n",
    "        self.ch = ch_in\n",
    "        self.ch_keys = ch_keys\n",
    "        self.kqvh: nn.Conv2d = nn.Conv2d(ch_in, (ch_keys * 2 + ch_in) * heads, kernel_size=1, bias=True)\n",
    "        self.rot_embed: RotEmbedding2d = RotEmbedding2d(heads=self.heads)\n",
    "\n",
    "    def att(self, keys: torch.Tensor, queries: torch.Tensor, values: torch.Tensor, heads: int) -> torch.Tensor:\n",
    "        b, c, h, w = keys.size()\n",
    "        k = torch.reshape(keys, (b * heads, c // heads, h * w))\n",
    "        q = torch.reshape(queries, (b * heads, c // heads, h * w))\n",
    "\n",
    "        r = torch.bmm(torch.moveaxis(k, 1, 2), q)\n",
    "        r = torch.softmax(r / self.size, dim=1)\n",
    "\n",
    "        v = torch.reshape(values, (b * heads, -1, self.size * self.size))\n",
    "\n",
    "        v = torch.bmm(v, r)\n",
    "        v = torch.reshape(v, (b, heads, -1, self.size, self.size))\n",
    "        v = torch.sum(v, dim=1)\n",
    "        return v\n",
    "\n",
    "    def forward(self, x: torch.Tensor) -> torch.Tensor:\n",
    "        x_kqvh = self.kqvh(x)\n",
    "        s = self.ch_keys * self.heads\n",
    "        x_kh = x_kqvh[:, :s]\n",
    "        x_qh = x_kqvh[:, s: s * 2]\n",
    "        x_vh = x_kqvh[:, s * 2:]\n",
    "\n",
    "        return self.att(self.rot_embed(x_kh), self.rot_embed(x_qh), x_vh, self.heads)\n",
    "\n",
    "\n",
    "class MyTransformerModel(nn.Module):\n",
    "    def __init__(self, ch: int = 64, k_ch: int = 64, heads: int = 4, layers_count: int = 8, conv_ch: int = 64):\n",
    "        super().__init__()\n",
    "\n",
    "        lst = [\n",
    "            nn.Conv2d(1, 32, kernel_size=5, padding='same', bias=True),\n",
    "            nn.LeakyReLU(0.1),\n",
    "            nn.Conv2d(32, ch, kernel_size=3, padding='same', bias=True),\n",
    "            nn.LeakyReLU(0.1),\n",
    "            nn.MaxPool2d(2),\n",
    "        ]\n",
    "\n",
    "        for i in range(layers_count):\n",
    "            lst += [\n",
    "                Residual(SelfAttention(ch, k_ch, heads=heads, size=14)),\n",
    "                PixelNorm2d(),\n",
    "                Residual(nn.Sequential(\n",
    "                    nn.Conv2d(ch, conv_ch, kernel_size=1, bias=True),\n",
    "                    nn.LeakyReLU(),\n",
    "                    nn.Conv2d(conv_ch, ch, kernel_size=1, bias=True),\n",
    "                )),\n",
    "                PixelNorm2d(),\n",
    "            ]\n",
    "\n",
    "        lst += [\n",
    "            nn.AvgPool2d((14, 14)),\n",
    "            nn.Conv2d(ch, 10, kernel_size=1, bias=True),\n",
    "            nn.Flatten(),\n",
    "        ]\n",
    "\n",
    "        self.layers = nn.Sequential(*lst)\n",
    "\n",
    "    def forward(self, x: torch.Tensor):\n",
    "        return self.layers(x)"
   ]
  },
  {
   "cell_type": "code",
   "execution_count": 7,
   "id": "6466a7f4e83bfe32",
   "metadata": {
    "ExecuteTime": {
     "end_time": "2023-08-02T13:48:45.368323334Z",
     "start_time": "2023-08-02T09:45:03.217707207Z"
    }
   },
   "outputs": [
    {
     "name": "stderr",
     "output_type": "stream",
     "text": [
      "/home/lgor/projects/2023/pyenv310torch/lib/python3.10/site-packages/torch/nn/modules/conv.py:459: UserWarning: Applied workaround for CuDNN issue, install nvrtc.so (Triggered internally at ../aten/src/ATen/native/cudnn/Conv_v8.cpp:80.)\n",
      "  return F.conv2d(input, weight, bias, self.stride,\n"
     ]
    },
    {
     "name": "stdout",
     "output_type": "stream",
     "text": [
      "best accuracy = 0.993, parameters = 99114, training time = 840.0435590744019\n",
      "best accuracy = 0.9948, parameters = 244810, training time = 1157.5559334754944\n",
      "best accuracy = 0.9947, parameters = 485898, training time = 1837.3037114143372\n",
      "best accuracy = 0.9937, parameters = 99114, training time = 777.0265471935272\n",
      "best accuracy = 0.9936, parameters = 244810, training time = 962.3140456676483\n",
      "best accuracy = 0.9948, parameters = 485898, training time = 1913.9240610599518\n",
      "best accuracy = 0.9929, parameters = 99114, training time = 872.8439481258392\n",
      "best accuracy = 0.9942, parameters = 244810, training time = 961.6499147415161\n",
      "best accuracy = 0.9942, parameters = 485898, training time = 1817.7613258361816\n",
      "best accuracy = 0.9943, parameters = 99114, training time = 827.339804649353\n",
      "best accuracy = 0.9936, parameters = 244810, training time = 941.313976764679\n",
      "best accuracy = 0.995, parameters = 485898, training time = 1713.0082731246948\n"
     ]
    }
   ],
   "source": [
    "results = []\n",
    "for i in range(4):\n",
    "    models = [\n",
    "        MyTransformerModel(ch=32, k_ch=32, conv_ch=32, heads=4, layers_count=6),\n",
    "        MyTransformerModel(ch=64, k_ch=32, conv_ch=32, heads=4, layers_count=6),\n",
    "        MyTransformerModel(ch=64, k_ch=64, conv_ch=64, heads=4, layers_count=8),\n",
    "    ]\n",
    "    for pair in TrainHelper.train_models(models, batch_size=256, train_plan=[(0.001, 10), (0.0001, 30)]):\n",
    "        results.append(pair)"
   ]
  },
  {
   "cell_type": "code",
   "execution_count": 8,
   "id": "8d72c014827658dc",
   "metadata": {
    "ExecuteTime": {
     "end_time": "2023-08-02T13:48:45.587579058Z",
     "start_time": "2023-08-02T13:48:45.368106661Z"
    }
   },
   "outputs": [
    {
     "name": "stderr",
     "output_type": "stream",
     "text": [
      "No artists with labels found to put in legend.  Note that artists whose label start with an underscore are ignored when legend() is called with no argument.\n"
     ]
    },
    {
     "data": {
      "text/plain": "<Figure size 1200x1200 with 1 Axes>",
      "image/png": "[encoded data removed]"
     },
     "metadata": {},
     "output_type": "display_data"
    }
   ],
   "source": [
    "plt.rcParams['figure.figsize'] = [12, 12]\n",
    "fig, ax = plt.subplots()\n",
    "ax.set_xscale(\"log\")\n",
    "ax.set_ylim(0.97, 1)\n",
    "\n",
    "params_counts = [p[0] for p in results]\n",
    "accuracies = [p[1] for p in results]\n",
    "\n",
    "ax.scatter(params_counts, accuracies, c='red', alpha=0.5, marker=r'.')\n",
    "\n",
    "ax.legend()\n",
    "plt.show()"
   ]
  },
  {
   "cell_type": "code",
   "execution_count": 8,
   "id": "a23220c024b0bcc8",
   "metadata": {
    "ExecuteTime": {
     "end_time": "2023-08-02T13:48:45.589778557Z",
     "start_time": "2023-08-02T13:48:45.587420056Z"
    }
   },
   "outputs": [],
   "source": []
  }
 ],
 "metadata": {
  "kernelspec": {
   "display_name": "Python 3 (ipykernel)",
   "language": "python",
   "name": "python3"
  },
  "language_info": {
   "codemirror_mode": {
    "name": "ipython",
    "version": 2
   },
   "file_extension": ".py",
   "mimetype": "text/x-python",
   "name": "python",
   "nbconvert_exporter": "python",
   "pygments_lexer": "ipython2",
   "version": "2.7.6"
  }
 },
 "nbformat": 4,
 "nbformat_minor": 5
}
