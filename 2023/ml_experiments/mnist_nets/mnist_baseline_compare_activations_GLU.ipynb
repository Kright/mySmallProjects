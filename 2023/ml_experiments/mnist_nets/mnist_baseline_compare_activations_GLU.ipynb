{
 "cells": [
  {
   "cell_type": "markdown",
   "source": [
    "## Long story short: GLU activation works comparable to ReLU when using Batchnorm\n",
    "\n",
    "Comparable in terms of model accuracy and model parameters count.\n",
    "Without batchnorm LeakyReLU is better"
   ],
   "metadata": {
    "collapsed": false
   }
  },
  {
   "cell_type": "code",
   "execution_count": 1,
   "outputs": [],
   "source": [
    "import time\n",
    "from typing import Optional, Tuple, List, Dict\n",
    "import colorsys\n",
    "\n",
    "import matplotlib.pyplot as plt\n",
    "import numpy as np\n",
    "import torch\n",
    "import torch.nn as nn\n",
    "from torch.autograd import Variable\n",
    "from torch.utils.data import DataLoader\n",
    "from enum import Enum"
   ],
   "metadata": {
    "collapsed": false,
    "ExecuteTime": {
     "end_time": "2023-07-05T22:58:09.962282501Z",
     "start_time": "2023-07-05T22:58:09.107790903Z"
    }
   }
  },
  {
   "cell_type": "code",
   "execution_count": 2,
   "outputs": [
    {
     "data": {
      "text/plain": "True"
     },
     "execution_count": 2,
     "metadata": {},
     "output_type": "execute_result"
    }
   ],
   "source": [
    "torch.cuda.is_available()"
   ],
   "metadata": {
    "collapsed": false,
    "ExecuteTime": {
     "end_time": "2023-07-05T22:58:09.997592817Z",
     "start_time": "2023-07-05T22:58:09.994118361Z"
    }
   }
  },
  {
   "cell_type": "code",
   "execution_count": 3,
   "outputs": [
    {
     "data": {
      "text/plain": "'1.13.1+cu117'"
     },
     "execution_count": 3,
     "metadata": {},
     "output_type": "execute_result"
    }
   ],
   "source": [
    "torch.__version__"
   ],
   "metadata": {
    "collapsed": false,
    "ExecuteTime": {
     "end_time": "2023-07-05T22:58:10.011454439Z",
     "start_time": "2023-07-05T22:58:09.996432621Z"
    }
   }
  },
  {
   "cell_type": "code",
   "execution_count": 4,
   "outputs": [],
   "source": [
    "from torchvision import datasets\n",
    "from torchvision.transforms import ToTensor\n",
    "\n",
    "train_data = datasets.MNIST(\n",
    "    root='../models/mnist',\n",
    "    train=True,\n",
    "    transform=ToTensor(),\n",
    "    download=True,\n",
    ")\n",
    "\n",
    "test_data = datasets.MNIST(\n",
    "    root='../models/mnist',\n",
    "    train=False,\n",
    "    transform=ToTensor(),\n",
    "    download=True,\n",
    ")"
   ],
   "metadata": {
    "collapsed": false,
    "ExecuteTime": {
     "end_time": "2023-07-05T22:58:10.182283244Z",
     "start_time": "2023-07-05T22:58:10.008855855Z"
    }
   }
  },
  {
   "cell_type": "code",
   "execution_count": 5,
   "outputs": [],
   "source": [
    "\n",
    "class TrainHelper:\n",
    "    @staticmethod\n",
    "    def train(cnn: nn.Module,\n",
    "              *,\n",
    "              epochs: int,\n",
    "              train_dataset: datasets.MNIST,\n",
    "              test_dataset: Optional[datasets.MNIST] = None,\n",
    "              print_results: bool = True,\n",
    "              batch_size: int,\n",
    "              device_name: str) -> List[float]:\n",
    "\n",
    "        train_loader = torch.utils.data.DataLoader(train_dataset,\n",
    "                                                   batch_size=batch_size,\n",
    "                                                   shuffle=True,\n",
    "                                                   num_workers=1)\n",
    "\n",
    "        device = torch.device(device_name)\n",
    "\n",
    "        cnn.to(device)\n",
    "        cnn.train()\n",
    "\n",
    "        optimizer = torch.optim.Adam(cnn.parameters(), lr=0.001)\n",
    "        loss_func = nn.CrossEntropyLoss()\n",
    "\n",
    "        eval_results: List[float] = []\n",
    "\n",
    "        for epoch in range(epochs):\n",
    "            for images, labels in train_loader:\n",
    "                images = Variable(images.to(device))\n",
    "                labels = Variable(labels.to(device))\n",
    "\n",
    "                output = cnn(images)\n",
    "                loss = loss_func(output, labels)\n",
    "\n",
    "                optimizer.zero_grad()\n",
    "                loss.backward()\n",
    "                optimizer.step()\n",
    "\n",
    "            if test_dataset is not None:\n",
    "                eval_result = TrainHelper.test(cnn, test_dataset, device)\n",
    "                eval_results.append(eval_result)\n",
    "                if print_results:\n",
    "                    print(f\"epoch {epoch}, accuracy = {eval_result}, loss = {loss.detach()}\")\n",
    "                cnn.train()\n",
    "\n",
    "        return eval_results\n",
    "\n",
    "    @staticmethod\n",
    "    def test(cnn: nn.Module, test_dataset: datasets.MNIST, device=None) -> float:\n",
    "        cnn.eval()\n",
    "        loader = torch.utils.data.DataLoader(test_dataset, batch_size=128, shuffle=False, num_workers=1)\n",
    "        correct = 0\n",
    "        incorrect = 0\n",
    "\n",
    "        for images, labels in loader:\n",
    "            if device is not None:\n",
    "                images = images.to(device)\n",
    "\n",
    "            results = cnn(images)\n",
    "            predictions = results.detach().cpu().numpy().argmax(axis=1)\n",
    "            oks = (predictions == labels.numpy()).sum()\n",
    "            correct += oks\n",
    "            incorrect += len(predictions) - oks\n",
    "\n",
    "        return correct / (correct + incorrect)\n",
    "\n",
    "    @staticmethod\n",
    "    def train_models(models: List[nn.Module], device_name: str = 'cuda') -> Tuple[int, float]:\n",
    "        \"\"\"\n",
    "        generator yields pair (trainable parameters count, best accuracy) for each network\n",
    "        :param device_name: 'cuda' or 'cpu'\n",
    "        \"\"\"\n",
    "        assert len(models) > 0\n",
    "\n",
    "        for model in models:\n",
    "            start = time.time()\n",
    "            eval_results = TrainHelper.train(\n",
    "                cnn=model,\n",
    "                epochs=20,\n",
    "                train_dataset=train_data,\n",
    "                test_dataset=test_data,\n",
    "                batch_size=2048,\n",
    "                device_name=device_name,\n",
    "                print_results=False\n",
    "            )\n",
    "            end = time.time()\n",
    "            best_acc = max(eval_results)\n",
    "            params_count = TrainHelper.total_parameters_count(model)\n",
    "            print(f\"best accuracy = {best_acc}, parameters = {params_count}, training time = {end - start}\")\n",
    "            yield params_count, best_acc\n",
    "\n",
    "    @staticmethod\n",
    "    def total_parameters_count(model: nn.Module) -> int:\n",
    "        return sum(np.prod(p.size()) for p in model.parameters())\n",
    "\n",
    "    @staticmethod\n",
    "    def print_parameters(model: nn.Module):\n",
    "        print(f\"total parameters = {TrainHelper.total_parameters_count(model)}\")\n",
    "        for p in model.parameters():\n",
    "            print(f\"size {np.prod(p.size())}: {p.size()}\")"
   ],
   "metadata": {
    "collapsed": false,
    "ExecuteTime": {
     "end_time": "2023-07-05T22:58:10.231918259Z",
     "start_time": "2023-07-05T22:58:10.189418358Z"
    }
   }
  },
  {
   "cell_type": "code",
   "execution_count": 6,
   "outputs": [],
   "source": [
    "class Mode(Enum):\n",
    "    RELU = 1\n",
    "    GLU = 2\n",
    "    SOFTMAX = 3\n",
    "    SOFTMAX_4HEADS = 4\n",
    "\n",
    "    @staticmethod\n",
    "    def modes() -> Dict[str, 'Mode']:\n",
    "        return {\n",
    "            'relu': Mode.RELU,\n",
    "            'glu': Mode.GLU,\n",
    "            'softmax': Mode.SOFTMAX,\n",
    "            'softmax4heads': Mode.SOFTMAX_4HEADS,\n",
    "        }\n",
    "\n",
    "class SoftmaxMultihead(nn.Module):\n",
    "    def __init__(self, heads_count: int = 1):\n",
    "        super().__init__()\n",
    "        self.heads_count: int = 1\n",
    "        self.softmax: nn.Module = nn.Softmax(dim=1)\n",
    "\n",
    "    def forward(self, x: torch.Tensor) -> torch.Tensor:\n",
    "        b, c, h, w = x.size()\n",
    "        assert c % (2 * self.heads_count) == 0\n",
    "        mid = c // 2\n",
    "        assert mid // self.heads_count > 1\n",
    "        mask = x[:, :mid].reshape(b, mid // self.heads_count, self.heads_count, h, w)\n",
    "        mask = self.softmax(mask).reshape(b, mid, h, w)\n",
    "        return mask * x[:, mid:]\n",
    "\n",
    "class MyConvModel(nn.Module):\n",
    "    def __init__(self, channels: int, mode: Mode, use_bn: bool):\n",
    "        super().__init__()\n",
    "\n",
    "        self.mode: Mode = mode\n",
    "        self.use_bn: bool = use_bn\n",
    "\n",
    "        c = channels\n",
    "        self.layers = nn.Sequential(\n",
    "            *self.conv(1, c, kernel_size=3),  # 28 - 26\n",
    "            *self.conv(c, c, kernel_size=3),  # 26 - 24\n",
    "            nn.MaxPool2d(2),  # 24 - 12\n",
    "\n",
    "            *self.conv(c, c * 2, kernel_size=3),  # 12 - 10\n",
    "            *self.conv(c * 2, c * 2, kernel_size=3),  # 10 - 8\n",
    "            nn.MaxPool2d(2),  # 8 - 4\n",
    "\n",
    "            *self.conv(c * 2, c * 4, kernel_size=3),  # 4 - 2\n",
    "            *self.conv(c * 4, c * 4, kernel_size=2),  # 2 - 1\n",
    "\n",
    "            nn.Conv2d(c * 4, 10, kernel_size=1, padding='valid', bias=True),\n",
    "            nn.Flatten(),\n",
    "        )\n",
    "\n",
    "    def conv(self, in_ch: int, out_ch: int, *, kernel_size) -> List[nn.Module]:\n",
    "        if self.mode == Mode.RELU:\n",
    "            if self.use_bn:\n",
    "                return [\n",
    "                    nn.Conv2d(in_ch, out_ch, kernel_size=kernel_size, padding='valid', bias=False),\n",
    "                    nn.BatchNorm2d(out_ch),\n",
    "                    nn.LeakyReLU(0.1)\n",
    "                ]\n",
    "            else:\n",
    "                return [\n",
    "                    nn.Conv2d(in_ch, out_ch, kernel_size=kernel_size, padding='valid', bias=True),\n",
    "                    nn.LeakyReLU(0.1)\n",
    "                ]\n",
    "        \n",
    "        if self.mode == Mode.GLU:\n",
    "            activation = nn.GLU(dim=1)\n",
    "        elif self.mode == Mode.SOFTMAX:\n",
    "            activation = SoftmaxMultihead(1)        \n",
    "        elif self.mode == Mode.SOFTMAX_4HEADS:\n",
    "            activation = SoftmaxMultihead(4)\n",
    "        else:\n",
    "            raise ValueError(f\"unexpected mode {self.mode}\")\n",
    "            \n",
    "        if self.use_bn:\n",
    "            return [\n",
    "                nn.Conv2d(in_ch, out_ch * 2, kernel_size=kernel_size, padding='valid', bias=False),\n",
    "                nn.BatchNorm2d(out_ch * 2),\n",
    "                activation,\n",
    "            ]\n",
    "        else:\n",
    "            return [\n",
    "                nn.Conv2d(in_ch, out_ch * 2, kernel_size=kernel_size, padding='valid', bias=True),\n",
    "                activation,\n",
    "            ]\n",
    "            \n",
    "    def forward(self, x: torch.Tensor):\n",
    "        return self.layers(x)"
   ],
   "metadata": {
    "collapsed": false,
    "ExecuteTime": {
     "end_time": "2023-07-05T22:58:10.232154932Z",
     "start_time": "2023-07-05T22:58:10.231763507Z"
    }
   }
  },
  {
   "cell_type": "code",
   "execution_count": 7,
   "outputs": [
    {
     "name": "stdout",
     "output_type": "stream",
     "text": [
      "start train network with relu, repeat 0\n",
      "best accuracy = 0.9914, parameters = 13362, training time = 85.80372834205627\n",
      "best accuracy = 0.9937, parameters = 29590, training time = 83.21871590614319\n",
      "best accuracy = 0.9934, parameters = 52186, training time = 83.35354399681091\n",
      "best accuracy = 0.9947, parameters = 116482, training time = 83.77545595169067\n",
      "best accuracy = 0.9956, parameters = 206250, training time = 84.896968126297\n",
      "start train network with relu, repeat 1\n",
      "best accuracy = 0.9932, parameters = 13362, training time = 85.00980830192566\n",
      "best accuracy = 0.9934, parameters = 29590, training time = 84.94960427284241\n",
      "best accuracy = 0.9948, parameters = 52186, training time = 84.84648275375366\n",
      "best accuracy = 0.995, parameters = 116482, training time = 84.97444558143616\n",
      "best accuracy = 0.9958, parameters = 206250, training time = 85.17760729789734\n",
      "start train network with relu, repeat 2\n",
      "best accuracy = 0.993, parameters = 13362, training time = 83.94891357421875\n",
      "best accuracy = 0.9937, parameters = 29590, training time = 83.92566990852356\n",
      "best accuracy = 0.9942, parameters = 52186, training time = 84.00715851783752\n",
      "best accuracy = 0.9944, parameters = 116482, training time = 84.85721015930176\n",
      "best accuracy = 0.9951, parameters = 206250, training time = 85.74249720573425\n",
      "start train network with relu, repeat 3\n",
      "best accuracy = 0.9917, parameters = 13362, training time = 85.223641872406\n",
      "best accuracy = 0.9928, parameters = 29590, training time = 84.90126085281372\n",
      "best accuracy = 0.995, parameters = 52186, training time = 85.03402829170227\n",
      "best accuracy = 0.994, parameters = 116482, training time = 85.05816602706909\n",
      "best accuracy = 0.9953, parameters = 206250, training time = 85.40077352523804\n",
      "start train network with glu, repeat 0\n",
      "best accuracy = 0.9949, parameters = 26394, training time = 85.34945368766785\n",
      "best accuracy = 0.9953, parameters = 58690, training time = 85.05437397956848\n",
      "best accuracy = 0.9952, parameters = 103722, training time = 84.96059918403625\n",
      "best accuracy = 0.9958, parameters = 231994, training time = 86.38147234916687\n",
      "best accuracy = 0.9955, parameters = 411210, training time = 86.6795117855072\n",
      "start train network with glu, repeat 1\n",
      "best accuracy = 0.9941, parameters = 26394, training time = 85.43398451805115\n",
      "best accuracy = 0.9943, parameters = 58690, training time = 85.26425242424011\n",
      "best accuracy = 0.996, parameters = 103722, training time = 85.55847764015198\n",
      "best accuracy = 0.9949, parameters = 231994, training time = 86.50457310676575\n",
      "best accuracy = 0.9963, parameters = 411210, training time = 86.78857111930847\n",
      "start train network with glu, repeat 2\n",
      "best accuracy = 0.9933, parameters = 26394, training time = 85.76950240135193\n",
      "best accuracy = 0.9948, parameters = 58690, training time = 85.74716401100159\n",
      "best accuracy = 0.9957, parameters = 103722, training time = 85.51587748527527\n",
      "best accuracy = 0.9955, parameters = 231994, training time = 86.14409112930298\n",
      "best accuracy = 0.9947, parameters = 411210, training time = 86.55656862258911\n",
      "start train network with glu, repeat 3\n",
      "best accuracy = 0.9931, parameters = 26394, training time = 85.54557871818542\n",
      "best accuracy = 0.9945, parameters = 58690, training time = 85.27966213226318\n",
      "best accuracy = 0.9949, parameters = 103722, training time = 85.4211356639862\n",
      "best accuracy = 0.9952, parameters = 231994, training time = 86.27789735794067\n",
      "best accuracy = 0.9957, parameters = 411210, training time = 86.55015087127686\n",
      "start train network with softmax, repeat 0\n",
      "best accuracy = 0.991, parameters = 26394, training time = 85.77814412117004\n",
      "best accuracy = 0.9918, parameters = 58690, training time = 85.8608775138855\n",
      "best accuracy = 0.9921, parameters = 103722, training time = 86.14886808395386\n",
      "best accuracy = 0.9922, parameters = 231994, training time = 87.16797351837158\n",
      "best accuracy = 0.9926, parameters = 411210, training time = 101.63479614257812\n",
      "start train network with softmax, repeat 1\n",
      "best accuracy = 0.9918, parameters = 26394, training time = 85.93280577659607\n",
      "best accuracy = 0.9918, parameters = 58690, training time = 86.11967897415161\n",
      "best accuracy = 0.9906, parameters = 103722, training time = 86.66302442550659\n",
      "best accuracy = 0.9915, parameters = 231994, training time = 87.46897411346436\n",
      "best accuracy = 0.9913, parameters = 411210, training time = 101.54311203956604\n",
      "start train network with softmax, repeat 2\n",
      "best accuracy = 0.9896, parameters = 26394, training time = 86.04524230957031\n",
      "best accuracy = 0.991, parameters = 58690, training time = 86.30860948562622\n",
      "best accuracy = 0.9919, parameters = 103722, training time = 86.5123074054718\n",
      "best accuracy = 0.9906, parameters = 231994, training time = 87.42581677436829\n",
      "best accuracy = 0.9909, parameters = 411210, training time = 101.55556464195251\n",
      "start train network with softmax, repeat 3\n",
      "best accuracy = 0.9904, parameters = 26394, training time = 86.51828861236572\n",
      "best accuracy = 0.9917, parameters = 58690, training time = 86.1688015460968\n",
      "best accuracy = 0.9921, parameters = 103722, training time = 86.7344138622284\n",
      "best accuracy = 0.9918, parameters = 231994, training time = 87.28595972061157\n",
      "best accuracy = 0.9913, parameters = 411210, training time = 101.55322194099426\n",
      "start train network with softmax4heads, repeat 0\n",
      "best accuracy = 0.9909, parameters = 26394, training time = 86.41983103752136\n",
      "best accuracy = 0.9912, parameters = 58690, training time = 86.35105538368225\n",
      "best accuracy = 0.9928, parameters = 103722, training time = 86.5602159500122\n",
      "best accuracy = 0.9925, parameters = 231994, training time = 87.44942736625671\n",
      "best accuracy = 0.9912, parameters = 411210, training time = 101.70300626754761\n",
      "start train network with softmax4heads, repeat 1\n",
      "best accuracy = 0.9902, parameters = 26394, training time = 86.1902585029602\n",
      "best accuracy = 0.9909, parameters = 58690, training time = 86.53949427604675\n",
      "best accuracy = 0.9911, parameters = 103722, training time = 86.80723428726196\n",
      "best accuracy = 0.9904, parameters = 231994, training time = 87.65700912475586\n",
      "best accuracy = 0.9919, parameters = 411210, training time = 101.79686307907104\n",
      "start train network with softmax4heads, repeat 2\n",
      "best accuracy = 0.9902, parameters = 26394, training time = 86.50593900680542\n",
      "best accuracy = 0.9925, parameters = 58690, training time = 86.64172577857971\n",
      "best accuracy = 0.9906, parameters = 103722, training time = 86.36227416992188\n",
      "best accuracy = 0.9919, parameters = 231994, training time = 87.48317313194275\n",
      "best accuracy = 0.9922, parameters = 411210, training time = 101.62500214576721\n",
      "start train network with softmax4heads, repeat 3\n",
      "best accuracy = 0.9913, parameters = 26394, training time = 86.36561346054077\n",
      "best accuracy = 0.9914, parameters = 58690, training time = 86.36137628555298\n",
      "best accuracy = 0.9912, parameters = 103722, training time = 86.6999363899231\n",
      "best accuracy = 0.9917, parameters = 231994, training time = 87.63355731964111\n",
      "best accuracy = 0.9923, parameters = 411210, training time = 101.58426880836487\n"
     ]
    }
   ],
   "source": [
    "def run_networks(repeats: int, use_bn: bool) -> Dict[str, List[Tuple[int, int]]]:\n",
    "    results = {}\n",
    "\n",
    "    for name, mode in Mode.modes().items():        \n",
    "        if name not in results:\n",
    "            results[name] = []\n",
    "        for i in range(repeats):\n",
    "            print(f'start train network with {name}, repeat {i}')\n",
    "            \n",
    "            models = [MyConvModel(n, mode, use_bn) for n in [8, 12, 16, 24, 32]]\n",
    "\n",
    "            for pair in TrainHelper.train_models(models):\n",
    "                results[name].append(pair)\n",
    "\n",
    "    return results\n",
    "\n",
    "results_bn = run_networks(use_bn=True, repeats=4)"
   ],
   "metadata": {
    "collapsed": false,
    "ExecuteTime": {
     "end_time": "2023-07-06T00:54:46.519908976Z",
     "start_time": "2023-07-05T22:58:10.232035051Z"
    }
   }
  },
  {
   "cell_type": "code",
   "execution_count": 17,
   "outputs": [
    {
     "name": "stderr",
     "output_type": "stream",
     "text": [
      "/tmp/ipykernel_617307/13160794.py:11: UserWarning: *c* argument looks like a single numeric RGB or RGBA sequence, which should be avoided as value-mapping will have precedence in case its length matches with *x* & *y*.  Please use the *color* keyword-argument or provide a 2D array with a single row if you intend to specify the same RGB or RGBA value for all points.\n",
      "  ax.scatter(params_counts, accuracies, c=color, label=name)\n"
     ]
    },
    {
     "data": {
      "text/plain": "<Figure size 1200x1200 with 1 Axes>",
      "image/png": "[encoded data removed]"
     },
     "metadata": {},
     "output_type": "display_data"
    }
   ],
   "source": [
    "plt.rcParams['figure.figsize'] = [12, 12]\n",
    "fig, ax = plt.subplots()\n",
    "ax.set_xscale(\"log\")\n",
    "ax.set_ylim(0.988, 0.997)\n",
    "\n",
    "for i, (name, r) in enumerate(results_bn.items()):\n",
    "    params_counts = [p[0] for p in r]\n",
    "    accuracies = [p[1] for p in r]\n",
    "\n",
    "    color = colorsys.hsv_to_rgb(i * 0.2, 1.0, 1.0)\n",
    "    ax.scatter(params_counts, accuracies, c=color, label=name)\n",
    "\n",
    "ax.legend()\n",
    "plt.show()"
   ],
   "metadata": {
    "collapsed": false,
    "ExecuteTime": {
     "end_time": "2023-07-06T10:51:42.927962007Z",
     "start_time": "2023-07-06T10:51:42.726302849Z"
    }
   }
  },
  {
   "cell_type": "code",
   "execution_count": 9,
   "outputs": [
    {
     "name": "stdout",
     "output_type": "stream",
     "text": [
      "start train network with relu, repeat 0\n",
      "best accuracy = 0.9772, parameters = 13250, training time = 85.96172189712524\n",
      "best accuracy = 0.9846, parameters = 29422, training time = 85.92859840393066\n",
      "best accuracy = 0.9885, parameters = 51962, training time = 85.81628060340881\n",
      "best accuracy = 0.9899, parameters = 116146, training time = 85.62074518203735\n",
      "best accuracy = 0.9907, parameters = 205802, training time = 86.31692910194397\n",
      "start train network with relu, repeat 1\n",
      "best accuracy = 0.9825, parameters = 13250, training time = 86.160724401474\n",
      "best accuracy = 0.9831, parameters = 29422, training time = 85.69887804985046\n",
      "best accuracy = 0.9871, parameters = 51962, training time = 85.44513416290283\n",
      "best accuracy = 0.9905, parameters = 116146, training time = 85.65231013298035\n",
      "best accuracy = 0.9911, parameters = 205802, training time = 85.65886211395264\n",
      "start train network with relu, repeat 2\n",
      "best accuracy = 0.9776, parameters = 13250, training time = 85.52700114250183\n",
      "best accuracy = 0.9836, parameters = 29422, training time = 85.60417556762695\n",
      "best accuracy = 0.9888, parameters = 51962, training time = 85.16202163696289\n",
      "best accuracy = 0.9901, parameters = 116146, training time = 85.68458962440491\n",
      "best accuracy = 0.9905, parameters = 205802, training time = 85.50839114189148\n",
      "start train network with relu, repeat 3\n",
      "best accuracy = 0.9801, parameters = 13250, training time = 85.69611740112305\n",
      "best accuracy = 0.9845, parameters = 29422, training time = 85.28326916694641\n",
      "best accuracy = 0.9866, parameters = 51962, training time = 85.08253622055054\n",
      "best accuracy = 0.9899, parameters = 116146, training time = 85.32266163825989\n",
      "best accuracy = 0.9911, parameters = 205802, training time = 85.60505771636963\n",
      "start train network with glu, repeat 0\n",
      "best accuracy = 0.9801, parameters = 26170, training time = 85.37234592437744\n",
      "best accuracy = 0.9849, parameters = 58354, training time = 85.21824264526367\n",
      "best accuracy = 0.9847, parameters = 103274, training time = 85.55587410926819\n",
      "best accuracy = 0.9882, parameters = 231322, training time = 85.78987288475037\n",
      "best accuracy = 0.9886, parameters = 410314, training time = 86.46608829498291\n",
      "start train network with glu, repeat 1\n",
      "best accuracy = 0.9777, parameters = 26170, training time = 85.60835242271423\n",
      "best accuracy = 0.9836, parameters = 58354, training time = 85.45735955238342\n",
      "best accuracy = 0.9861, parameters = 103274, training time = 85.27348947525024\n",
      "best accuracy = 0.9883, parameters = 231322, training time = 85.70073008537292\n",
      "best accuracy = 0.9893, parameters = 410314, training time = 86.3962574005127\n",
      "start train network with glu, repeat 2\n",
      "best accuracy = 0.9745, parameters = 26170, training time = 85.39222526550293\n",
      "best accuracy = 0.9845, parameters = 58354, training time = 85.75259375572205\n",
      "best accuracy = 0.9867, parameters = 103274, training time = 85.22213768959045\n",
      "best accuracy = 0.9871, parameters = 231322, training time = 86.2453031539917\n",
      "best accuracy = 0.9881, parameters = 410314, training time = 86.73430347442627\n",
      "start train network with glu, repeat 3\n",
      "best accuracy = 0.9822, parameters = 26170, training time = 85.4931309223175\n",
      "best accuracy = 0.9857, parameters = 58354, training time = 85.40628576278687\n",
      "best accuracy = 0.9868, parameters = 103274, training time = 85.55850315093994\n",
      "best accuracy = 0.9871, parameters = 231322, training time = 86.29254102706909\n",
      "best accuracy = 0.9896, parameters = 410314, training time = 86.67942762374878\n",
      "start train network with softmax, repeat 0\n",
      "best accuracy = 0.9735, parameters = 26170, training time = 85.78429913520813\n",
      "best accuracy = 0.9744, parameters = 58354, training time = 85.96526432037354\n",
      "best accuracy = 0.9803, parameters = 103274, training time = 86.3331778049469\n",
      "best accuracy = 0.1135, parameters = 231322, training time = 86.93185949325562\n",
      "best accuracy = 0.1135, parameters = 410314, training time = 91.80891466140747\n",
      "start train network with softmax, repeat 1\n",
      "best accuracy = 0.9403, parameters = 26170, training time = 86.04104280471802\n",
      "best accuracy = 0.845, parameters = 58354, training time = 86.22106099128723\n",
      "best accuracy = 0.9761, parameters = 103274, training time = 86.41515231132507\n",
      "best accuracy = 0.9673, parameters = 231322, training time = 87.6190836429596\n",
      "best accuracy = 0.1135, parameters = 410314, training time = 92.02690696716309\n",
      "start train network with softmax, repeat 2\n",
      "best accuracy = 0.9686, parameters = 26170, training time = 86.53862690925598\n",
      "best accuracy = 0.971, parameters = 58354, training time = 86.2405297756195\n",
      "best accuracy = 0.9762, parameters = 103274, training time = 86.2850091457367\n",
      "best accuracy = 0.1135, parameters = 231322, training time = 87.30941438674927\n",
      "best accuracy = 0.1135, parameters = 410314, training time = 91.95804762840271\n",
      "start train network with softmax, repeat 3\n",
      "best accuracy = 0.9707, parameters = 26170, training time = 86.40509748458862\n",
      "best accuracy = 0.9769, parameters = 58354, training time = 86.25262522697449\n",
      "best accuracy = 0.976, parameters = 103274, training time = 86.57596683502197\n",
      "best accuracy = 0.1135, parameters = 231322, training time = 87.5271487236023\n",
      "best accuracy = 0.964, parameters = 410314, training time = 92.05237698554993\n",
      "start train network with softmax4heads, repeat 0\n",
      "best accuracy = 0.9643, parameters = 26170, training time = 86.67545628547668\n",
      "best accuracy = 0.9753, parameters = 58354, training time = 86.26961612701416\n",
      "best accuracy = 0.9702, parameters = 103274, training time = 86.3669102191925\n",
      "best accuracy = 0.9697, parameters = 231322, training time = 87.72013330459595\n",
      "best accuracy = 0.1135, parameters = 410314, training time = 91.95293092727661\n",
      "start train network with softmax4heads, repeat 1\n",
      "best accuracy = 0.965, parameters = 26170, training time = 86.51654481887817\n",
      "best accuracy = 0.973, parameters = 58354, training time = 86.22965049743652\n",
      "best accuracy = 0.9699, parameters = 103274, training time = 86.8321385383606\n",
      "best accuracy = 0.9758, parameters = 231322, training time = 87.48492765426636\n",
      "best accuracy = 0.1135, parameters = 410314, training time = 92.34231996536255\n",
      "start train network with softmax4heads, repeat 2\n",
      "best accuracy = 0.975, parameters = 26170, training time = 86.5719735622406\n",
      "best accuracy = 0.9732, parameters = 58354, training time = 86.63830757141113\n",
      "best accuracy = 0.9782, parameters = 103274, training time = 86.68850326538086\n",
      "best accuracy = 0.9708, parameters = 231322, training time = 87.46972727775574\n",
      "best accuracy = 0.1135, parameters = 410314, training time = 92.43434739112854\n",
      "start train network with softmax4heads, repeat 3\n",
      "best accuracy = 0.9589, parameters = 26170, training time = 86.38773894309998\n",
      "best accuracy = 0.97, parameters = 58354, training time = 86.14694476127625\n",
      "best accuracy = 0.9708, parameters = 103274, training time = 86.47972202301025\n",
      "best accuracy = 0.1135, parameters = 231322, training time = 87.3282961845398\n",
      "best accuracy = 0.9707, parameters = 410314, training time = 92.099041223526\n"
     ]
    }
   ],
   "source": [
    "results_no_bn = run_networks(repeats=4, use_bn=False)"
   ],
   "metadata": {
    "collapsed": false,
    "ExecuteTime": {
     "end_time": "2023-07-06T02:50:24.303933796Z",
     "start_time": "2023-07-06T00:54:46.778511920Z"
    }
   }
  },
  {
   "cell_type": "code",
   "execution_count": 15,
   "outputs": [
    {
     "name": "stderr",
     "output_type": "stream",
     "text": [
      "/tmp/ipykernel_617307/914445671.py:11: UserWarning: *c* argument looks like a single numeric RGB or RGBA sequence, which should be avoided as value-mapping will have precedence in case its length matches with *x* & *y*.  Please use the *color* keyword-argument or provide a 2D array with a single row if you intend to specify the same RGB or RGBA value for all points.\n",
      "  ax.scatter(params_counts, accuracies, c=color, label=name)\n"
     ]
    },
    {
     "data": {
      "text/plain": "<Figure size 1200x1200 with 1 Axes>",
      "image/png": "[encoded data removed]"
     },
     "metadata": {},
     "output_type": "display_data"
    }
   ],
   "source": [
    "plt.rcParams['figure.figsize'] = [12, 12]\n",
    "fig, ax = plt.subplots()\n",
    "ax.set_xscale(\"log\")\n",
    "ax.set_ylim(0.97, 0.993)\n",
    "\n",
    "for i, (name, r) in enumerate(results_no_bn.items()):\n",
    "    params_counts = [p[0] for p in r]\n",
    "    accuracies = [p[1] for p in r]\n",
    "\n",
    "    color = colorsys.hsv_to_rgb(i * 0.2, 1.0, 1.0)\n",
    "    ax.scatter(params_counts, accuracies, c=color, label=name)\n",
    "\n",
    "ax.legend()\n",
    "plt.show()"
   ],
   "metadata": {
    "collapsed": false,
    "ExecuteTime": {
     "end_time": "2023-07-06T10:51:13.991739001Z",
     "start_time": "2023-07-06T10:51:13.798532046Z"
    }
   }
  },
  {
   "cell_type": "code",
   "execution_count": null,
   "outputs": [],
   "source": [],
   "metadata": {
    "collapsed": false
   }
  }
 ],
 "metadata": {
  "kernelspec": {
   "display_name": "Python 3",
   "language": "python",
   "name": "python3"
  },
  "language_info": {
   "codemirror_mode": {
    "name": "ipython",
    "version": 2
   },
   "file_extension": ".py",
   "mimetype": "text/x-python",
   "name": "python",
   "nbconvert_exporter": "python",
   "pygments_lexer": "ipython2",
   "version": "2.7.6"
  }
 },
 "nbformat": 4,
 "nbformat_minor": 0
}
