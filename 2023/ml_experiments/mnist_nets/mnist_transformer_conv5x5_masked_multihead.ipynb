{
 "cells": [
  {
   "cell_type": "code",
   "execution_count": 1,
   "metadata": {
    "ExecuteTime": {
     "end_time": "2023-04-13T12:29:23.477102Z",
     "start_time": "2023-04-13T12:29:23.346816Z"
    }
   },
   "outputs": [],
   "source": [
    "import time\n",
    "from typing import Optional, Tuple, List\n",
    "\n",
    "\n",
    "import matplotlib.pyplot as plt\n",
    "import numpy as np\n",
    "import torch\n",
    "import torch.nn as nn\n",
    "import torch.nn.functional as F\n",
    "from torch.autograd import Variable\n",
    "from torch.utils.data import DataLoader"
   ]
  },
  {
   "cell_type": "code",
   "execution_count": 2,
   "metadata": {
    "ExecuteTime": {
     "end_time": "2023-04-13T12:29:23.490374Z",
     "start_time": "2023-04-13T12:29:23.393196Z"
    }
   },
   "outputs": [
    {
     "data": {
      "text/plain": [
       "True"
      ]
     },
     "execution_count": 2,
     "metadata": {},
     "output_type": "execute_result"
    }
   ],
   "source": [
    "torch.cuda.is_available()"
   ]
  },
  {
   "cell_type": "code",
   "execution_count": 3,
   "metadata": {
    "ExecuteTime": {
     "end_time": "2023-04-13T12:29:23.490600Z",
     "start_time": "2023-04-13T12:29:23.393293Z"
    }
   },
   "outputs": [
    {
     "data": {
      "text/plain": [
       "'1.13.1+cu117'"
      ]
     },
     "execution_count": 3,
     "metadata": {},
     "output_type": "execute_result"
    }
   ],
   "source": [
    "torch.__version__"
   ]
  },
  {
   "cell_type": "code",
   "execution_count": 4,
   "metadata": {
    "ExecuteTime": {
     "end_time": "2023-04-13T12:29:23.490736Z",
     "start_time": "2023-04-13T12:29:23.393381Z"
    }
   },
   "outputs": [],
   "source": [
    "from torchvision import datasets\n",
    "from torchvision.transforms import ToTensor\n",
    "\n",
    "train_data = datasets.MNIST(\n",
    "    root='../models/mnist',\n",
    "    train=True,\n",
    "    transform=ToTensor(),\n",
    "    download=True,\n",
    ")\n",
    "\n",
    "test_data = datasets.MNIST(\n",
    "    root='../models/mnist',\n",
    "    train=False,\n",
    "    transform=ToTensor(),\n",
    "    download=True,\n",
    ")"
   ]
  },
  {
   "cell_type": "code",
   "execution_count": 5,
   "metadata": {
    "ExecuteTime": {
     "end_time": "2023-04-13T12:29:23.491071Z",
     "start_time": "2023-04-13T12:29:23.426887Z"
    }
   },
   "outputs": [],
   "source": [
    "class TrainHelper:\n",
    "    @staticmethod\n",
    "    def train(cnn: nn.Module,\n",
    "              *,\n",
    "              lr: float,\n",
    "              epochs: int,\n",
    "              train_dataset: datasets.MNIST,\n",
    "              test_dataset: Optional[datasets.MNIST] = None,\n",
    "              print_results: bool = True,\n",
    "              batch_size: int,\n",
    "              device_name: str) -> List[float]:\n",
    "\n",
    "        train_loader = torch.utils.data.DataLoader(train_dataset,\n",
    "                                                   batch_size=batch_size,\n",
    "                                                   shuffle=True,\n",
    "                                                   num_workers=1)\n",
    "\n",
    "        device = torch.device(device_name)\n",
    "\n",
    "        cnn.to(device)\n",
    "        cnn.train()\n",
    "\n",
    "        optimizer = torch.optim.Adam(cnn.parameters(), lr=lr)\n",
    "        loss_func = nn.CrossEntropyLoss()\n",
    "\n",
    "        eval_results: List[float] = []\n",
    "\n",
    "        for epoch in range(epochs):\n",
    "            for images, labels in train_loader:\n",
    "                images = Variable(images.to(device))\n",
    "                labels = Variable(labels.to(device))\n",
    "\n",
    "                output = cnn(images)\n",
    "                loss = loss_func(output, labels)\n",
    "\n",
    "                optimizer.zero_grad()\n",
    "                loss.backward()\n",
    "                optimizer.step()\n",
    "\n",
    "            if test_dataset is not None:\n",
    "                eval_result = TrainHelper.test(cnn, test_dataset, device, batch_size)\n",
    "                eval_results.append(eval_result)\n",
    "                if print_results:\n",
    "                    print(f\"epoch {epoch}, accuracy = {eval_result}, loss = {loss.detach()}\")\n",
    "                cnn.train()\n",
    "\n",
    "        return eval_results\n",
    "\n",
    "    @staticmethod\n",
    "    def test(cnn: nn.Module, test_dataset: datasets.MNIST, device:str, batch_size: int) -> float:\n",
    "        cnn.eval()\n",
    "        loader = torch.utils.data.DataLoader(test_dataset, batch_size=batch_size, shuffle=False, num_workers=1)\n",
    "        correct = 0\n",
    "        incorrect = 0\n",
    "\n",
    "        for images, labels in loader:\n",
    "            if device is not None:\n",
    "                images = images.to(device)\n",
    "\n",
    "            results = cnn(images)\n",
    "            predictions = results.detach().cpu().numpy().argmax(axis=1)\n",
    "            oks = (predictions == labels.numpy()).sum()\n",
    "            correct += oks\n",
    "            incorrect += len(predictions) - oks\n",
    "\n",
    "        return correct / (correct + incorrect)\n",
    "\n",
    "    @staticmethod\n",
    "    def train_models(models: List[nn.Module], device_name: str, batch_size: int, lr: float) -> Tuple[int, float]:\n",
    "        \"\"\"\n",
    "        generator yields pair (trainable parameters count, best accuracy) for each network\n",
    "        :param device_name: 'cuda' or 'cpu'\n",
    "        \"\"\"\n",
    "        assert len(models) > 0\n",
    "\n",
    "        for model in models:\n",
    "            start = time.time()\n",
    "            eval_results = TrainHelper.train(\n",
    "                lr=lr,\n",
    "                cnn=model,\n",
    "                epochs=20,\n",
    "                train_dataset=train_data,\n",
    "                test_dataset=test_data,\n",
    "                batch_size=batch_size,\n",
    "                device_name=device_name,\n",
    "                print_results=False\n",
    "            )\n",
    "            end = time.time()\n",
    "            best_acc = max(eval_results)\n",
    "            params_count = TrainHelper.total_parameters_count(model)\n",
    "            print(f\"best accuracy = {best_acc}, parameters = {params_count}, training time = {end - start}\")\n",
    "            yield params_count, best_acc\n",
    "\n",
    "    @staticmethod\n",
    "    def total_parameters_count(model: nn.Module) -> int:\n",
    "        return sum(np.prod(p.size()) for p in model.parameters())\n",
    "\n",
    "    @staticmethod\n",
    "    def print_parameters(model: nn.Module):\n",
    "        print(f\"total parameters = {TrainHelper.total_parameters_count(model)}\")\n",
    "        for p in model.parameters():\n",
    "            print(f\"size {np.prod(p.size())}: {p.size()}\")"
   ]
  },
  {
   "cell_type": "code",
   "execution_count": 6,
   "metadata": {
    "ExecuteTime": {
     "end_time": "2023-04-13T12:29:23.491177Z",
     "start_time": "2023-04-13T12:29:23.469286Z"
    }
   },
   "outputs": [],
   "source": [
    "class MyTransformer2d(nn.Module):\n",
    "    def __init__(self, ch: int, kq_ch: int, img_size: int, ff_ch: int, kernel_size: int, extra_pad: int, num_heads: int):\n",
    "        super(MyTransformer2d, self).__init__()\n",
    "\n",
    "        self.kernel_size: int = kernel_size\n",
    "        self.extra_pad: int = extra_pad\n",
    "\n",
    "        # implementation but ineffective\n",
    "        self.attention_heads = nn.ModuleList([MyAttention2d(in_ch=ch, kq_ch=kq_ch // num_heads, out_ch=ch, img_size=img_size, kernel_size=kernel_size, extra_pad=extra_pad) for _ in range(num_heads)])\n",
    "\n",
    "        self.norm1 = nn.BatchNorm2d(ch)\n",
    "        self.norm2 = nn.BatchNorm2d(ch)\n",
    "\n",
    "        self.ff = nn.Sequential(\n",
    "            nn.Conv2d(ch, ff_ch, kernel_size=1, bias=True),\n",
    "            nn.LeakyReLU(0.1),\n",
    "            nn.Conv2d(ff_ch, ch, kernel_size=1, bias=True),\n",
    "        )\n",
    "\n",
    "    def forward(self, x):\n",
    "        d_size = (self.kernel_size - 1) // 2 - self.extra_pad\n",
    "        attended = torch.stack([head(x) for head in self.attention_heads], dim=4).sum(dim=4)\n",
    "        x = self.norm1(attended + x[:, :, d_size:-d_size, d_size:-d_size])\n",
    "        x = self.norm2(self.ff(x) + x)\n",
    "        return x"
   ]
  },
  {
   "cell_type": "code",
   "execution_count": 7,
   "metadata": {
    "ExecuteTime": {
     "end_time": "2023-04-13T12:29:23.491279Z",
     "start_time": "2023-04-13T12:29:23.469409Z"
    }
   },
   "outputs": [],
   "source": [
    "class MyAttention2d(nn.Module):\n",
    "    def __init__(self, in_ch: int, kq_ch: int, out_ch: int, img_size: int, kernel_size: int, extra_pad: int):\n",
    "        super(MyAttention2d, self).__init__()\n",
    "\n",
    "        self.in_ch: int = in_ch\n",
    "        self.out_ch: int = out_ch\n",
    "        self.img_size: int = img_size\n",
    "        self.kernel_size: int = kernel_size\n",
    "        self.extra_pad: int = extra_pad\n",
    "        assert self.extra_pad >= 0\n",
    "\n",
    "        # size = [b_s, ch, h, w]\n",
    "        self.to_key = nn.Conv2d(in_ch, kq_ch, kernel_size=1, bias=False)\n",
    "        self.to_query = nn.Conv2d(in_ch, kq_ch, kernel_size=1, bias=False)\n",
    "        self.to_value = nn.Conv2d(in_ch, out_ch, kernel_size=1, bias=False)\n",
    "\n",
    "        self.key_pos_embedding = nn.Parameter(torch.zeros(size=(1, 1, kq_ch)))\n",
    "        self.query_pos_embedding = nn.Parameter(torch.zeros(size=(1, kernel_size ** 2, kq_ch)))\n",
    "        self.value_pos_embedding = nn.Parameter(torch.zeros(size=(1, kernel_size ** 2, out_ch)))\n",
    "\n",
    "        self.mask: nn.Parameter = nn.Parameter(self.make_mask(img_size, kernel_size, extra_pad))\n",
    "        self.mask.requires_grad = False\n",
    "\n",
    "    def make_mask(self, img_size: int, kernel_size: int, extra_pad: int):\n",
    "        new_size = img_size + extra_pad * 2 - (kernel_size - 1)\n",
    "        img_input = torch.zeros(1, 1, img_size, img_size)\n",
    "        img_padded = F.pad(img_input, (extra_pad, extra_pad, extra_pad, extra_pad), mode=\"constant\", value=-float(\"inf\"))\n",
    "        img_repacked = self.repack_img_valid_pad(img_padded)\n",
    "        assert img_repacked.size() == (new_size * new_size, kernel_size ** 2, 1)\n",
    "        img_repacked = torch.reshape(img_repacked, (1, new_size, new_size, kernel_size ** 2))\n",
    "        return img_repacked\n",
    "\n",
    "    def repack_img_valid_pad(self, img: torch.Tensor):\n",
    "        batch_size, channels, height, width = img.size()\n",
    "        assert width == self.img_size + self.extra_pad * 2\n",
    "        assert height == self.img_size + self.extra_pad * 2\n",
    "\n",
    "        img = img.view(batch_size, channels, height, width, 1)\n",
    "\n",
    "        new_w = width - (self.kernel_size - 1)\n",
    "        new_h = height - (self.kernel_size - 1)\n",
    "\n",
    "        img = torch.cat([img[:, :, :, i: new_w + i] for i in range(self.kernel_size)], dim=4)\n",
    "        img = torch.cat([img[:, :, i: new_h + i] for i in range(self.kernel_size)], dim=4)\n",
    "        assert img.size() == (batch_size, channels, new_h, new_w, self.kernel_size ** 2)\n",
    "\n",
    "        img = torch.moveaxis(img, 1, 4)\n",
    "        assert img.size() == (batch_size, new_h, new_w, self.kernel_size ** 2, channels)\n",
    "\n",
    "        img = img.reshape(batch_size * new_h * new_w, self.kernel_size ** 2, channels)\n",
    "        return img\n",
    "\n",
    "    def repack_keys(self, img: torch.Tensor):\n",
    "        batch_size, channels, height, width = img.size()\n",
    "        assert width == self.img_size + self.extra_pad * 2\n",
    "        assert height == self.img_size + self.extra_pad * 2\n",
    "\n",
    "        new_w = width - (self.kernel_size - 1)\n",
    "        new_h = height - (self.kernel_size - 1)\n",
    "        pad = (self.kernel_size - 1) // 2\n",
    "\n",
    "        img = img[:, :, pad : new_h + pad, pad : new_w + pad]\n",
    "        img = torch.moveaxis(img, 1, 3)\n",
    "        assert img.size() == (batch_size, new_h, new_w, channels), f\"expected {(batch_size, new_h, new_w, channels)}, got {img.size()}\"\n",
    "\n",
    "        img = img.reshape(batch_size * new_h * new_w, 1, channels)\n",
    "        return img\n",
    "\n",
    "    def forward(self, x):\n",
    "        batch_size, channels, height, width = x.size()\n",
    "        new_height = height + self.extra_pad * 2 - (self.kernel_size - 1)\n",
    "        new_width = width + self.extra_pad * 2 - (self.kernel_size - 1)\n",
    "\n",
    "        if self.extra_pad != 0:\n",
    "            p = self.extra_pad\n",
    "            x = F.pad(x, (p, p, p, p), \"constant\", 0.0)\n",
    "\n",
    "        key = self.to_key(x)\n",
    "        query = self.to_query(x)\n",
    "        value = self.to_value(x)\n",
    "\n",
    "        packed_key = self.repack_keys(key) + self.key_pos_embedding\n",
    "        # b, k**2, ch\n",
    "        packed_query = self.repack_img_valid_pad(query) + self.query_pos_embedding\n",
    "        # b, k**2, ch\n",
    "        packed_value = self.repack_img_valid_pad(value) + self.value_pos_embedding\n",
    "        # b, k**2, out_ch\n",
    "\n",
    "        dots = torch.bmm(packed_key, torch.moveaxis(packed_query, 1, 2))\n",
    "        assert dots.size() == (batch_size * new_height * new_width, 1, self.kernel_size ** 2)\n",
    "\n",
    "        masked_dots = torch.reshape(dots, (batch_size, new_height, new_width, self.kernel_size ** 2))\n",
    "        masked_dots = masked_dots + self.mask\n",
    "        masked_dots = torch.reshape(masked_dots, (batch_size * new_height * new_width, 1, self.kernel_size ** 2))\n",
    "\n",
    "        weights = F.softmax(masked_dots / 3.0, dim=2)\n",
    "        # b, 1, k**2\n",
    "\n",
    "        out = torch.bmm(weights, packed_value)\n",
    "        assert out.size() == (batch_size * new_height * new_width, 1, self.out_ch)\n",
    "        # b, 1, ch\n",
    "\n",
    "        out = out.reshape(batch_size, new_height, new_width, self.out_ch)\n",
    "        out = torch.moveaxis(out, 3, 1)\n",
    "\n",
    "        assert out.size() == (batch_size, self.out_ch, new_height, new_width)\n",
    "        return out\n"
   ]
  },
  {
   "cell_type": "code",
   "execution_count": 8,
   "metadata": {
    "ExecuteTime": {
     "end_time": "2023-04-13T12:29:23.491382Z",
     "start_time": "2023-04-13T12:29:23.469606Z"
    }
   },
   "outputs": [],
   "source": [
    "class MyConvT3(nn.Module):\n",
    "    def __init__(self, channels: int, extra_pad: int, num_heads: int):\n",
    "        super(MyConvT3, self).__init__()\n",
    "\n",
    "        c = channels\n",
    "        self.layers = nn.Sequential(\n",
    "            nn.Conv2d(1, c, kernel_size=1, padding=\"valid\", bias=False),  # 28\n",
    "            MyTransformer2d(c, c, 28, c * 2, kernel_size=3 + 2 * extra_pad, extra_pad=extra_pad, num_heads=num_heads),  # 26\n",
    "            MyTransformer2d(c, c, 26, c * 2, kernel_size=3 + 2 * extra_pad, extra_pad=extra_pad, num_heads=num_heads),  # 24\n",
    "            nn.MaxPool2d(2),  # 12\n",
    "\n",
    "            nn.Conv2d(c, c * 2, kernel_size=1, padding=\"valid\", bias=False),  # 12\n",
    "            MyTransformer2d(c * 2, c * 2, 12, c * 4, kernel_size=3 + 2 * extra_pad, extra_pad=extra_pad, num_heads=num_heads),  # 10\n",
    "            MyTransformer2d(c * 2, c * 2, 10, c * 4, kernel_size=3 + 2 * extra_pad, extra_pad=extra_pad, num_heads=num_heads),  # 8\n",
    "            nn.MaxPool2d(2),  # 4\n",
    "\n",
    "            MyTransformer2d(c * 2, c * 4, 4, c * 8, kernel_size=3 + 2 * extra_pad, extra_pad=extra_pad, num_heads=num_heads),  # 2\n",
    "            nn.Conv2d(c * 2, c * 4, kernel_size=2, padding=\"valid\", bias=False),  # 1\n",
    "            nn.BatchNorm2d(c * 4),\n",
    "            nn.LeakyReLU(0.1),\n",
    "\n",
    "            nn.Conv2d(c * 4, 10, kernel_size=1),  # 1\n",
    "            nn.Flatten(),\n",
    "        )\n",
    "\n",
    "    def conv(self, in_ch: int, out_ch: int, *, kernel_size):\n",
    "        return nn.Sequential(\n",
    "            nn.Conv2d(in_ch, out_ch, kernel_size=kernel_size, padding='valid', bias=False),\n",
    "            nn.BatchNorm2d(out_ch),\n",
    "            nn.LeakyReLU(0.1),\n",
    "        )\n",
    "\n",
    "    def forward(self, x: torch.Tensor):\n",
    "        return self.layers(x)\n"
   ]
  },
  {
   "cell_type": "code",
   "execution_count": 9,
   "metadata": {
    "ExecuteTime": {
     "end_time": "2023-04-13T12:29:23.539629Z",
     "start_time": "2023-04-13T12:29:23.469725Z"
    }
   },
   "outputs": [],
   "source": [
    "model = MyConvT3(64, extra_pad=1, num_heads=4)\n",
    "accuracies = []"
   ]
  },
  {
   "cell_type": "code",
   "execution_count": 10,
   "metadata": {
    "ExecuteTime": {
     "end_time": "2023-04-13T12:29:23.551177Z",
     "start_time": "2023-04-13T12:29:23.517181Z"
    }
   },
   "outputs": [
    {
     "data": {
      "text/plain": [
       "1027834"
      ]
     },
     "execution_count": 10,
     "metadata": {},
     "output_type": "execute_result"
    }
   ],
   "source": [
    "TrainHelper.total_parameters_count(model)"
   ]
  },
  {
   "cell_type": "code",
   "execution_count": 11,
   "metadata": {},
   "outputs": [],
   "source": [
    "batch_size = 32"
   ]
  },
  {
   "cell_type": "code",
   "execution_count": 12,
   "metadata": {
    "ExecuteTime": {
     "end_time": "2023-04-13T03:19:45.839137Z",
     "start_time": "2023-04-13T02:49:28.297675Z"
    }
   },
   "outputs": [
    {
     "name": "stdout",
     "output_type": "stream",
     "text": [
      "epoch 0, accuracy = 0.9813, loss = 0.011605696752667427\n",
      "epoch 1, accuracy = 0.9849, loss = 0.2376014143228531\n",
      "epoch 2, accuracy = 0.989, loss = 0.01146967988461256\n",
      "epoch 3, accuracy = 0.9859, loss = 0.008069178089499474\n",
      "epoch 4, accuracy = 0.9892, loss = 0.02337707206606865\n",
      "epoch 5, accuracy = 0.9884, loss = 0.012124835513532162\n",
      "epoch 6, accuracy = 0.9899, loss = 0.03446425125002861\n",
      "epoch 7, accuracy = 0.9921, loss = 0.0020552624482661486\n",
      "epoch 8, accuracy = 0.9915, loss = 0.003964578732848167\n",
      "epoch 9, accuracy = 0.9922, loss = 9.616902389097959e-05\n"
     ]
    }
   ],
   "source": [
    "accuracies += TrainHelper.train(\n",
    "    lr = 0.0003,\n",
    "    cnn=model,\n",
    "    epochs=10,\n",
    "    train_dataset=train_data,\n",
    "    test_dataset=test_data,\n",
    "    batch_size=batch_size,\n",
    "    device_name='cuda',\n",
    "    print_results=True,\n",
    ")"
   ]
  },
  {
   "cell_type": "code",
   "execution_count": 13,
   "metadata": {
    "ExecuteTime": {
     "end_time": "2023-04-13T03:47:47.547302Z",
     "start_time": "2023-04-13T03:19:45.833257Z"
    }
   },
   "outputs": [
    {
     "name": "stdout",
     "output_type": "stream",
     "text": [
      "epoch 0, accuracy = 0.9938, loss = 0.0009767914889380336\n",
      "epoch 1, accuracy = 0.9937, loss = 6.424218008760363e-05\n",
      "epoch 2, accuracy = 0.9945, loss = 0.0006581955822184682\n",
      "epoch 3, accuracy = 0.9937, loss = 0.04351174831390381\n",
      "epoch 4, accuracy = 0.994, loss = 2.7722242521122098e-05\n",
      "epoch 5, accuracy = 0.9936, loss = 0.005530886352062225\n",
      "epoch 6, accuracy = 0.9949, loss = 0.08377350866794586\n",
      "epoch 7, accuracy = 0.9941, loss = 4.953483585268259e-05\n",
      "epoch 8, accuracy = 0.9936, loss = 0.00014412656310014427\n",
      "epoch 9, accuracy = 0.9945, loss = 4.032925426145084e-05\n"
     ]
    }
   ],
   "source": [
    "accuracies += TrainHelper.train(\n",
    "    lr = 0.0001,\n",
    "    cnn=model,\n",
    "    epochs=10,\n",
    "    train_dataset=train_data,\n",
    "    test_dataset=test_data,\n",
    "    batch_size=batch_size,\n",
    "    device_name='cuda',\n",
    "    print_results=True,\n",
    ")"
   ]
  },
  {
   "cell_type": "code",
   "execution_count": 14,
   "metadata": {
    "ExecuteTime": {
     "end_time": "2023-04-13T04:15:10.614788Z",
     "start_time": "2023-04-13T03:47:47.537524Z"
    }
   },
   "outputs": [
    {
     "name": "stdout",
     "output_type": "stream",
     "text": [
      "epoch 0, accuracy = 0.9953, loss = 0.0001028548795147799\n",
      "epoch 1, accuracy = 0.9955, loss = 6.172448775032535e-05\n",
      "epoch 2, accuracy = 0.9957, loss = 1.4445834494836163e-05\n",
      "epoch 3, accuracy = 0.9954, loss = 4.8892743507167324e-05\n",
      "epoch 4, accuracy = 0.9955, loss = 0.001417443505488336\n",
      "epoch 5, accuracy = 0.9953, loss = 0.00019716033420991153\n",
      "epoch 6, accuracy = 0.9947, loss = 6.95190392434597e-05\n",
      "epoch 7, accuracy = 0.9951, loss = 5.20309476996772e-05\n",
      "epoch 8, accuracy = 0.9953, loss = 4.658003672375344e-05\n",
      "epoch 9, accuracy = 0.9954, loss = 8.866503048921004e-05\n"
     ]
    }
   ],
   "source": [
    "accuracies += TrainHelper.train(\n",
    "    lr = 0.00001,\n",
    "    cnn=model,\n",
    "    epochs=10,\n",
    "    train_dataset=train_data,\n",
    "    test_dataset=test_data,\n",
    "    batch_size=batch_size,\n",
    "    device_name='cuda',\n",
    "    print_results=True,\n",
    ")"
   ]
  },
  {
   "cell_type": "code",
   "execution_count": 15,
   "metadata": {},
   "outputs": [
    {
     "name": "stdout",
     "output_type": "stream",
     "text": [
      "epoch 0, accuracy = 0.9954, loss = 3.889148047164781e-06\n",
      "epoch 1, accuracy = 0.9953, loss = 1.0831831787072588e-05\n",
      "epoch 2, accuracy = 0.9951, loss = 9.264326763513964e-06\n",
      "epoch 3, accuracy = 0.9956, loss = 1.851180786616169e-05\n",
      "epoch 4, accuracy = 0.9955, loss = 0.000297301885439083\n",
      "epoch 5, accuracy = 0.9952, loss = 1.1986417121079285e-05\n",
      "epoch 6, accuracy = 0.9953, loss = 9.525702625978738e-05\n",
      "epoch 7, accuracy = 0.9954, loss = 0.0049956245347857475\n",
      "epoch 8, accuracy = 0.9954, loss = 7.677727808186319e-06\n",
      "epoch 9, accuracy = 0.9952, loss = 0.0008114860975183547\n"
     ]
    }
   ],
   "source": [
    "accuracies += TrainHelper.train(\n",
    "    lr = 0.000003,\n",
    "    cnn=model,\n",
    "    epochs=10,\n",
    "    train_dataset=train_data,\n",
    "    test_dataset=test_data,\n",
    "    batch_size=batch_size,\n",
    "    device_name='cuda',\n",
    "    print_results=True,\n",
    ")"
   ]
  },
  {
   "cell_type": "code",
   "execution_count": 16,
   "metadata": {
    "ExecuteTime": {
     "end_time": "2023-04-13T04:15:10.840493Z",
     "start_time": "2023-04-13T04:15:10.613251Z"
    }
   },
   "outputs": [
    {
     "name": "stderr",
     "output_type": "stream",
     "text": [
      "No artists with labels found to put in legend.  Note that artists whose label start with an underscore are ignored when legend() is called with no argument.\n"
     ]
    },
    {
     "data": {
      "image/png": "[encoded data removed]",
      "text/plain": [
       "<Figure size 1200x1200 with 1 Axes>"
      ]
     },
     "metadata": {},
     "output_type": "display_data"
    }
   ],
   "source": [
    "plt.rcParams['figure.figsize'] = [12, 12]\n",
    "fig, ax = plt.subplots()\n",
    "ax.set_xscale(\"log\")\n",
    "ax.set_ylim(0.95, 1)\n",
    "\n",
    "ax.plot(list(range(len(accuracies))), accuracies, c='red')\n",
    "ax.legend()\n",
    "plt.show()"
   ]
  }
 ],
 "metadata": {
  "kernelspec": {
   "display_name": "Python 3 (ipykernel)",
   "language": "python",
   "name": "python3"
  },
  "language_info": {
   "codemirror_mode": {
    "name": "ipython",
    "version": 3
   },
   "file_extension": ".py",
   "mimetype": "text/x-python",
   "name": "python",
   "nbconvert_exporter": "python",
   "pygments_lexer": "ipython3",
   "version": "3.10.6"
  }
 },
 "nbformat": 4,
 "nbformat_minor": 1
}
