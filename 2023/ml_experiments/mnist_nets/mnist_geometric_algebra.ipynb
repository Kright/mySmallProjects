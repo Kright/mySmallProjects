{
 "cells": [
  {
   "cell_type": "code",
   "outputs": [],
   "source": [
    "import time\n",
    "from typing import Optional, Tuple, List\n",
    "\n",
    "import matplotlib.pyplot as plt\n",
    "import numpy as np\n",
    "import torch\n",
    "import torch.nn as nn\n",
    "from torch.autograd import Variable\n",
    "from torch.utils.data import DataLoader\n",
    "\n",
    "from myutil import Bias, ComplexMag, GA2Mag"
   ],
   "metadata": {
    "collapsed": false,
    "ExecuteTime": {
     "end_time": "2024-01-13T14:27:24.747164Z",
     "start_time": "2024-01-13T14:27:23.683993Z"
    }
   },
   "execution_count": 1
  },
  {
   "cell_type": "code",
   "outputs": [
    {
     "data": {
      "text/plain": [
       "'2.0.1+cu117'"
      ]
     },
     "metadata": {},
     "output_type": "execute_result",
     "execution_count": 2
    }
   ],
   "source": [
    "torch.__version__"
   ],
   "metadata": {
    "collapsed": false,
    "ExecuteTime": {
     "end_time": "2024-01-13T14:27:26.381340Z",
     "start_time": "2024-01-13T14:27:26.374361Z"
    }
   },
   "execution_count": 2
  },
  {
   "cell_type": "code",
   "outputs": [],
   "source": [
    "from torchvision import datasets\n",
    "from torchvision.transforms import ToTensor\n",
    "\n",
    "train_data = datasets.MNIST(\n",
    "    root='models/mnist',\n",
    "    train=True,\n",
    "    transform=ToTensor(),\n",
    "    download=True,\n",
    ")\n",
    "\n",
    "test_data = datasets.MNIST(\n",
    "    root='models/mnist',\n",
    "    train=False,\n",
    "    transform=ToTensor(),\n",
    "    download=True,\n",
    ")"
   ],
   "metadata": {
    "collapsed": false,
    "ExecuteTime": {
     "end_time": "2024-01-13T14:27:27.369736Z",
     "start_time": "2024-01-13T14:27:27.161076Z"
    }
   },
   "execution_count": 3
  },
  {
   "cell_type": "code",
   "outputs": [],
   "source": [
    "class TrainHelper:\n",
    "    @staticmethod\n",
    "    def train(cnn: nn.Module,\n",
    "              *,\n",
    "              epochs: int,\n",
    "              train_dataset: datasets.MNIST,\n",
    "              test_dataset: Optional[datasets.MNIST] = None,\n",
    "              print_results: bool = True,\n",
    "              batch_size: int,\n",
    "              device_name: str) -> List[float]:\n",
    "\n",
    "        train_loader = torch.utils.data.DataLoader(train_dataset,\n",
    "                                                   batch_size=batch_size,\n",
    "                                                   shuffle=True,\n",
    "                                                   num_workers=1)\n",
    "\n",
    "        device = torch.device(device_name)\n",
    "\n",
    "        cnn.to(device)\n",
    "        cnn.train()\n",
    "\n",
    "        optimizer = torch.optim.Adam(cnn.parameters(), lr=0.001)\n",
    "        loss_func = nn.CrossEntropyLoss()\n",
    "\n",
    "        eval_results: List[float] = []\n",
    "\n",
    "        for epoch in range(epochs):\n",
    "            for images, labels in train_loader:\n",
    "                images = Variable(images.to(device))\n",
    "                labels = Variable(labels.to(device))\n",
    "\n",
    "                output = cnn(images)\n",
    "                loss = loss_func(output, labels)\n",
    "\n",
    "                optimizer.zero_grad()\n",
    "                loss.backward()\n",
    "                optimizer.step()\n",
    "\n",
    "            if test_dataset is not None:\n",
    "                eval_result = TrainHelper.test(cnn, test_dataset, device)\n",
    "                eval_results.append(eval_result)\n",
    "                if print_results:\n",
    "                    print(f\"epoch {epoch}, accuracy = {eval_result}, loss = {loss.detach()}\")\n",
    "                cnn.train()\n",
    "\n",
    "        return eval_results\n",
    "\n",
    "    @staticmethod\n",
    "    def test(cnn: nn.Module, test_dataset: datasets.MNIST, device=None) -> float:\n",
    "        cnn.eval()\n",
    "        loader = torch.utils.data.DataLoader(test_dataset, batch_size=128, shuffle=False, num_workers=1)\n",
    "        correct = 0\n",
    "        incorrect = 0\n",
    "\n",
    "        for images, labels in loader:\n",
    "            if device is not None:\n",
    "                images = images.to(device)\n",
    "\n",
    "            results = cnn(images)\n",
    "            predictions = results.detach().cpu().numpy().argmax(axis=1)\n",
    "            oks = (predictions == labels.numpy()).sum()\n",
    "            correct += oks\n",
    "            incorrect += len(predictions) - oks\n",
    "\n",
    "        return correct / (correct + incorrect)\n",
    "\n",
    "    @staticmethod\n",
    "    def train_models(models: List[nn.Module], device_name: str) -> Tuple[int, float]:\n",
    "        \"\"\"\n",
    "        generator yields pair (trainable parameters count, best accuracy) for each network\n",
    "        :param device_name: 'cuda' or 'cpu'\n",
    "        \"\"\"\n",
    "        assert len(models) > 0\n",
    "\n",
    "        for model in models:\n",
    "            start = time.time()\n",
    "            eval_results = TrainHelper.train(\n",
    "                cnn=model,\n",
    "                epochs=20,\n",
    "                train_dataset=train_data,\n",
    "                test_dataset=test_data,\n",
    "                batch_size=2048,\n",
    "                device_name=device_name,\n",
    "                print_results=False\n",
    "            )\n",
    "            end = time.time()\n",
    "            best_acc = max(eval_results)\n",
    "            params_count = TrainHelper.total_parameters_count(model)\n",
    "            print(f\"best accuracy = {best_acc}, parameters = {params_count}, training time = {end - start}\")\n",
    "            yield params_count, best_acc\n",
    "\n",
    "    @staticmethod\n",
    "    def total_parameters_count(model: nn.Module) -> int:\n",
    "        return sum(np.prod(p.size()) for p in model.parameters())\n",
    "\n",
    "    @staticmethod\n",
    "    def print_parameters(model: nn.Module):\n",
    "        print(f\"total parameters = {TrainHelper.total_parameters_count(model)}\")\n",
    "        for p in model.parameters():\n",
    "            print(f\"size {np.prod(p.size())}: {p.size()}\")"
   ],
   "metadata": {
    "collapsed": false,
    "ExecuteTime": {
     "end_time": "2024-01-13T14:27:28.322172Z",
     "start_time": "2024-01-13T14:27:28.311550Z"
    }
   },
   "execution_count": 4
  },
  {
   "cell_type": "code",
   "outputs": [],
   "source": [
    "class ComplexConv2d(nn.Module):\n",
    "    \"\"\"\n",
    "    no bias!\n",
    "    first half of channels is real part, second half - imaginary\n",
    "    \"\"\"\n",
    "\n",
    "    def __init__(self, in_ch_complex: int, out_ch_complex: int, *, kernel_size: int):\n",
    "        super(ComplexConv2d, self).__init__()\n",
    "        self.in_ch_complex = in_ch_complex\n",
    "        self.out_ch_complex = out_ch_complex\n",
    "\n",
    "        self.conv_re = nn.Conv2d(in_ch_complex, out_ch_complex, bias=False, stride=1, kernel_size=kernel_size,padding='valid')\n",
    "        self.conv_im = nn.Conv2d(in_ch_complex, out_ch_complex, bias=False, stride=1, kernel_size=kernel_size,padding='valid')\n",
    "\n",
    "    def forward(self, x):\n",
    "        assert x.size()[1] == self.in_ch_complex * 2\n",
    "        re, im = x[:, :self.in_ch_complex], x[:, self.in_ch_complex:]\n",
    "\n",
    "        out_re = self.conv_re(re) - self.conv_im(im)\n",
    "        out_im = self.conv_im(re) + self.conv_re(im)\n",
    "\n",
    "        return torch.cat([out_re, out_im], dim=1)\n",
    "\n",
    "\n",
    "class GA2Conv2d(nn.Module):\n",
    "    \"\"\"\n",
    "    no bias!\n",
    "    GA(2, 0, 1), so it has x, y where xx = 1, yy = 1\n",
    "    \"\"\"\n",
    "\n",
    "    def __init__(self, in_ch_ga2: int, out_ch_ga2: int, *, kernel_size: int):\n",
    "        super(GA2Conv2d, self).__init__()\n",
    "        self.in_ch = in_ch_ga2\n",
    "        self.out_ch = out_ch_ga2\n",
    "        self.convs = nn.ParameterList(\n",
    "            [nn.Conv2d(self.in_ch, self.out_ch, bias=False, stride=1, kernel_size=kernel_size, padding='valid') for _ in range(4)]\n",
    "        )\n",
    "\n",
    "    def forward(self, x):\n",
    "        assert x.size()[1] == self.in_ch * 4\n",
    "\n",
    "        ch = self.in_ch\n",
    "        s, x, y, xy = x[:, :ch], x[:, ch:2 * ch], x[:, 2 * ch:3 * ch], x[:, 3 * ch:4 * ch]\n",
    "\n",
    "        c_s, c_x, c_y, c_xy = self.convs\n",
    "\n",
    "        # (a + b x + c y + d xy) (e + f x + g y + h xy) == \n",
    "        # (ae + bf + cg + dh) + (af + be - ch + dg)x + (ag + bh + ce - df)y + (ah + bg - cf + de)xy\n",
    "\n",
    "        # a => c_s, b => c_x, c => c_y, d => c_xy\n",
    "        # e => s, f => x, g => y, h => xy \n",
    "\n",
    "        out_lst = [\n",
    "            c_s(s) + c_x(x) + c_y(y) + c_xy(xy),\n",
    "            c_s(x) + c_x(s) - c_y(xy) + c_xy(y),\n",
    "            c_s(y) + c_x(xy) + c_y(s) - c_xy(x),\n",
    "            c_s(xy) + c_x(y) - c_y(x) + c_xy(s),\n",
    "        ]\n",
    "\n",
    "        return torch.cat(out_lst, dim=1)"
   ],
   "metadata": {
    "collapsed": false,
    "ExecuteTime": {
     "end_time": "2024-01-13T14:27:35.383098Z",
     "start_time": "2024-01-13T14:27:35.376631Z"
    }
   },
   "execution_count": 5
  },
  {
   "cell_type": "code",
   "outputs": [],
   "source": [
    "class MyConvModel(nn.Module):\n",
    "    def __init__(self, channels: int, mode: str):\n",
    "        super(MyConvModel, self).__init__()\n",
    "        self.channels = channels\n",
    "        self.mode = mode\n",
    "\n",
    "        c = channels\n",
    "        self.conv1 = self.conv(1, c, kernel_size=3)  # 28 - 26\n",
    "        self.conv2 = self.conv(c, c, kernel_size=3, max_pool=2)  # 26 - 24 - 12\n",
    "        self.conv3 = self.conv(c, c * 2, kernel_size=3)  # 12 - 10\n",
    "        self.conv4 = self.conv(c * 2, c * 2, kernel_size=3, max_pool=2)  # 10 - 8 - 4\n",
    "        self.conv5 = self.conv(c * 2, c * 4, kernel_size=3)  # 4 - 2\n",
    "        self.conv6 = self.conv(c * 4, c * 4, kernel_size=2)  # 2 - 1\n",
    "        self.conv7 = self.conv(c * 4, 10, kernel_size=1, use_activation=False)\n",
    "        self.to_real: Optional[nn.Module] = GA2Mag()\n",
    "        self.flatten = nn.Flatten()\n",
    "\n",
    "    def conv(self, in_ch: int, out_ch: int, *, kernel_size, max_pool: int = 1, use_activation: bool = True):\n",
    "        layers: List[nn.Module] = []\n",
    "\n",
    "        if self.mode == 'complex':\n",
    "            layers.append(ComplexConv2d(in_ch * 2, out_ch * 2, kernel_size=kernel_size))\n",
    "        elif self.mode == 'ga2':\n",
    "            layers.append(GA2Conv2d(in_ch, out_ch, kernel_size=kernel_size))\n",
    "        elif self.mode == 'naive':\n",
    "            layers.append(nn.Conv2d(in_ch * 4, out_ch * 4, kernel_size=kernel_size, padding='valid', bias=False))\n",
    "        else:\n",
    "            raise NameError(f\"wrong mode: {self.mode}\")\n",
    "\n",
    "        if max_pool != 1:\n",
    "            layers.append(nn.MaxPool2d(kernel_size=max_pool))\n",
    "\n",
    "        layers.append(Bias(out_ch * 4))\n",
    "\n",
    "        if use_activation:\n",
    "            layers.append(nn.LeakyReLU(0.1))\n",
    "\n",
    "        return nn.Sequential(*layers)\n",
    "\n",
    "    def forward(self, x: torch.Tensor):\n",
    "        x = torch.cat([x, x * 0.0, x * 0.0, x*0.0], dim=1)  # convert to ga2\n",
    "        x = self.conv1(x)\n",
    "        x = self.conv2(x)\n",
    "        x = self.conv3(x)\n",
    "        x = self.conv4(x)\n",
    "        x = self.conv5(x)\n",
    "        x = self.conv6(x)\n",
    "        x = self.conv7(x)\n",
    "        if self.to_real is not None:\n",
    "            x = self.to_real(x)\n",
    "        x = self.flatten(x)\n",
    "        return x"
   ],
   "metadata": {
    "collapsed": false,
    "ExecuteTime": {
     "end_time": "2024-01-13T14:33:35.933529Z",
     "start_time": "2024-01-13T14:33:35.922771Z"
    }
   },
   "execution_count": 15
  },
  {
   "cell_type": "code",
   "outputs": [],
   "source": [
    "modes = ['naive', 'complex', 'ga2']\n",
    "channel_multipliers = [4, 6, 8, 12, 16, 24, 32]\n",
    "results = {mode: [] for mode in modes}"
   ],
   "metadata": {
    "collapsed": false,
    "ExecuteTime": {
     "end_time": "2024-01-13T14:33:35.950015Z",
     "start_time": "2024-01-13T14:33:35.946755Z"
    }
   },
   "execution_count": 16
  },
  {
   "cell_type": "markdown",
   "source": [
    "## Cell below could be executed several times to get more points"
   ],
   "metadata": {
    "collapsed": false
   }
  },
  {
   "cell_type": "code",
   "outputs": [
    {
     "name": "stdout",
     "output_type": "stream",
     "text": [
      "best accuracy = 0.9874, parameters = 54344, training time = 88.31350255012512\n",
      "best accuracy = 0.9907, parameters = 119704, training time = 87.05747890472412\n",
      "best accuracy = 0.9902, parameters = 210536, training time = 87.07830452919006\n",
      "best accuracy = 0.9923, parameters = 468616, training time = 87.36914658546448\n",
      "best accuracy = 0.9921, parameters = 828584, training time = 87.80779528617859\n",
      "best accuracy = 0.9931, parameters = 1854184, training time = 88.87243676185608\n",
      "best accuracy = 0.9931, parameters = 3287336, training time = 88.68127679824829\n",
      "best accuracy = 0.9849, parameters = 27304, training time = 88.04167151451111\n",
      "best accuracy = 0.9896, parameters = 60040, training time = 88.14633989334106\n",
      "best accuracy = 0.9912, parameters = 105512, training time = 88.70636081695557\n",
      "best accuracy = 0.9913, parameters = 234664, training time = 89.04811143875122\n",
      "best accuracy = 0.9919, parameters = 414760, training time = 91.5902533531189\n",
      "best accuracy = 0.9928, parameters = 927784, training time = 127.87618231773376\n",
      "best accuracy = 0.9935, parameters = 1644584, training time = 171.58439016342163\n",
      "best accuracy = 0.9798, parameters = 13784, training time = 89.36908316612244\n",
      "best accuracy = 0.9875, parameters = 30208, training time = 89.67454361915588\n",
      "best accuracy = 0.9901, parameters = 53000, training time = 89.78670310974121\n",
      "best accuracy = 0.9913, parameters = 117688, training time = 103.64617490768433\n",
      "best accuracy = 0.991, parameters = 207848, training time = 169.21289134025574\n",
      "best accuracy = 0.9928, parameters = 464584, training time = 240.47953081130981\n",
      "best accuracy = 0.9931, parameters = 823208, training time = 306.0835416316986\n"
     ]
    }
   ],
   "source": [
    "for i in range(1):\n",
    "    for mode in modes:\n",
    "        models = [MyConvModel(n, mode=mode) for n in channel_multipliers]\n",
    "        for pair in TrainHelper.train_models(models, device_name='cuda'):\n",
    "            results[mode].append(pair)"
   ],
   "metadata": {
    "collapsed": false,
    "ExecuteTime": {
     "end_time": "2024-01-13T15:14:24.564447Z",
     "start_time": "2024-01-13T14:33:35.964437Z"
    }
   },
   "execution_count": 17
  },
  {
   "cell_type": "code",
   "outputs": [
    {
     "name": "stderr",
     "output_type": "stream",
     "text": [
      "No artists with labels found to put in legend.  Note that artists whose label start with an underscore are ignored when legend() is called with no argument.\n"
     ]
    },
    {
     "data": {
      "text/plain": [
       "<Figure size 1200x1200 with 1 Axes>"
      ],
      "image/png": "[encoded data removed]"
     },
     "metadata": {},
     "output_type": "display_data"
    }
   ],
   "source": [
    "plt.rcParams['figure.figsize'] = [12, 12]\n",
    "fig, ax = plt.subplots()\n",
    "ax.set_xscale(\"log\")\n",
    "ax.set_ylim(0.97, 1)\n",
    "\n",
    "mode_to_color = {\n",
    "    'naive': 'red',\n",
    "    'complex': 'green',\n",
    "    'ga2': 'blue',\n",
    "}\n",
    "\n",
    "for mode in modes:\n",
    "    list_of_pairs = results[mode]\n",
    "    params_counts = [p[0] for p in list_of_pairs]\n",
    "    accuracies = [p[1] for p in list_of_pairs]\n",
    "\n",
    "    ax.scatter(params_counts, accuracies, c=mode_to_color[mode], alpha=0.5, marker=r'.')\n",
    "\n",
    "ax.legend()\n",
    "plt.show()"
   ],
   "metadata": {
    "collapsed": false,
    "ExecuteTime": {
     "end_time": "2024-01-13T15:21:31.462511Z",
     "start_time": "2024-01-13T15:21:31.237990Z"
    }
   },
   "execution_count": 19
  }
 ],
 "metadata": {
  "kernelspec": {
   "display_name": "Python 3",
   "language": "python",
   "name": "python3"
  },
  "language_info": {
   "codemirror_mode": {
    "name": "ipython",
    "version": 2
   },
   "file_extension": ".py",
   "mimetype": "text/x-python",
   "name": "python",
   "nbconvert_exporter": "python",
   "pygments_lexer": "ipython2",
   "version": "2.7.6"
  }
 },
 "nbformat": 4,
 "nbformat_minor": 0
}
