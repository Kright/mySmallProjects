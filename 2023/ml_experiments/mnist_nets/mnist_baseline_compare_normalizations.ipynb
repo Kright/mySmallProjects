{
 "cells": [
  {
   "cell_type": "code",
   "execution_count": 1,
   "metadata": {
    "ExecuteTime": {
     "end_time": "2023-07-07T12:43:42.170046784Z",
     "start_time": "2023-07-07T12:43:41.351263272Z"
    },
    "collapsed": false,
    "jupyter": {
     "outputs_hidden": false
    }
   },
   "outputs": [],
   "source": [
    "import time\n",
    "from typing import Optional, Tuple, List, Dict\n",
    "import colorsys\n",
    "\n",
    "import matplotlib.pyplot as plt\n",
    "import numpy as np\n",
    "import torch\n",
    "import torch.nn as nn\n",
    "from torch.autograd import Variable\n",
    "from torch.utils.data import DataLoader\n",
    "from enum import Enum"
   ]
  },
  {
   "cell_type": "code",
   "execution_count": 2,
   "metadata": {
    "ExecuteTime": {
     "end_time": "2023-07-07T12:43:42.230028531Z",
     "start_time": "2023-07-07T12:43:42.204222828Z"
    },
    "collapsed": false,
    "jupyter": {
     "outputs_hidden": false
    }
   },
   "outputs": [
    {
     "data": {
      "text/plain": [
       "True"
      ]
     },
     "execution_count": 2,
     "metadata": {},
     "output_type": "execute_result"
    }
   ],
   "source": [
    "torch.cuda.is_available()"
   ]
  },
  {
   "cell_type": "code",
   "execution_count": 3,
   "metadata": {
    "ExecuteTime": {
     "end_time": "2023-07-07T12:43:42.232182259Z",
     "start_time": "2023-07-07T12:43:42.207978548Z"
    },
    "collapsed": false,
    "jupyter": {
     "outputs_hidden": false
    }
   },
   "outputs": [
    {
     "data": {
      "text/plain": [
       "'2.0.1+cu117'"
      ]
     },
     "execution_count": 3,
     "metadata": {},
     "output_type": "execute_result"
    }
   ],
   "source": [
    "torch.__version__"
   ]
  },
  {
   "cell_type": "code",
   "execution_count": 4,
   "metadata": {
    "ExecuteTime": {
     "end_time": "2023-07-07T12:43:42.381145408Z",
     "start_time": "2023-07-07T12:43:42.213050906Z"
    },
    "collapsed": false,
    "jupyter": {
     "outputs_hidden": false
    }
   },
   "outputs": [],
   "source": [
    "from torchvision import datasets\n",
    "from torchvision.transforms import ToTensor\n",
    "\n",
    "train_data = datasets.MNIST(\n",
    "    root='../models/mnist',\n",
    "    train=True,\n",
    "    transform=ToTensor(),\n",
    "    download=True,\n",
    ")\n",
    "\n",
    "test_data = datasets.MNIST(\n",
    "    root='../models/mnist',\n",
    "    train=False,\n",
    "    transform=ToTensor(),\n",
    "    download=True,\n",
    ")"
   ]
  },
  {
   "cell_type": "code",
   "execution_count": 5,
   "metadata": {
    "ExecuteTime": {
     "end_time": "2023-07-07T12:43:42.431396505Z",
     "start_time": "2023-07-07T12:43:42.389762212Z"
    },
    "collapsed": false,
    "jupyter": {
     "outputs_hidden": false
    }
   },
   "outputs": [],
   "source": [
    "\n",
    "class TrainHelper:\n",
    "    @staticmethod\n",
    "    def train(cnn: nn.Module,\n",
    "              *,\n",
    "              epochs: int,\n",
    "              train_dataset: datasets.MNIST,\n",
    "              test_dataset: Optional[datasets.MNIST] = None,\n",
    "              print_results: bool = True,\n",
    "              batch_size: int,\n",
    "              device_name: str) -> List[float]:\n",
    "\n",
    "        train_loader = torch.utils.data.DataLoader(train_dataset,\n",
    "                                                   batch_size=batch_size,\n",
    "                                                   shuffle=True,\n",
    "                                                   num_workers=1)\n",
    "\n",
    "        device = torch.device(device_name)\n",
    "\n",
    "        cnn.to(device)\n",
    "        cnn.train()\n",
    "\n",
    "        optimizer = torch.optim.Adam(cnn.parameters(), lr=0.001)\n",
    "        loss_func = nn.CrossEntropyLoss()\n",
    "\n",
    "        eval_results: List[float] = []\n",
    "\n",
    "        for epoch in range(epochs):\n",
    "            for images, labels in train_loader:\n",
    "                images = Variable(images.to(device))\n",
    "                labels = Variable(labels.to(device))\n",
    "\n",
    "                output = cnn(images)\n",
    "                loss = loss_func(output, labels)\n",
    "\n",
    "                optimizer.zero_grad()\n",
    "                loss.backward()\n",
    "                optimizer.step()\n",
    "\n",
    "            if test_dataset is not None:\n",
    "                eval_result = TrainHelper.test(cnn, test_dataset, device)\n",
    "                eval_results.append(eval_result)\n",
    "                if print_results:\n",
    "                    print(f\"epoch {epoch}, accuracy = {eval_result}, loss = {loss.detach()}\")\n",
    "                cnn.train()\n",
    "\n",
    "        return eval_results\n",
    "\n",
    "    @staticmethod\n",
    "    def test(cnn: nn.Module, test_dataset: datasets.MNIST, device=None) -> float:\n",
    "        cnn.eval()\n",
    "        loader = torch.utils.data.DataLoader(test_dataset, batch_size=128, shuffle=False, num_workers=1)\n",
    "        correct = 0\n",
    "        incorrect = 0\n",
    "\n",
    "        for images, labels in loader:\n",
    "            if device is not None:\n",
    "                images = images.to(device)\n",
    "\n",
    "            results = cnn(images)\n",
    "            predictions = results.detach().cpu().numpy().argmax(axis=1)\n",
    "            oks = (predictions == labels.numpy()).sum()\n",
    "            correct += oks\n",
    "            incorrect += len(predictions) - oks\n",
    "\n",
    "        return correct / (correct + incorrect)\n",
    "\n",
    "    @staticmethod\n",
    "    def train_models(models: List[nn.Module], device_name: str = 'cuda') -> Tuple[int, float]:\n",
    "        \"\"\"\n",
    "        generator yields pair (trainable parameters count, best accuracy) for each network\n",
    "        :param device_name: 'cuda' or 'cpu'\n",
    "        \"\"\"\n",
    "        assert len(models) > 0\n",
    "\n",
    "        for model in models:\n",
    "            start = time.time()\n",
    "            eval_results = TrainHelper.train(\n",
    "                cnn=model,\n",
    "                epochs=10,\n",
    "                train_dataset=train_data,\n",
    "                test_dataset=test_data,\n",
    "                batch_size=2048,\n",
    "                device_name=device_name,\n",
    "                print_results=False\n",
    "            )\n",
    "            end = time.time()\n",
    "            best_acc = max(eval_results)\n",
    "            params_count = TrainHelper.total_parameters_count(model)\n",
    "            print(f\"best accuracy = {best_acc}, parameters = {params_count}, training time = {end - start}\")\n",
    "            yield params_count, best_acc\n",
    "\n",
    "    @staticmethod\n",
    "    def total_parameters_count(model: nn.Module) -> int:\n",
    "        return sum(np.prod(p.size()) for p in model.parameters())\n",
    "\n",
    "    @staticmethod\n",
    "    def print_parameters(model: nn.Module):\n",
    "        print(f\"total parameters = {TrainHelper.total_parameters_count(model)}\")\n",
    "        for p in model.parameters():\n",
    "            print(f\"size {np.prod(p.size())}: {p.size()}\")"
   ]
  },
  {
   "cell_type": "code",
   "execution_count": 6,
   "metadata": {
    "ExecuteTime": {
     "end_time": "2023-07-07T12:43:42.431631459Z",
     "start_time": "2023-07-07T12:43:42.431285264Z"
    },
    "collapsed": false,
    "jupyter": {
     "outputs_hidden": false
    }
   },
   "outputs": [],
   "source": [
    "class Mode(Enum):\n",
    "    NO_BN = 1\n",
    "    BATCH_NORM_2D = 2\n",
    "    GROUP_NORM_4G_2D = 3\n",
    "    INSTANCE_NORM_2D = 4\n",
    "    PIXEL_NORM = 5\n",
    "\n",
    "    @staticmethod\n",
    "    def modes() -> Dict[str, 'Mode']:\n",
    "        return {\n",
    "            'no nb': Mode.NO_BN,\n",
    "            'batch norm': Mode.BATCH_NORM_2D,\n",
    "            'group norm 4g': Mode.GROUP_NORM_4G_2D,\n",
    "            'instance norm': Mode.INSTANCE_NORM_2D,\n",
    "            'pixel norm': Mode.PIXEL_NORM,\n",
    "        }\n",
    "\n",
    "class PixelNorm(nn.Module):\n",
    "    def forward(self, x: torch.Tensor) -> torch.Tensor:\n",
    "        return x / ((x ** 2).sum(dim = 1, keepdims=True) / x.size(1)).sqrt()\n",
    "\n",
    "class MyConvModel(nn.Module):\n",
    "    def __init__(self, channels: int, mode: Mode):\n",
    "        super().__init__()\n",
    "\n",
    "        self.mode: Mode = mode\n",
    "\n",
    "        c = channels\n",
    "        self.layers = nn.Sequential(\n",
    "            *self.conv(1, c, kernel_size=3),  # 28 - 26\n",
    "            *self.conv(c, c, kernel_size=3),  # 26 - 24\n",
    "            nn.MaxPool2d(2),  # 24 - 12\n",
    "\n",
    "            *self.conv(c, c * 2, kernel_size=3),  # 12 - 10\n",
    "            *self.conv(c * 2, c * 2, kernel_size=3),  # 10 - 8\n",
    "            nn.MaxPool2d(2),  # 8 - 4\n",
    "\n",
    "            *self.conv(c * 2, c * 4, kernel_size=3),  # 4 - 2\n",
    "            *self.conv(c * 4, c * 4, kernel_size=2, out_one=True),  # 2 - 1\n",
    "\n",
    "            nn.Conv2d(c * 4, 10, kernel_size=1, padding='valid', bias=True),\n",
    "            nn.Flatten(),\n",
    "        )\n",
    "\n",
    "    def conv(self, in_ch: int, out_ch: int, *, kernel_size, out_one: bool = False) -> List[nn.Module]:\n",
    "        layers: List[nn.Module] = [\n",
    "            nn.Conv2d(in_ch, out_ch, kernel_size=kernel_size, padding='valid', bias=True)\n",
    "        ]\n",
    "        \n",
    "        if self.mode == Mode.BATCH_NORM_2D:\n",
    "            layers.append(nn.BatchNorm2d(num_features=out_ch))\n",
    "        elif self.mode == Mode.GROUP_NORM_4G_2D:\n",
    "            layers.append(nn.GroupNorm(num_groups=4, num_channels=out_ch))\n",
    "        elif self.mode == Mode.INSTANCE_NORM_2D:\n",
    "            if not out_one:\n",
    "                layers.append(nn.InstanceNorm2d(num_features=out_ch))\n",
    "        elif self.mode == Mode.PIXEL_NORM:\n",
    "            layers.append(PixelNorm())    \n",
    "        elif self.mode != Mode.NO_BN:\n",
    "            raise ValueError(f\"unexpected mode {self.mode}\")\n",
    "        \n",
    "        layers.append(nn.LeakyReLU(0.1))\n",
    "        return layers\n",
    "            \n",
    "    def forward(self, x: torch.Tensor):\n",
    "        return self.layers(x)"
   ]
  },
  {
   "cell_type": "code",
   "execution_count": 7,
   "metadata": {
    "ExecuteTime": {
     "end_time": "2023-07-07T12:47:03.263500170Z",
     "start_time": "2023-07-07T12:43:42.431495127Z"
    },
    "collapsed": false,
    "jupyter": {
     "outputs_hidden": false
    },
    "scrolled": true
   },
   "outputs": [
    {
     "name": "stdout",
     "output_type": "stream",
     "text": [
      "start train network with no nb, repeat 0\n",
      "best accuracy = 0.9671, parameters = 13250, training time = 46.18888258934021\n",
      "best accuracy = 0.9733, parameters = 29422, training time = 44.90635681152344\n",
      "best accuracy = 0.9794, parameters = 51962, training time = 44.93871283531189\n",
      "best accuracy = 0.9855, parameters = 116146, training time = 44.84745788574219\n",
      "best accuracy = 0.9882, parameters = 205802, training time = 45.03482723236084\n",
      "start train network with no nb, repeat 1\n",
      "best accuracy = 0.9666, parameters = 13250, training time = 45.056666135787964\n",
      "best accuracy = 0.9684, parameters = 29422, training time = 45.10073399543762\n",
      "best accuracy = 0.9795, parameters = 51962, training time = 45.05262565612793\n",
      "best accuracy = 0.9862, parameters = 116146, training time = 45.20577812194824\n",
      "best accuracy = 0.9883, parameters = 205802, training time = 45.22325277328491\n",
      "start train network with no nb, repeat 2\n",
      "best accuracy = 0.9593, parameters = 13250, training time = 44.9990508556366\n",
      "best accuracy = 0.961, parameters = 29422, training time = 45.28596067428589\n",
      "best accuracy = 0.9787, parameters = 51962, training time = 45.19561791419983\n",
      "best accuracy = 0.9843, parameters = 116146, training time = 45.36660599708557\n",
      "best accuracy = 0.9892, parameters = 205802, training time = 45.36838483810425\n",
      "start train network with no nb, repeat 3\n",
      "best accuracy = 0.9663, parameters = 13250, training time = 45.188236713409424\n",
      "best accuracy = 0.9716, parameters = 29422, training time = 45.30819630622864\n",
      "best accuracy = 0.9816, parameters = 51962, training time = 45.213825702667236\n",
      "best accuracy = 0.9841, parameters = 116146, training time = 45.30263352394104\n",
      "best accuracy = 0.9878, parameters = 205802, training time = 45.37236022949219\n",
      "start train network with batch norm, repeat 0\n",
      "best accuracy = 0.9895, parameters = 13474, training time = 43.975616693496704\n",
      "best accuracy = 0.9929, parameters = 29758, training time = 43.819868087768555\n",
      "best accuracy = 0.9945, parameters = 52410, training time = 43.95347332954407\n",
      "best accuracy = 0.9943, parameters = 116818, training time = 43.9073748588562\n",
      "best accuracy = 0.9944, parameters = 206698, training time = 44.18080687522888\n",
      "start train network with batch norm, repeat 1\n",
      "best accuracy = 0.99, parameters = 13474, training time = 44.19575381278992\n",
      "best accuracy = 0.9913, parameters = 29758, training time = 44.32470202445984\n",
      "best accuracy = 0.9943, parameters = 52410, training time = 44.54124212265015\n",
      "best accuracy = 0.9942, parameters = 116818, training time = 44.649982929229736\n",
      "best accuracy = 0.9947, parameters = 206698, training time = 44.772786140441895\n",
      "start train network with batch norm, repeat 2\n",
      "best accuracy = 0.9898, parameters = 13474, training time = 44.61448264122009\n",
      "best accuracy = 0.9925, parameters = 29758, training time = 44.57661199569702\n",
      "best accuracy = 0.9931, parameters = 52410, training time = 44.39468789100647\n",
      "best accuracy = 0.9949, parameters = 116818, training time = 44.37845849990845\n",
      "best accuracy = 0.9948, parameters = 206698, training time = 44.56074833869934\n",
      "start train network with batch norm, repeat 3\n",
      "best accuracy = 0.9893, parameters = 13474, training time = 44.83990955352783\n",
      "best accuracy = 0.9913, parameters = 29758, training time = 44.79198741912842\n",
      "best accuracy = 0.9931, parameters = 52410, training time = 44.88887023925781\n",
      "best accuracy = 0.9942, parameters = 116818, training time = 44.923441886901855\n",
      "best accuracy = 0.994, parameters = 206698, training time = 44.900521755218506\n",
      "start train network with group norm 4g, repeat 0\n",
      "best accuracy = 0.9859, parameters = 13474, training time = 44.8121395111084\n",
      "best accuracy = 0.9899, parameters = 29758, training time = 44.93295335769653\n",
      "best accuracy = 0.9912, parameters = 52410, training time = 44.9056556224823\n",
      "best accuracy = 0.993, parameters = 116818, training time = 44.8898549079895\n",
      "best accuracy = 0.993, parameters = 206698, training time = 45.20657396316528\n",
      "start train network with group norm 4g, repeat 1\n",
      "best accuracy = 0.987, parameters = 13474, training time = 44.73839473724365\n",
      "best accuracy = 0.9914, parameters = 29758, training time = 44.86706566810608\n",
      "best accuracy = 0.9919, parameters = 52410, training time = 44.89494800567627\n",
      "best accuracy = 0.9916, parameters = 116818, training time = 45.01696562767029\n",
      "best accuracy = 0.9933, parameters = 206698, training time = 45.15546798706055\n",
      "start train network with group norm 4g, repeat 2\n",
      "best accuracy = 0.9867, parameters = 13474, training time = 44.8023419380188\n",
      "best accuracy = 0.9908, parameters = 29758, training time = 44.99286508560181\n",
      "best accuracy = 0.9927, parameters = 52410, training time = 44.72562766075134\n",
      "best accuracy = 0.9933, parameters = 116818, training time = 44.77647376060486\n",
      "best accuracy = 0.9923, parameters = 206698, training time = 45.02577066421509\n",
      "start train network with group norm 4g, repeat 3\n",
      "best accuracy = 0.9879, parameters = 13474, training time = 44.84594798088074\n",
      "best accuracy = 0.9891, parameters = 29758, training time = 45.03663468360901\n",
      "best accuracy = 0.9922, parameters = 52410, training time = 44.95292592048645\n",
      "best accuracy = 0.9931, parameters = 116818, training time = 44.89048743247986\n",
      "best accuracy = 0.9937, parameters = 206698, training time = 45.021052837371826\n",
      "start train network with instance norm, repeat 0\n",
      "best accuracy = 0.9839, parameters = 13250, training time = 44.83081245422363\n",
      "best accuracy = 0.9879, parameters = 29422, training time = 44.966092348098755\n",
      "best accuracy = 0.9898, parameters = 51962, training time = 45.10048294067383\n",
      "best accuracy = 0.9932, parameters = 116146, training time = 45.46349334716797\n",
      "best accuracy = 0.9928, parameters = 205802, training time = 45.93751049041748\n",
      "start train network with instance norm, repeat 1\n",
      "best accuracy = 0.9829, parameters = 13250, training time = 45.00266766548157\n",
      "best accuracy = 0.9886, parameters = 29422, training time = 45.31043219566345\n",
      "best accuracy = 0.9899, parameters = 51962, training time = 45.002800941467285\n",
      "best accuracy = 0.9937, parameters = 116146, training time = 45.111746311187744\n",
      "best accuracy = 0.9939, parameters = 205802, training time = 45.506638526916504\n",
      "start train network with instance norm, repeat 2\n",
      "best accuracy = 0.985, parameters = 13250, training time = 45.20560598373413\n",
      "best accuracy = 0.9889, parameters = 29422, training time = 44.91839957237244\n",
      "best accuracy = 0.99, parameters = 51962, training time = 44.99567890167236\n",
      "best accuracy = 0.9917, parameters = 116146, training time = 45.25279760360718\n",
      "best accuracy = 0.9932, parameters = 205802, training time = 45.466938495635986\n",
      "start train network with instance norm, repeat 3\n",
      "best accuracy = 0.9824, parameters = 13250, training time = 45.059407472610474\n",
      "best accuracy = 0.9894, parameters = 29422, training time = 45.16409683227539\n",
      "best accuracy = 0.9896, parameters = 51962, training time = 45.03351616859436\n",
      "best accuracy = 0.9913, parameters = 116146, training time = 45.36537718772888\n",
      "best accuracy = 0.9914, parameters = 205802, training time = 45.687543869018555\n",
      "start train network with pixel norm, repeat 0\n",
      "best accuracy = 0.9851, parameters = 13250, training time = 44.97397041320801\n",
      "best accuracy = 0.9903, parameters = 29422, training time = 44.92854189872742\n",
      "best accuracy = 0.9928, parameters = 51962, training time = 45.025054931640625\n",
      "best accuracy = 0.9926, parameters = 116146, training time = 45.06757473945618\n",
      "best accuracy = 0.994, parameters = 205802, training time = 45.526861906051636\n",
      "start train network with pixel norm, repeat 1\n",
      "best accuracy = 0.9885, parameters = 13250, training time = 44.985511302948\n",
      "best accuracy = 0.9904, parameters = 29422, training time = 45.09689950942993\n",
      "best accuracy = 0.9911, parameters = 51962, training time = 44.98256206512451\n",
      "best accuracy = 0.9936, parameters = 116146, training time = 45.43557405471802\n",
      "best accuracy = 0.994, parameters = 205802, training time = 45.64589524269104\n",
      "start train network with pixel norm, repeat 2\n",
      "best accuracy = 0.9863, parameters = 13250, training time = 45.112205505371094\n",
      "best accuracy = 0.991, parameters = 29422, training time = 45.21205449104309\n",
      "best accuracy = 0.992, parameters = 51962, training time = 45.252370834350586\n",
      "best accuracy = 0.994, parameters = 116146, training time = 45.155067920684814\n",
      "best accuracy = 0.9931, parameters = 205802, training time = 45.454123973846436\n",
      "start train network with pixel norm, repeat 3\n",
      "best accuracy = 0.9859, parameters = 13250, training time = 45.09528374671936\n",
      "best accuracy = 0.991, parameters = 29422, training time = 44.99820160865784\n",
      "best accuracy = 0.9915, parameters = 51962, training time = 45.20748019218445\n",
      "best accuracy = 0.9932, parameters = 116146, training time = 45.192424297332764\n",
      "best accuracy = 0.9949, parameters = 205802, training time = 45.52111768722534\n"
     ]
    }
   ],
   "source": [
    "def run_networks(repeats: int) -> Dict[str, List[Tuple[int, int]]]:\n",
    "    results = {}\n",
    "\n",
    "    for name, mode in Mode.modes().items():        \n",
    "        if name not in results:\n",
    "            results[name] = []\n",
    "        for i in range(repeats):\n",
    "            print(f'start train network with {name}, repeat {i}')\n",
    "            \n",
    "            models = [MyConvModel(n, mode) for n in [8, 12, 16, 24, 32]]\n",
    "\n",
    "            for pair in TrainHelper.train_models(models):\n",
    "                results[name].append(pair)\n",
    "\n",
    "    return results\n",
    "\n",
    "results_bn = run_networks(repeats=4)"
   ]
  },
  {
   "cell_type": "code",
   "execution_count": 11,
   "metadata": {
    "ExecuteTime": {
     "end_time": "2023-07-07T12:51:09.444198287Z",
     "start_time": "2023-07-07T12:51:09.180622598Z"
    },
    "collapsed": false,
    "jupyter": {
     "outputs_hidden": false
    }
   },
   "outputs": [
    {
     "name": "stderr",
     "output_type": "stream",
     "text": [
      "/tmp/ipykernel_950390/643720575.py:11: UserWarning: *c* argument looks like a single numeric RGB or RGBA sequence, which should be avoided as value-mapping will have precedence in case its length matches with *x* & *y*.  Please use the *color* keyword-argument or provide a 2D array with a single row if you intend to specify the same RGB or RGBA value for all points.\n",
      "  ax.scatter(params_counts, accuracies, c=color, label=name)\n"
     ]
    },
    {
     "data": {
      "image/png": "[encoded data removed]",
      "text/plain": [
       "<Figure size 1200x1200 with 1 Axes>"
      ]
     },
     "metadata": {},
     "output_type": "display_data"
    }
   ],
   "source": [
    "plt.rcParams['figure.figsize'] = [12, 12]\n",
    "fig, ax = plt.subplots()\n",
    "ax.set_xscale(\"log\")\n",
    "ax.set_ylim(0.95, 0.997)\n",
    "\n",
    "for i, (name, r) in enumerate(results_bn.items()):\n",
    "    params_counts = [p[0] for p in r]\n",
    "    accuracies = [p[1] for p in r]\n",
    "\n",
    "    color = colorsys.hsv_to_rgb(i * 0.2, 1.0, 1.0)\n",
    "    ax.scatter(params_counts, accuracies, c=color, label=name)\n",
    "\n",
    "ax.legend()\n",
    "plt.show()"
   ]
  },
  {
   "cell_type": "code",
   "execution_count": 12,
   "metadata": {
    "ExecuteTime": {
     "end_time": "2023-07-07T12:51:09.444198287Z",
     "start_time": "2023-07-07T12:51:09.180622598Z"
    },
    "collapsed": false,
    "jupyter": {
     "outputs_hidden": false
    }
   },
   "outputs": [
    {
     "name": "stderr",
     "output_type": "stream",
     "text": [
      "/tmp/ipykernel_950390/998449191.py:11: UserWarning: *c* argument looks like a single numeric RGB or RGBA sequence, which should be avoided as value-mapping will have precedence in case its length matches with *x* & *y*.  Please use the *color* keyword-argument or provide a 2D array with a single row if you intend to specify the same RGB or RGBA value for all points.\n",
      "  ax.scatter(params_counts, accuracies, c=color, label=name)\n"
     ]
    },
    {
     "data": {
      "image/png": "[encoded data removed]",
      "text/plain": [
       "<Figure size 1200x1200 with 1 Axes>"
      ]
     },
     "metadata": {},
     "output_type": "display_data"
    }
   ],
   "source": [
    "plt.rcParams['figure.figsize'] = [12, 12]\n",
    "fig, ax = plt.subplots()\n",
    "ax.set_xscale(\"log\")\n",
    "ax.set_ylim(0.988, 0.997)\n",
    "\n",
    "for i, (name, r) in enumerate(results_bn.items()):\n",
    "    params_counts = [p[0] for p in r]\n",
    "    accuracies = [p[1] for p in r]\n",
    "\n",
    "    color = colorsys.hsv_to_rgb(i * 0.2, 1.0, 1.0)\n",
    "    ax.scatter(params_counts, accuracies, c=color, label=name)\n",
    "\n",
    "ax.legend()\n",
    "plt.show()"
   ]
  },
  {
   "cell_type": "code",
   "execution_count": null,
   "metadata": {},
   "outputs": [],
   "source": []
  }
 ],
 "metadata": {
  "kernelspec": {
   "display_name": "Python 3 (ipykernel)",
   "language": "python",
   "name": "python3"
  },
  "language_info": {
   "codemirror_mode": {
    "name": "ipython",
    "version": 3
   },
   "file_extension": ".py",
   "mimetype": "text/x-python",
   "name": "python",
   "nbconvert_exporter": "python",
   "pygments_lexer": "ipython3",
   "version": "3.10.6"
  }
 },
 "nbformat": 4,
 "nbformat_minor": 4
}
