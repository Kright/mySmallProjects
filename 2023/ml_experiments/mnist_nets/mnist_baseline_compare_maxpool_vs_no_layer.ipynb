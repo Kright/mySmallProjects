{
 "cells": [
  {
   "cell_type": "code",
   "execution_count": 1,
   "metadata": {
    "ExecuteTime": {
     "end_time": "2023-05-02T10:31:17.404446784Z",
     "start_time": "2023-05-02T10:31:16.609924909Z"
    }
   },
   "outputs": [],
   "source": [
    "import time\n",
    "from typing import Optional, Tuple, List\n",
    "\n",
    "import matplotlib.pyplot as plt\n",
    "import numpy as np\n",
    "import torch\n",
    "import torch.nn as nn\n",
    "import torch.nn.functional as F\n",
    "from torch.autograd import Variable\n",
    "from torch.utils.data import DataLoader"
   ]
  },
  {
   "cell_type": "code",
   "execution_count": 2,
   "metadata": {
    "ExecuteTime": {
     "end_time": "2023-05-02T10:31:17.442427931Z",
     "start_time": "2023-05-02T10:31:17.437096863Z"
    }
   },
   "outputs": [
    {
     "data": {
      "text/plain": "True"
     },
     "execution_count": 2,
     "metadata": {},
     "output_type": "execute_result"
    }
   ],
   "source": [
    "torch.cuda.is_available()"
   ]
  },
  {
   "cell_type": "code",
   "execution_count": 3,
   "metadata": {
    "ExecuteTime": {
     "end_time": "2023-05-02T10:31:17.454993872Z",
     "start_time": "2023-05-02T10:31:17.440259622Z"
    }
   },
   "outputs": [
    {
     "data": {
      "text/plain": "'1.13.1+cu117'"
     },
     "execution_count": 3,
     "metadata": {},
     "output_type": "execute_result"
    }
   ],
   "source": [
    "torch.__version__"
   ]
  },
  {
   "cell_type": "code",
   "execution_count": 4,
   "metadata": {
    "ExecuteTime": {
     "end_time": "2023-05-02T10:31:17.630128968Z",
     "start_time": "2023-05-02T10:31:17.451544842Z"
    }
   },
   "outputs": [],
   "source": [
    "from torchvision import datasets\n",
    "from torchvision.transforms import ToTensor\n",
    "\n",
    "train_data = datasets.MNIST(\n",
    "    root='../models/mnist',\n",
    "    train=True,\n",
    "    transform=ToTensor(),\n",
    "    download=True,\n",
    ")\n",
    "\n",
    "test_data = datasets.MNIST(\n",
    "    root='../models/mnist',\n",
    "    train=False,\n",
    "    transform=ToTensor(),\n",
    "    download=True,\n",
    ")"
   ]
  },
  {
   "cell_type": "code",
   "execution_count": 5,
   "metadata": {
    "ExecuteTime": {
     "end_time": "2023-05-02T10:31:17.682124379Z",
     "start_time": "2023-05-02T10:31:17.638988436Z"
    }
   },
   "outputs": [],
   "source": [
    "class TrainHelper:\n",
    "    @staticmethod\n",
    "    def train(cnn: nn.Module,\n",
    "              *,\n",
    "              epochs: int,\n",
    "              train_dataset: datasets.MNIST,\n",
    "              test_dataset: Optional[datasets.MNIST] = None,\n",
    "              print_results: bool = True,\n",
    "              batch_size: int,\n",
    "              device_name: str) -> List[float]:\n",
    "\n",
    "        train_loader = torch.utils.data.DataLoader(train_dataset,\n",
    "                                                   batch_size=batch_size,\n",
    "                                                   shuffle=True,\n",
    "                                                   num_workers=1)\n",
    "\n",
    "        device = torch.device(device_name)\n",
    "\n",
    "        cnn.to(device)\n",
    "        cnn.train()\n",
    "\n",
    "        optimizer = torch.optim.Adam(cnn.parameters(), lr=0.001)\n",
    "        loss_func = nn.CrossEntropyLoss()\n",
    "\n",
    "        eval_results: List[float] = []\n",
    "\n",
    "        for epoch in range(epochs):\n",
    "            for images, labels in train_loader:\n",
    "                images = Variable(images.to(device))\n",
    "                labels = Variable(labels.to(device))\n",
    "\n",
    "                output = cnn(images)\n",
    "                loss = loss_func(output, labels)\n",
    "\n",
    "                optimizer.zero_grad()\n",
    "                loss.backward()\n",
    "                optimizer.step()\n",
    "\n",
    "            if test_dataset is not None:\n",
    "                eval_result = TrainHelper.test(cnn, test_dataset, device)\n",
    "                eval_results.append(eval_result)\n",
    "                if print_results:\n",
    "                    print(f\"epoch {epoch}, accuracy = {eval_result}, loss = {loss.detach()}\")\n",
    "                cnn.train()\n",
    "\n",
    "        return eval_results\n",
    "\n",
    "    @staticmethod\n",
    "    def test(cnn: nn.Module, test_dataset: datasets.MNIST, device=None) -> float:\n",
    "        cnn.eval()\n",
    "        loader = torch.utils.data.DataLoader(test_dataset, batch_size=128, shuffle=False, num_workers=1)\n",
    "        correct = 0\n",
    "        incorrect = 0\n",
    "\n",
    "        for images, labels in loader:\n",
    "            if device is not None:\n",
    "                images = images.to(device)\n",
    "\n",
    "            results = cnn(images)\n",
    "            predictions = results.detach().cpu().numpy().argmax(axis=1)\n",
    "            oks = (predictions == labels.numpy()).sum()\n",
    "            correct += oks\n",
    "            incorrect += len(predictions) - oks\n",
    "\n",
    "        return correct / (correct + incorrect)\n",
    "\n",
    "    @staticmethod\n",
    "    def train_models(models: List[nn.Module], device_name: str) -> Tuple[int, float]:\n",
    "        \"\"\"\n",
    "        generator yields pair (trainable parameters count, best accuracy) for each network\n",
    "        :param device_name: 'cuda' or 'cpu'\n",
    "        \"\"\"\n",
    "        assert len(models) > 0\n",
    "\n",
    "        for model in models:\n",
    "            start = time.time()\n",
    "            eval_results = TrainHelper.train(\n",
    "                cnn=model,\n",
    "                epochs=20,\n",
    "                train_dataset=train_data,\n",
    "                test_dataset=test_data,\n",
    "                batch_size=512,\n",
    "                device_name=device_name,\n",
    "                print_results=False\n",
    "            )\n",
    "            end = time.time()\n",
    "            best_acc = max(eval_results)\n",
    "            params_count = TrainHelper.total_parameters_count(model)\n",
    "            print(f\"best accuracy = {best_acc}, parameters = {params_count}, training time = {end - start}\")\n",
    "            yield params_count, best_acc\n",
    "\n",
    "    @staticmethod\n",
    "    def total_parameters_count(model: nn.Module) -> int:\n",
    "        return sum(np.prod(p.size()) for p in model.parameters())\n",
    "\n",
    "    @staticmethod\n",
    "    def print_parameters(model: nn.Module):\n",
    "        print(f\"total parameters = {TrainHelper.total_parameters_count(model)}\")\n",
    "        for p in model.parameters():\n",
    "            print(f\"size {np.prod(p.size())}: {p.size()}\")"
   ]
  },
  {
   "cell_type": "code",
   "execution_count": 6,
   "metadata": {
    "ExecuteTime": {
     "end_time": "2023-05-02T10:31:17.682390872Z",
     "start_time": "2023-05-02T10:31:17.682000398Z"
    }
   },
   "outputs": [],
   "source": [
    "from dataclasses import dataclass\n",
    "import torch.nn.functional as F\n",
    "\n",
    "\n",
    "@dataclass(eq=True, unsafe_hash=True, frozen=True)\n",
    "class Mode:\n",
    "    is_maxpool: bool\n",
    "\n",
    "    @staticmethod\n",
    "    def all() -> List['Mode']:\n",
    "        return [Mode(True), Mode(False)]\n",
    "\n",
    "\n",
    "class DownSample(nn.Module):\n",
    "    def __init__(self, mode: Mode):\n",
    "        super(DownSample, self).__init__()\n",
    "        self.mode = mode\n",
    "\n",
    "    def forward(self, x: torch.Tensor) -> torch.Tensor:\n",
    "        _, _, h, w = x.size()\n",
    "\n",
    "        if self.mode.is_maxpool:\n",
    "            x = F.max_pool2d(x, kernel_size=2)\n",
    "        else:\n",
    "            x = x[:, :, ::2, ::2]\n",
    "\n",
    "        _, _, h2, w2 = x.size()\n",
    "        assert h == h2 * 2 and w == w2 * 2, f\"{h}, {w} -> {h2}, {w2}\"\n",
    "\n",
    "        return x\n",
    "\n",
    "\n",
    "class MyConvModel(nn.Module):\n",
    "    def __init__(self, channels: int, mode: Mode):\n",
    "        super(MyConvModel, self).__init__()\n",
    "\n",
    "        c = channels\n",
    "\n",
    "        self.layers = nn.Sequential(\n",
    "            self.conv(1, c, kernel_size=3),          # 28 - 26\n",
    "            self.conv(c, c, kernel_size=3),          # 26 - 24\n",
    "            DownSample(mode),                        # 24 - 12\n",
    "\n",
    "            self.conv(c, c * 2, kernel_size=3),      # 12 - 10\n",
    "            self.conv(c * 2, c * 2, kernel_size=3),  # 10 - 8\n",
    "            DownSample(mode),                        # 8 - 4\n",
    "\n",
    "            self.conv(c * 2, c * 4, kernel_size=3),  # 4 - 2\n",
    "            self.conv(c * 4, c * 4, kernel_size=2),  # 2 - 1\n",
    "\n",
    "            nn.Conv2d(c * 4, 10, kernel_size=1, padding='valid', bias=True),\n",
    "            nn.Flatten(),\n",
    "        )\n",
    "\n",
    "    def conv(self, in_ch: int, out_ch: int, *, kernel_size: int):\n",
    "        layers = []\n",
    "\n",
    "        layers += [\n",
    "            nn.Conv2d(in_ch, out_ch, kernel_size=kernel_size, padding='valid', bias=False),\n",
    "            nn.BatchNorm2d(out_ch),\n",
    "            nn.LeakyReLU(0.1)\n",
    "        ]\n",
    "        return nn.Sequential(*layers)\n",
    "\n",
    "    def forward(self, x: torch.Tensor):\n",
    "        return self.layers(x)"
   ]
  },
  {
   "cell_type": "code",
   "execution_count": 7,
   "metadata": {
    "ExecuteTime": {
     "end_time": "2023-05-02T10:31:17.682524573Z",
     "start_time": "2023-05-02T10:31:17.682249460Z"
    }
   },
   "outputs": [],
   "source": [
    "results = {\n",
    "    mode: [] for mode in Mode.all()\n",
    "}"
   ]
  },
  {
   "cell_type": "code",
   "execution_count": 8,
   "metadata": {
    "ExecuteTime": {
     "end_time": "2023-05-02T11:31:22.586337221Z",
     "start_time": "2023-05-02T10:31:17.682349891Z"
    }
   },
   "outputs": [
    {
     "name": "stdout",
     "output_type": "stream",
     "text": [
      "best accuracy = 0.9951, parameters = 820042, training time = 95.75381255149841\n",
      "best accuracy = 0.9954, parameters = 206250, training time = 85.70330929756165\n",
      "best accuracy = 0.994, parameters = 52186, training time = 85.86848711967468\n",
      "best accuracy = 0.9926, parameters = 13362, training time = 85.41477704048157\n",
      "best accuracy = 0.9888, parameters = 3502, training time = 84.98410701751709\n",
      "best accuracy = 0.9942, parameters = 820042, training time = 92.54103970527649\n",
      "best accuracy = 0.9942, parameters = 206250, training time = 86.11086249351501\n",
      "best accuracy = 0.9924, parameters = 52186, training time = 86.48298168182373\n",
      "best accuracy = 0.9909, parameters = 13362, training time = 85.9820773601532\n",
      "best accuracy = 0.989, parameters = 3502, training time = 86.48986864089966\n",
      "best accuracy = 0.9957, parameters = 820042, training time = 92.1361517906189\n",
      "best accuracy = 0.9951, parameters = 206250, training time = 86.9450945854187\n",
      "best accuracy = 0.9945, parameters = 52186, training time = 86.32301115989685\n",
      "best accuracy = 0.9925, parameters = 13362, training time = 86.09684634208679\n",
      "best accuracy = 0.9894, parameters = 3502, training time = 87.34184718132019\n",
      "best accuracy = 0.9939, parameters = 820042, training time = 99.03503847122192\n",
      "best accuracy = 0.9946, parameters = 206250, training time = 90.85646772384644\n",
      "best accuracy = 0.9923, parameters = 52186, training time = 90.47621440887451\n",
      "best accuracy = 0.9914, parameters = 13362, training time = 90.78682136535645\n",
      "best accuracy = 0.9882, parameters = 3502, training time = 89.43039751052856\n",
      "best accuracy = 0.995, parameters = 820042, training time = 96.80104327201843\n",
      "best accuracy = 0.9952, parameters = 206250, training time = 90.31992244720459\n",
      "best accuracy = 0.9949, parameters = 52186, training time = 96.52132749557495\n",
      "best accuracy = 0.992, parameters = 13362, training time = 91.43056058883667\n",
      "best accuracy = 0.9904, parameters = 3502, training time = 88.19690203666687\n",
      "best accuracy = 0.9943, parameters = 820042, training time = 96.04880547523499\n",
      "best accuracy = 0.9942, parameters = 206250, training time = 90.40793490409851\n",
      "best accuracy = 0.9934, parameters = 52186, training time = 89.64495778083801\n",
      "best accuracy = 0.9914, parameters = 13362, training time = 90.2831437587738\n",
      "best accuracy = 0.9868, parameters = 3502, training time = 88.7042350769043\n",
      "best accuracy = 0.9947, parameters = 820042, training time = 94.91070866584778\n",
      "best accuracy = 0.9958, parameters = 206250, training time = 90.73830318450928\n",
      "best accuracy = 0.9939, parameters = 52186, training time = 92.12284779548645\n",
      "best accuracy = 0.9928, parameters = 13362, training time = 92.84936904907227\n",
      "best accuracy = 0.9912, parameters = 3502, training time = 88.94292664527893\n",
      "best accuracy = 0.9941, parameters = 820042, training time = 96.37730407714844\n",
      "best accuracy = 0.9942, parameters = 206250, training time = 90.62632060050964\n",
      "best accuracy = 0.9934, parameters = 52186, training time = 89.34666991233826\n",
      "best accuracy = 0.9914, parameters = 13362, training time = 89.14294242858887\n",
      "best accuracy = 0.9867, parameters = 3502, training time = 86.56396698951721\n"
     ]
    }
   ],
   "source": [
    "device_name = 'cuda' if torch.cuda.is_available() else 'cpu'\n",
    "\n",
    "for i in range(4):\n",
    "    for mode in Mode.all():\n",
    "        models = [MyConvModel(ch, mode) for ch in reversed([4, 8, 16, 32, 64])]\n",
    "        for pair in TrainHelper.train_models(models, device_name=device_name):\n",
    "            results[mode].append(pair)"
   ]
  },
  {
   "cell_type": "code",
   "execution_count": 9,
   "metadata": {
    "ExecuteTime": {
     "end_time": "2023-05-02T11:31:22.831104187Z",
     "start_time": "2023-05-02T11:31:22.586000296Z"
    }
   },
   "outputs": [
    {
     "name": "stderr",
     "output_type": "stream",
     "text": [
      "No artists with labels found to put in legend.  Note that artists whose label start with an underscore are ignored when legend() is called with no argument.\n"
     ]
    },
    {
     "data": {
      "text/plain": "<Figure size 1200x1200 with 1 Axes>",
      "image/png": "[encoded data removed]"
     },
     "metadata": {},
     "output_type": "display_data"
    }
   ],
   "source": [
    "plt.rcParams['figure.figsize'] = [12, 12]\n",
    "fig, ax = plt.subplots()\n",
    "ax.set_xscale(\"log\")\n",
    "ax.set_ylim(0.98, 1)\n",
    "\n",
    "modes = Mode.all()\n",
    "colors = {\n",
    "    modes[0]: 'red',\n",
    "    modes[1]: 'green',\n",
    "}\n",
    "\n",
    "for mode in modes:\n",
    "    ax.scatter([p[0] for p in results[mode]], [p[1] for p in results[mode]], c=colors[mode], alpha=0.5, marker=r'.')\n",
    "\n",
    "ax.legend()\n",
    "plt.show()"
   ]
  },
  {
   "cell_type": "code",
   "execution_count": 9,
   "outputs": [],
   "source": [],
   "metadata": {
    "collapsed": false,
    "ExecuteTime": {
     "end_time": "2023-05-02T11:31:22.977361174Z",
     "start_time": "2023-05-02T11:31:22.832349158Z"
    }
   }
  }
 ],
 "metadata": {
  "kernelspec": {
   "display_name": "Python 3 (ipykernel)",
   "language": "python",
   "name": "python3"
  },
  "language_info": {
   "codemirror_mode": {
    "name": "ipython",
    "version": 3
   },
   "file_extension": ".py",
   "mimetype": "text/x-python",
   "name": "python",
   "nbconvert_exporter": "python",
   "pygments_lexer": "ipython3",
   "version": "3.10.6"
  }
 },
 "nbformat": 4,
 "nbformat_minor": 1
}
