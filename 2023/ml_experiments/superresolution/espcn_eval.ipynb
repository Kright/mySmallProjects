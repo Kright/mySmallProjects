{
 "cells": [
  {
   "cell_type": "code",
   "execution_count": 12,
   "outputs": [],
   "source": [
    "from typing import List\n",
    "\n",
    "import torch\n",
    "import torch.cuda\n",
    "from torch.utils.data import DataLoader\n",
    "from typing import Union\n",
    "from datetime import datetime\n",
    "\n",
    "from PIL import Image as PILImage\n",
    "\n",
    "import numpy as np\n",
    "import pyml\n",
    "from models import DiscriminatorPixelMse, DownSampler, GeneratorESPCN, DiscriminatorVggMse, DiscriminatorBaselineNetwork"
   ],
   "metadata": {
    "collapsed": false,
    "ExecuteTime": {
     "end_time": "2023-04-26T15:34:54.584192294Z",
     "start_time": "2023-04-26T15:34:54.518314658Z"
    }
   }
  },
  {
   "cell_type": "code",
   "execution_count": 13,
   "outputs": [
    {
     "data": {
      "text/plain": "37385"
     },
     "execution_count": 13,
     "metadata": {},
     "output_type": "execute_result"
    }
   ],
   "source": [
    "# root = \"/mnt/pi8-v2/mnt/safedata/archive\"\n",
    "root = \"/mnt/pi8-v2/mnt/safedata/datasets/2020/torrent/windows/p\"\n",
    "images = pyml.ImagesDataset.from_dirs_recursive([root], shuffle_seed=12, channels_order='chw')\n",
    "len(images)"
   ],
   "metadata": {
    "collapsed": false,
    "ExecuteTime": {
     "end_time": "2023-04-26T15:34:59.235969037Z",
     "start_time": "2023-04-26T15:34:55.158750622Z"
    }
   }
  },
  {
   "cell_type": "code",
   "execution_count": 3,
   "outputs": [],
   "source": [
    "class EvalHelper:\n",
    "    def __init__(self):\n",
    "        scale = 4\n",
    "        self.generator = GeneratorESPCN(channels=128, upscale=scale)\n",
    "\n",
    "    def demonstrate(self, label: Union[np.ndarray, torch.Tensor]) -> PILImage:\n",
    "        if isinstance(label, np.ndarray):\n",
    "            if len(label.shape) == 3:\n",
    "                label = label[np.newaxis]\n",
    "            label = torch.from_numpy(label)\n",
    "        assert isinstance(label, torch.Tensor)\n",
    "\n",
    "        label.requires_grad = False\n",
    "        y = self.generator(label)\n",
    "        pic = y.detach().numpy()[0]\n",
    "        pic = np.moveaxis(pic, 0, 2)\n",
    "        pic = np.clip(pic, 0.0, 1.0)\n",
    "        img = PILImage.fromarray((pic * 255.0).astype(np.uint8))\n",
    "        return img\n",
    "\n",
    "    def load_model(self, suffix: str):\n",
    "        path = f\"/home/lgor/projects/2023/mySmallProjects/2023/ml_experiments/superresolution/models/espcn/generator_espcn_{suffix}.pth\"\n",
    "        self.generator.load_state_dict(torch.load(path))\n",
    "        self.generator.eval()"
   ],
   "metadata": {
    "collapsed": false,
    "ExecuteTime": {
     "end_time": "2023-04-26T14:48:45.325332875Z",
     "start_time": "2023-04-26T14:48:45.323849868Z"
    }
   }
  },
  {
   "cell_type": "code",
   "execution_count": 4,
   "outputs": [],
   "source": [
    "eval_helper = EvalHelper()\n",
    "eval_helper.load_model(\"2023-04-26-12-58-31\")"
   ],
   "metadata": {
    "collapsed": false,
    "ExecuteTime": {
     "end_time": "2023-04-26T14:48:46.325117537Z",
     "start_time": "2023-04-26T14:48:45.326898373Z"
    }
   }
  },
  {
   "cell_type": "code",
   "execution_count": 10,
   "outputs": [],
   "source": [
    "saver = pyml.ImageSaver(\"/home/lgor/projects/2023/myml/srgan/src/demo/2023-04-26\")"
   ],
   "metadata": {
    "collapsed": false,
    "ExecuteTime": {
     "end_time": "2023-04-26T15:32:54.478289581Z",
     "start_time": "2023-04-26T15:32:54.436593290Z"
    }
   }
  },
  {
   "cell_type": "code",
   "execution_count": 14,
   "outputs": [
    {
     "name": "stdout",
     "output_type": "stream",
     "text": [
      "(3, 612, 612)\n",
      "(3, 630, 1024)\n",
      "(3, 900, 600)\n",
      "(3, 640, 640)\n",
      "(3, 1024, 683)\n",
      "(3, 377, 604)\n",
      "(3, 900, 600)\n",
      "(3, 1024, 768)\n",
      "(3, 1024, 683)\n",
      "(3, 450, 450)\n",
      "(3, 965, 723)\n",
      "(3, 333, 500)\n",
      "(3, 900, 600)\n",
      "(3, 450, 600)\n",
      "(3, 630, 420)\n",
      "(3, 887, 550)\n",
      "(3, 747, 750)\n",
      "(3, 500, 332)\n",
      "(3, 900, 600)\n",
      "(3, 453, 604)\n",
      "(3, 865, 588)\n",
      "(3, 750, 500)\n",
      "(3, 900, 600)\n",
      "(3, 446, 540)\n",
      "(3, 426, 640)\n",
      "(3, 900, 608)\n",
      "(3, 1024, 747)\n",
      "(3, 1000, 667)\n",
      "(3, 600, 900)\n",
      "(3, 539, 807)\n",
      "(3, 1024, 700)\n",
      "(3, 640, 960)\n",
      "(3, 720, 555)\n",
      "(3, 750, 500)\n",
      "(3, 910, 1024)\n",
      "(3, 900, 600)\n",
      "(3, 770, 500)\n",
      "(3, 639, 960)\n",
      "(3, 604, 492)\n",
      "(3, 822, 477)\n",
      "(3, 423, 635)\n",
      "(3, 1024, 668)\n",
      "(3, 640, 480)\n",
      "(3, 700, 467)\n",
      "(3, 683, 1024)\n",
      "(3, 750, 500)\n",
      "(3, 409, 604)\n",
      "(3, 1024, 680)\n",
      "(3, 882, 600)\n",
      "(3, 530, 340)\n",
      "(3, 900, 600)\n",
      "(3, 1024, 683)\n",
      "(3, 612, 612)\n",
      "(3, 900, 600)\n",
      "(3, 900, 600)\n",
      "(3, 400, 600)\n",
      "(3, 859, 610)\n",
      "(3, 682, 1024)\n",
      "(3, 876, 617)\n",
      "(3, 1024, 585)\n",
      "(3, 1024, 683)\n",
      "(3, 683, 1024)\n",
      "(3, 600, 900)\n",
      "(3, 385, 511)\n",
      "(3, 612, 612)\n",
      "(3, 369, 250)\n",
      "(3, 1024, 682)\n",
      "(3, 900, 600)\n",
      "(3, 900, 600)\n",
      "(3, 959, 640)\n",
      "(3, 385, 600)\n",
      "(3, 684, 1024)\n",
      "(3, 577, 900)\n",
      "(3, 700, 394)\n",
      "(3, 375, 500)\n",
      "(3, 374, 250)\n",
      "(3, 900, 600)\n",
      "(3, 900, 600)\n",
      "(3, 769, 900)\n",
      "(3, 563, 1000)\n",
      "(3, 600, 900)\n",
      "(3, 768, 863)\n",
      "(3, 900, 600)\n",
      "(3, 815, 596)\n",
      "(3, 900, 499)\n",
      "(3, 1000, 750)\n",
      "(3, 661, 450)\n",
      "(3, 684, 1024)\n",
      "(3, 720, 553)\n",
      "(3, 750, 500)\n",
      "(3, 900, 600)\n",
      "(3, 360, 540)\n",
      "(3, 900, 600)\n",
      "(3, 750, 500)\n",
      "(3, 1024, 682)\n",
      "(3, 538, 807)\n",
      "(3, 675, 900)\n",
      "(3, 978, 650)\n",
      "(3, 667, 500)\n",
      "(3, 631, 1024)\n",
      "(3, 683, 1024)\n",
      "(3, 900, 911)\n",
      "(3, 628, 500)\n",
      "(3, 768, 1024)\n",
      "(3, 902, 600)\n",
      "(3, 768, 640)\n",
      "(3, 1024, 768)\n",
      "(3, 413, 640)\n",
      "(3, 600, 900)\n",
      "(3, 1024, 1024)\n",
      "(3, 683, 1024)\n",
      "(3, 700, 467)\n",
      "(3, 750, 500)\n",
      "(3, 490, 500)\n",
      "(3, 436, 640)\n",
      "(3, 576, 1024)\n",
      "(3, 665, 500)\n",
      "(3, 960, 540)\n",
      "(3, 1000, 1000)\n",
      "(3, 900, 600)\n",
      "(3, 900, 600)\n",
      "(3, 683, 1024)\n",
      "(3, 740, 524)\n",
      "(3, 900, 600)\n",
      "(3, 457, 720)\n",
      "(3, 1024, 683)\n",
      "(3, 550, 478)\n",
      "(3, 600, 900)\n",
      "(3, 499, 496)\n",
      "(3, 599, 900)\n",
      "(3, 1024, 685)\n",
      "(3, 685, 1024)\n",
      "(3, 538, 807)\n",
      "(3, 750, 500)\n",
      "(3, 403, 604)\n",
      "(3, 734, 500)\n",
      "(3, 611, 549)\n"
     ]
    }
   ],
   "source": [
    "for i in range(200):\n",
    "    img = images[i]\n",
    "    if img is None:\n",
    "        continue\n",
    "    if img.shape[1] > 1024 or img.shape[2] > 1024:\n",
    "        continue\n",
    "    print(img.shape)\n",
    "    pic = eval_helper.demonstrate(img)\n",
    "    saver.saveCHW(img)\n",
    "    saver.savePIL(pic)"
   ],
   "metadata": {
    "collapsed": false,
    "ExecuteTime": {
     "end_time": "2023-04-26T15:43:10.762650649Z",
     "start_time": "2023-04-26T15:35:23.823974432Z"
    }
   }
  },
  {
   "cell_type": "code",
   "execution_count": null,
   "outputs": [],
   "source": [],
   "metadata": {
    "collapsed": false
   }
  }
 ],
 "metadata": {
  "kernelspec": {
   "display_name": "Python 3",
   "language": "python",
   "name": "python3"
  },
  "language_info": {
   "codemirror_mode": {
    "name": "ipython",
    "version": 2
   },
   "file_extension": ".py",
   "mimetype": "text/x-python",
   "name": "python",
   "nbconvert_exporter": "python",
   "pygments_lexer": "ipython2",
   "version": "2.7.6"
  }
 },
 "nbformat": 4,
 "nbformat_minor": 0
}
