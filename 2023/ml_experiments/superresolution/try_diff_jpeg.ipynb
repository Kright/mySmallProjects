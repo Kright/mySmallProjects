{
 "cells": [
  {
   "cell_type": "code",
   "execution_count": 12,
   "metadata": {
    "collapsed": true,
    "ExecuteTime": {
     "end_time": "2023-05-05T19:10:36.146904106Z",
     "start_time": "2023-05-05T19:10:36.136837758Z"
    }
   },
   "outputs": [],
   "source": [
    "import numpy as np\n",
    "import torch\n",
    "\n",
    "from diffjpeg import DiffJPEG\n",
    "import pyml\n",
    "import numpy as np"
   ]
  },
  {
   "cell_type": "code",
   "execution_count": 13,
   "outputs": [
    {
     "data": {
      "text/plain": "234252"
     },
     "execution_count": 13,
     "metadata": {},
     "output_type": "execute_result"
    }
   ],
   "source": [
    "srgan256_v0 = \"/mnt/evo1gb/datasets/2023/srgan256_v0\"\n",
    "images = pyml.ImagesDataset.from_dirs_recursive([srgan256_v0], shuffle_seed=12, channels_order='chw')\n",
    "len(images)"
   ],
   "metadata": {
    "collapsed": false,
    "ExecuteTime": {
     "end_time": "2023-05-05T19:10:37.563772274Z",
     "start_time": "2023-05-05T19:10:36.574636561Z"
    }
   }
  },
  {
   "cell_type": "code",
   "execution_count": 31,
   "outputs": [],
   "source": [
    "for i in [2, 4]:\n",
    "    saver = pyml.ImageSaver(f\"./example/{i}\")\n",
    "    img = images[i]\n",
    "    saver.saveCHW(images[i])\n",
    "    c, h, w = img.shape\n",
    "\n",
    "    img_t = torch.from_numpy(img[np.newaxis])\n",
    "    for quality in [98, 95, 90, 80, 70, 60]:\n",
    "        jpeger = DiffJPEG(height=h, width=w, differentiable=False, quality=quality)\n",
    "        compressed = jpeger(img_t)\n",
    "        saver.saveBCHW(compressed.detach().numpy(), f'q{quality}_')"
   ],
   "metadata": {
    "collapsed": false,
    "ExecuteTime": {
     "end_time": "2023-05-05T19:20:00.023275748Z",
     "start_time": "2023-05-05T19:19:59.569238548Z"
    }
   }
  },
  {
   "cell_type": "code",
   "execution_count": 32,
   "outputs": [],
   "source": [
    "imgs = [images[2], images[4]]\n",
    "batch = np.stack(imgs, axis=0)\n",
    "jpeger = DiffJPEG(height=256, width=256, differentiable=False, quality=50)\n",
    "saver = pyml.ImageSaver(f\"./example/batch\")\n",
    "saver.saveBCHW(jpeger(torch.from_numpy(batch)).detach().numpy())"
   ],
   "metadata": {
    "collapsed": false,
    "ExecuteTime": {
     "end_time": "2023-05-05T19:26:58.122586752Z",
     "start_time": "2023-05-05T19:26:58.045026110Z"
    }
   }
  },
  {
   "cell_type": "code",
   "execution_count": null,
   "outputs": [],
   "source": [],
   "metadata": {
    "collapsed": false
   }
  }
 ],
 "metadata": {
  "kernelspec": {
   "display_name": "Python 3",
   "language": "python",
   "name": "python3"
  },
  "language_info": {
   "codemirror_mode": {
    "name": "ipython",
    "version": 2
   },
   "file_extension": ".py",
   "mimetype": "text/x-python",
   "name": "python",
   "nbconvert_exporter": "python",
   "pygments_lexer": "ipython2",
   "version": "2.7.6"
  }
 },
 "nbformat": 4,
 "nbformat_minor": 0
}
