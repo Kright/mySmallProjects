{
 "cells": [
  {
   "cell_type": "code",
   "id": "initial_id",
   "metadata": {
    "collapsed": true,
    "ExecuteTime": {
     "end_time": "2024-02-05T20:59:58.991143Z",
     "start_time": "2024-02-05T20:59:58.986824Z"
    }
   },
   "source": [
    "import os\n",
    "\n",
    "from typing import List, Optional, Dict\n",
    "from pydantic.dataclasses import dataclass\n",
    "from pydantic import BaseModel\n",
    "import textwrap\n",
    "\n",
    "from PIL import Image\n",
    "\n",
    "import numpy as np\n",
    "import glob\n",
    "\n",
    "from myutil import *"
   ],
   "outputs": [],
   "execution_count": 70
  },
  {
   "metadata": {
    "ExecuteTime": {
     "end_time": "2024-02-05T20:43:36.110481Z",
     "start_time": "2024-02-05T20:43:36.106525Z"
    }
   },
   "cell_type": "code",
   "source": [
    "adet = read_binary(\"unpacked/ADET.GP\")\n",
    "len(adet)"
   ],
   "id": "36191b5aac713f04",
   "outputs": [
    {
     "data": {
      "text/plain": [
       "228443"
      ]
     },
     "execution_count": 47,
     "metadata": {},
     "output_type": "execute_result"
    }
   ],
   "execution_count": 47
  },
  {
   "metadata": {
    "ExecuteTime": {
     "end_time": "2024-02-05T20:43:36.140716Z",
     "start_time": "2024-02-05T20:43:36.135987Z"
    }
   },
   "cell_type": "code",
   "source": [
    "@dataclass\n",
    "class GpVocabulary:\n",
    "    voc_offset: int\n",
    "    voc_length: int\n",
    "    data: bytes\n",
    "\n",
    "    def __repr__(self) -> str:\n",
    "        return f\"GpVocabulary(voc_offset = {self.voc_offset}, voc_length = {self.voc_length})\""
   ],
   "id": "8be7b22ab474ddbc",
   "outputs": [],
   "execution_count": 48
  },
  {
   "metadata": {
    "ExecuteTime": {
     "end_time": "2024-02-05T20:43:36.171214Z",
     "start_time": "2024-02-05T20:43:36.150899Z"
    }
   },
   "cell_type": "code",
   "source": [
    "class GpHeader(BaseModel):\n",
    "    next_pict: int\n",
    "    dx: int\n",
    "    dy: int\n",
    "    lx: int\n",
    "    ly: int\n",
    "    pack: int  # actually pointer, but 0xFFFFFFFF when not loaded\n",
    "    options: int\n",
    "    cdata: int\n",
    "    offset_data: bytes\n",
    "    n_lines: int\n",
    "    voc: GpVocabulary\n",
    "    packed_data: Optional[bytes]\n",
    "    next_pict_header: Optional['GpHeader']\n",
    "\n",
    "    @property\n",
    "    def opt(self) -> int:\n",
    "        return self.options & 63\n",
    "\n",
    "    @property\n",
    "    def unpack_len(self) -> int:\n",
    "        r = self.cdata >> 14\n",
    "\n",
    "        opt = self.opt\n",
    "\n",
    "        if opt == 43: r += 262144\n",
    "        if opt == 44: r += 262144 * 2\n",
    "\n",
    "        return r\n",
    "\n",
    "    @property\n",
    "    def cdoffs(self) -> int:\n",
    "        r = self.cdata & 16383\n",
    "\n",
    "        if (self.options & 64) != 0: r += 16384\n",
    "        if (self.options & 128) != 0: r += 32768\n",
    "\n",
    "        return r\n",
    "\n",
    "    @property\n",
    "    def opt_descr(self) -> str:\n",
    "        opt = self.opt\n",
    "        if opt == 0: return 'standard packing'\n",
    "        if opt == 1: return 'National mask'\n",
    "        if opt == 2: return 'transparent 1/4'\n",
    "        if opt == 3: return 'transparent 2/4'\n",
    "        if opt == 4: return 'transparent 3/4'\n",
    "        if opt == 5: return 'Shadow'\n",
    "        if opt == 6: return 'AlphaRY'\n",
    "        if opt == 7: return 'AlphaWB'\n",
    "        if opt == 38: return 'wtf 38'\n",
    "        if opt == 39: return 'wtf 39'\n",
    "        if opt == 41: return 'wtf 41'\n",
    "        if opt in range(42, 45): return f'wtf {opt}'\n",
    "        return f'unknown {opt}'\n",
    "\n",
    "    @property\n",
    "    def headers_list(self) -> List['GpHeader']:\n",
    "        if self.next_pict_header is None:\n",
    "            return [self]\n",
    "        return [self] + self.next_pict_header.headers_list\n",
    "\n",
    "    @property\n",
    "    def get_lx(self):\n",
    "        return max(h.dx + h.lx for h in self.headers_list)\n",
    "\n",
    "    @property\n",
    "    def get_ly(self):\n",
    "        return max(h.dy + h.ly for h in self.headers_list)\n",
    "\n",
    "    @property\n",
    "    def get_dx(self):\n",
    "        return min(h.dx for h in self.headers_list)\n",
    "\n",
    "    @property\n",
    "    def get_dy(self):\n",
    "        return min(h.dy for h in self.headers_list)\n",
    "\n",
    "    def try_unpack_data(self) -> Optional[bytes]:\n",
    "        if self.opt == 0:\n",
    "            return std_unpack(self.packed_data, self.unpack_len, self.voc.data)\n",
    "\n",
    "        if self.opt == 38:\n",
    "            return gray_unpack(self.packed_data, self.unpack_len)\n",
    "\n",
    "        print(f'unsupported format: {self.opt}')\n",
    "\n",
    "    def get_repr(self, field_names) -> str:\n",
    "        fields = ', '.join(f\"{name} = {self.__getattribute__(name)}\" for name in field_names)\n",
    "        return f\"GpHeader({fields})\"\n",
    "\n",
    "    def __repr__(self) -> str:\n",
    "        headers = self.headers_list\n",
    "        fields = ['next_pict', 'dx', 'dy', 'lx', 'ly', 'options', 'opt', 'opt_descr', 'unpack_len', 'cdoffs', 'n_lines']\n",
    "        return '[' + ',\\n'.join(h.get_repr(fields) for h in headers) + ']'\n",
    "\n",
    "    @staticmethod\n",
    "    def get_size() -> int:\n",
    "        # return 4 + 2 + 2 + 2 + 2 + 4 + 1 + 4 + 2\n",
    "        return 23\n",
    "\n",
    "    @staticmethod\n",
    "    def parse(original_data: bytes, offset: int, *, parent_offset: Optional[int] = None,\n",
    "              voc: GpVocabulary) -> 'GpHeader':\n",
    "        data = original_data[offset:]\n",
    "\n",
    "        r = GpHeader(\n",
    "            next_pict=extract_int(data, 0, signed=True, size=4),\n",
    "            dx=extract_int(data, 4, signed=True, size=2),\n",
    "            dy=extract_int(data, 6, signed=True, size=2),\n",
    "            lx=extract_int(data, 8, signed=True, size=2),\n",
    "            ly=extract_int(data, 10, signed=True, size=2),\n",
    "            pack=extract_int(data, 12, signed=False, size=4),\n",
    "            options=extract_int(data, 16, signed=False, size=1),\n",
    "            cdata=extract_int(data, 17, signed=False, size=4),\n",
    "            n_lines=extract_int(data, 21, signed=True, size=2),\n",
    "            voc=voc,\n",
    "            offset_data=data[GpHeader.get_size():],\n",
    "            packed_data=None,\n",
    "            next_pict_header=None,\n",
    "        )\n",
    "\n",
    "        assert r.pack == 0xFF_FF_FF_FF\n",
    "        r = r.copy(update={\n",
    "            'packed_data': data[r.cdoffs:],\n",
    "            'offset_data': r.offset_data[:r.cdoffs - 23],\n",
    "        })\n",
    "\n",
    "        if r.next_pict != -1:\n",
    "            parent_offset = parent_offset or offset\n",
    "            r = r.copy(\n",
    "                update={'next_pict_header': GpHeader.parse(original_data, parent_offset + r.next_pict,\n",
    "                                                           parent_offset=parent_offset, voc=voc)})\n",
    "\n",
    "        return r\n",
    "\n",
    "\n",
    "@dataclass\n",
    "class GpGlobalHeader:\n",
    "    signature: bytes\n",
    "    n_pictures: int\n",
    "    reserved: bytes\n",
    "    voc: GpVocabulary\n",
    "    headers_offsets: List[int]\n",
    "    headers: List[GpHeader]\n",
    "\n",
    "    @staticmethod\n",
    "    def parse(data: bytes) -> 'GpGlobalHeader':\n",
    "        assert extract_int(data, offset=0) == 0x4B_41_50_47\n",
    "\n",
    "        n_pictures = extract_int(data, offset=4, signed=True, size=2)\n",
    "        headers_offsets = [extract_int(data, offset=14 + i * 4, signed=False, size=4) for i in range(n_pictures)]\n",
    "\n",
    "        voc_offset = extract_int(data, offset=8, signed=True, size=4)\n",
    "        voc_length = extract_int(data, offset=12, signed=True, size=2)\n",
    "        voc = GpVocabulary(\n",
    "            voc_offset=voc_offset,\n",
    "            voc_length=voc_length,\n",
    "            data=data[voc_offset: voc_offset + voc_length]\n",
    "        )\n",
    "\n",
    "        return GpGlobalHeader(\n",
    "            signature=data[0:4],\n",
    "            n_pictures=n_pictures,\n",
    "            reserved=data[6:8],\n",
    "            voc=voc,\n",
    "            headers_offsets=headers_offsets,\n",
    "            headers=[GpHeader.parse(data, offset=i, voc=voc) for i in headers_offsets],\n",
    "        )\n",
    "\n",
    "    def __str__(self) -> str:\n",
    "        return repr(self)\n",
    "\n",
    "    def __repr__(self) -> str:\n",
    "        headers = ',\\n'.join(repr(h) for h in self.headers)\n",
    "\n",
    "        return f\"\"\"GpGlobalHeader(\n",
    "    signaure = {self.signature}\n",
    "    n_pictures = {self.n_pictures}\n",
    "    voc = {self.voc}\n",
    "    headers_offsets = {self.headers_offsets}\n",
    "    headers = \\n{headers}\"\"\"\n",
    "\n",
    "    @property\n",
    "    def headers_flat(self) -> List[GpHeader]:\n",
    "        result = []\n",
    "        for hh in self.headers:\n",
    "            result += hh.headers_list\n",
    "        return result"
   ],
   "id": "70381fa112473947",
   "outputs": [],
   "execution_count": 49
  },
  {
   "metadata": {
    "ExecuteTime": {
     "end_time": "2024-02-05T20:43:36.179827Z",
     "start_time": "2024-02-05T20:43:36.172404Z"
    }
   },
   "cell_type": "code",
   "source": [
    "sunduk10 = GpGlobalHeader.parse(read_binary(\"unpacked/SUNDUK1O.GP\"))\n",
    "sunduk1z = GpGlobalHeader.parse(read_binary(\"unpacked/SUNDUK1Z.GP\"))\n",
    "sunduk20 = GpGlobalHeader.parse(read_binary(\"unpacked/SUNDUK2O.GP\"))\n",
    "sunduk2z = GpGlobalHeader.parse(read_binary(\"unpacked/SUNDUK2Z.GP\"))"
   ],
   "id": "2d5658edc9c28282",
   "outputs": [],
   "execution_count": 50
  },
  {
   "metadata": {
    "ExecuteTime": {
     "end_time": "2024-02-05T20:43:36.194636Z",
     "start_time": "2024-02-05T20:43:36.191136Z"
    }
   },
   "cell_type": "code",
   "source": "sunduk10",
   "id": "c2c9b7f8476ef38b",
   "outputs": [
    {
     "data": {
      "text/plain": [
       "GpGlobalHeader(\n",
       "    signaure = b'GPAK'\n",
       "    n_pictures = 2\n",
       "    voc = GpVocabulary(voc_offset = 22, voc_length = 686)\n",
       "    headers_offsets = [708, 2320]\n",
       "    headers = \n",
       "[GpHeader(next_pict = 118, dx = 192, dy = 262, lx = 87, ly = 25, options = 38, opt = 38, opt_descr = wtf 38, unpack_len = 88, cdoffs = 96, n_lines = 25),\n",
       "GpHeader(next_pict = 637, dx = 195, dy = 261, lx = 81, ly = 28, options = 0, opt = 0, opt_descr = standard packing, unpack_len = 791, cdoffs = 205, n_lines = 28),\n",
       "GpHeader(next_pict = 959, dx = 194, dy = 261, lx = 85, ly = 29, options = 2, opt = 2, opt_descr = transparent 1/4, unpack_len = 108, cdoffs = 214, n_lines = 29),\n",
       "GpHeader(next_pict = 1255, dx = 195, dy = 261, lx = 82, ly = 29, options = 3, opt = 3, opt_descr = transparent 2/4, unpack_len = 102, cdoffs = 194, n_lines = 29),\n",
       "GpHeader(next_pict = -1, dx = 195, dy = 262, lx = 82, ly = 28, options = 4, opt = 4, opt_descr = transparent 3/4, unpack_len = 130, cdoffs = 227, n_lines = 28)],\n",
       "[GpHeader(next_pict = 182, dx = 191, dy = 229, lx = 74, ly = 41, options = 38, opt = 38, opt_descr = wtf 38, unpack_len = 240, cdoffs = 122, n_lines = 41),\n",
       "GpHeader(next_pict = 972, dx = 194, dy = 227, lx = 82, ly = 43, options = 0, opt = 0, opt_descr = standard packing, unpack_len = 1944, cdoffs = 215, n_lines = 43),\n",
       "GpHeader(next_pict = 1249, dx = 195, dy = 226, lx = 85, ly = 45, options = 2, opt = 2, opt_descr = transparent 1/4, unpack_len = 78, cdoffs = 199, n_lines = 45),\n",
       "GpHeader(next_pict = 1510, dx = 193, dy = 226, lx = 84, ly = 43, options = 3, opt = 3, opt_descr = transparent 2/4, unpack_len = 76, cdoffs = 185, n_lines = 43),\n",
       "GpHeader(next_pict = -1, dx = 193, dy = 227, lx = 83, ly = 43, options = 4, opt = 4, opt_descr = transparent 3/4, unpack_len = 92, cdoffs = 208, n_lines = 43)]"
      ]
     },
     "execution_count": 51,
     "metadata": {},
     "output_type": "execute_result"
    }
   ],
   "execution_count": 51
  },
  {
   "metadata": {
    "ExecuteTime": {
     "end_time": "2024-02-05T20:43:36.204719Z",
     "start_time": "2024-02-05T20:43:36.195857Z"
    }
   },
   "cell_type": "code",
   "source": [
    "def gp_show_masked_pict(x: int, y: int, pic: GpHeader, cdata: bytes, screen: Screen):\n",
    "    x += pic.dx\n",
    "    y += pic.dy\n",
    "\n",
    "    n_lines = pic.n_lines\n",
    "    ofst = DataPtr(pic.offset_data, 0)\n",
    "\n",
    "    # no clipping case\n",
    "    assert x >= screen.x, f'Should be {x} >= {screen.x}'\n",
    "    assert y >= screen.y, f'Should be {y} >= {screen.y}'\n",
    "    assert x + pic.lx - 1 <= screen.x1, f'Should be {x + pic.lx - 1} <= {screen.x1}'\n",
    "    assert y + n_lines - 1 <= screen.y1, f'Should be {y + n_lines - 1} <= {screen.y1}'\n",
    "\n",
    "    cdpos = DataPtr(cdata, 0, allow_read_overflow=False)\n",
    "    scr_offset: DataPtr = DataPtr(screen.data, x + y * screen.width)\n",
    "\n",
    "    line_start: DataPtr = scr_offset.copy()\n",
    "    line_start.advance(-screen.width)\n",
    "\n",
    "    for line in range(n_lines):\n",
    "        al = ofst.consume_one()\n",
    "        line_start.advance(screen.width)\n",
    "        edi = line_start.copy()\n",
    "\n",
    "        if al == 0: continue\n",
    "\n",
    "        if (al & 128) != 0:\n",
    "            # DRAW_COMPLEX_LINE\n",
    "\n",
    "            space_mask = 0\n",
    "            pix_mask = 0\n",
    "            if (al & 64) != 0: space_mask = 16\n",
    "            if (al & 32) != 0: pix_mask = 16\n",
    "\n",
    "            al = al & 31\n",
    "            if al == 0:\n",
    "                continue\n",
    "\n",
    "            for _ in range(al):\n",
    "                al = ofst.consume_one()\n",
    "                cl = (al >> 4) | pix_mask\n",
    "                al = (al & 0xF) | space_mask\n",
    "                edi.advance(al)\n",
    "                line = cdpos.consume_many(cl)\n",
    "                edi.push_many(line)\n",
    "            continue\n",
    "\n",
    "        # START_SIMPLE_SEGMENT\n",
    "        for _ in range(al):\n",
    "            al = ofst.consume_one()\n",
    "            edi.advance(al)\n",
    "            cl = ofst.consume_one()\n",
    "            line = cdpos.consume_many(cl)\n",
    "            edi.push_many(line)"
   ],
   "id": "8e88fc9a9c506a22",
   "outputs": [],
   "execution_count": 52
  },
  {
   "metadata": {
    "ExecuteTime": {
     "end_time": "2024-02-05T20:43:36.217996Z",
     "start_time": "2024-02-05T20:43:36.206352Z"
    }
   },
   "cell_type": "code",
   "source": [
    "\n",
    "\n",
    "h1 = sunduk20.headers[0].headers_list[1]\n",
    "\n",
    "screen = Screen(512, 512)\n",
    "gp_show_masked_pict(0, 0, h1, h1.try_unpack_data(), screen)\n",
    "screen.as_pic()"
   ],
   "id": "adafd3000784ae9f",
   "outputs": [
    {
     "data": {
      "text/plain": [
       "<PIL.Image.Image image mode=L size=512x512>"
      ],
      "image/png": "[encoded data removed]"
     },
     "execution_count": 53,
     "metadata": {},
     "output_type": "execute_result"
    }
   ],
   "execution_count": 53
  },
  {
   "metadata": {
    "ExecuteTime": {
     "end_time": "2024-02-05T20:43:36.224571Z",
     "start_time": "2024-02-05T20:43:36.219350Z"
    }
   },
   "cell_type": "code",
   "source": "print_bytes(h1.try_unpack_data())",
   "id": "dd2eaaff2fa42677",
   "outputs": [
    {
     "name": "stdout",
     "output_type": "stream",
     "text": [
      "0:  \t38_39_77_38_77_46_73_46_75_3a_39_78_76_36_36_38\n",
      "16:  \t75_76_77_77_3b_69_f4_cb_f1_75_78_af_79_78_78_36\n",
      "32:  \t36_38_59_77_77_78_78_76_69_74_45_cb_44_cb_76_78\n",
      "48:  \t36_7a_78_77_45_f3_f4_f4_57_46_73_77_78_77_75_79\n",
      "64:  \t78_cb_42_73_77_79_78_78_78_cb_44_cb_45_73_45_3d\n",
      "80:  \tee_3e_46_73_61_59_2b_73_45_72_73_77_7a_7a_76_75\n",
      "96:  \t36_af_38_77_cb_20_42_43_db_43_43_44_45_63_cb_43\n",
      "112:  \tcb_45_72_ee_3e_46_73_61_59_2b_77_7a_7a_78_76_78\n",
      "128:  \t79_36_3a_77_76_74_45_cb_44_cb_45_73_cb_20_42_43\n",
      "144:  \tdb_43_43_44_45_63_cb_43_cb_45_72_4e_73_74_2b_f1\n",
      "160:  \t2c_75_36_af_38_77_73_77_78_7a_78_76_78_79_36_36\n",
      "176:  \t7a_36_af_af_78_78_76_73_72_73_46_46_46_45_cb_42\n",
      "192:  \t20_42_43_db_43_43_44_45_63_cb_43_cb_45_72_73_77\n",
      "208:  \t78_f4_57_46_36_38_cb_75_78_76_73_66_73_77_78_7a\n",
      "224:  \tf5_ad_77_7a_36_7a_7a_78_76_77_46_73_46_73_45_cb\n",
      "240:  \t21_43_44_45_63_cb_43_cb_45_72_44_cb_45_73_45_77\n",
      "256:  \t77_78_78_78_76_76_74_77_36_3a_76_61_62_73_76_77\n",
      "272:  \t77_3b_f5_ad_77_7a_78_79_52_77_46_73_46_73_45_cb\n",
      "288:  \t21_60_45_74_45_cb_44_cb_45_73_45_72_66_73_46_38\n",
      "304:  \t36_79_78_78_78_78_76_73_3a_39_78_77_46_73_46_73\n",
      "320:  \t75_3a_39_ac_78_69_75_57_46_46_46_46_45_43_61_62\n",
      "336:  \t73_46_46_45_43_45_73_45_72_46_74_45_cb_63_76_36\n",
      "352:  \t36_38_36_36_38_36_ae_3d_76_77_77_3b_76_61_62_73\n",
      "368:  \t3b_f5_ad_54_f4_f4_57_46_46_46_46_45_45_43_45_73\n",
      "384:  \t45_72_46_46_74_66_46_46_46_45_cb_42_73_77_78_78\n",
      "400:  \t7a_36_af_38_7a_78_76_76_73_76_77_61_42_3e_3b_3d\n",
      "416:  \t57_46_46_46_46_46_46_46_45_43_45_73_45_72_46_72\n",
      "432:  \t73_46_46_46_45_45_cb_42_73_77_78_7a_36_af_38_79\n",
      "448:  \t36_3a_3e_77_45_f3_f4_f4_57_46_46_46_46_45_43_45\n",
      "464:  \t73_45_72_46_72_73_46_46_46_45_cb_42_73_77_78_7a\n",
      "480:  \t36_af_38_77_77_78_3a_78_f4_57_46_46_46_46_45_43\n",
      "496:  \t45_73_45_72_46_72_73_78_3a_46_46_46_46_45_43_76\n",
      "512:  \t77_77_78_36_b9_0a_7a_36_af_38_2e_72_73_46_46_46\n",
      "528:  \t45_cb_42_73_45_72_46_79_36_3a_3e_46_73_46_46_45\n",
      "544:  \t78_78_76_76_78_79_36_b9_b9_36_77_46_73_46_45_cb\n",
      "560:  \t21_60_73_77_78_77_7a_78_79_79_78_78_36_36_78_75\n",
      "576:  \t3a_39_78_76_78_36_7a_b9_36_73_76_77_77_75_"
     ]
    }
   ],
   "execution_count": 54
  },
  {
   "metadata": {
    "ExecuteTime": {
     "end_time": "2024-02-05T20:43:36.230781Z",
     "start_time": "2024-02-05T20:43:36.225574Z"
    }
   },
   "cell_type": "code",
   "source": "print_bytes(h1.offset_data)",
   "id": "22ca3787fe8250d",
   "outputs": [
    {
     "name": "stdout",
     "output_type": "stream",
     "text": [
      "0:  \t02_59_02_00_01_05_4f_02_01_01_01_01_02_04_00_01\n",
      "16:  \t03_4d_05_05_04_00_01_02_3d_09_08_03_02_33_0b_01\n",
      "32:  \t07_04_2a_05_04_08_01_01_01_07_04_20_10_05_01_01\n",
      "48:  \t05_03_05_05_17_14_03_01_01_01_07_04_03_05_05_0e\n",
      "64:  \t1a_01_01_03_03_08_05_02_05_05_04_23_01_03_02_03\n",
      "80:  \t03_02_03_04_04_00_10_01_15_01_08_03_04_04_00_0f\n",
      "96:  \t01_15_02_08_02_05_03_02_0d_02_1f_01_05_02_04_0a\n",
      "112:  \t02_24_03_05_09_02_0e_01_12_03_08_05_03_0d_02_12\n",
      "128:  \t03_0b_02_02_0f_01_11_03_0c_01_02_10_01_10_83_7f\n",
      "144:  \t44_98_02_1a_05_09_05_c1_59_05_"
     ]
    }
   ],
   "execution_count": 55
  },
  {
   "metadata": {
    "ExecuteTime": {
     "end_time": "2024-02-05T20:43:36.236636Z",
     "start_time": "2024-02-05T20:43:36.233055Z"
    }
   },
   "cell_type": "code",
   "source": "sunduk10",
   "id": "80738079bd4ae77e",
   "outputs": [
    {
     "data": {
      "text/plain": [
       "GpGlobalHeader(\n",
       "    signaure = b'GPAK'\n",
       "    n_pictures = 2\n",
       "    voc = GpVocabulary(voc_offset = 22, voc_length = 686)\n",
       "    headers_offsets = [708, 2320]\n",
       "    headers = \n",
       "[GpHeader(next_pict = 118, dx = 192, dy = 262, lx = 87, ly = 25, options = 38, opt = 38, opt_descr = wtf 38, unpack_len = 88, cdoffs = 96, n_lines = 25),\n",
       "GpHeader(next_pict = 637, dx = 195, dy = 261, lx = 81, ly = 28, options = 0, opt = 0, opt_descr = standard packing, unpack_len = 791, cdoffs = 205, n_lines = 28),\n",
       "GpHeader(next_pict = 959, dx = 194, dy = 261, lx = 85, ly = 29, options = 2, opt = 2, opt_descr = transparent 1/4, unpack_len = 108, cdoffs = 214, n_lines = 29),\n",
       "GpHeader(next_pict = 1255, dx = 195, dy = 261, lx = 82, ly = 29, options = 3, opt = 3, opt_descr = transparent 2/4, unpack_len = 102, cdoffs = 194, n_lines = 29),\n",
       "GpHeader(next_pict = -1, dx = 195, dy = 262, lx = 82, ly = 28, options = 4, opt = 4, opt_descr = transparent 3/4, unpack_len = 130, cdoffs = 227, n_lines = 28)],\n",
       "[GpHeader(next_pict = 182, dx = 191, dy = 229, lx = 74, ly = 41, options = 38, opt = 38, opt_descr = wtf 38, unpack_len = 240, cdoffs = 122, n_lines = 41),\n",
       "GpHeader(next_pict = 972, dx = 194, dy = 227, lx = 82, ly = 43, options = 0, opt = 0, opt_descr = standard packing, unpack_len = 1944, cdoffs = 215, n_lines = 43),\n",
       "GpHeader(next_pict = 1249, dx = 195, dy = 226, lx = 85, ly = 45, options = 2, opt = 2, opt_descr = transparent 1/4, unpack_len = 78, cdoffs = 199, n_lines = 45),\n",
       "GpHeader(next_pict = 1510, dx = 193, dy = 226, lx = 84, ly = 43, options = 3, opt = 3, opt_descr = transparent 2/4, unpack_len = 76, cdoffs = 185, n_lines = 43),\n",
       "GpHeader(next_pict = -1, dx = 193, dy = 227, lx = 83, ly = 43, options = 4, opt = 4, opt_descr = transparent 3/4, unpack_len = 92, cdoffs = 208, n_lines = 43)]"
      ]
     },
     "execution_count": 56,
     "metadata": {},
     "output_type": "execute_result"
    }
   ],
   "execution_count": 56
  },
  {
   "metadata": {
    "ExecuteTime": {
     "end_time": "2024-02-05T21:00:21.827178Z",
     "start_time": "2024-02-05T21:00:21.821379Z"
    }
   },
   "cell_type": "code",
   "source": [
    "def pic_of_all(header: GpGlobalHeader, palette: Optional[Palette] = None) -> Image.Image:\n",
    "    screen = Screen(768, 768)\n",
    "    for h in header.headers_flat:\n",
    "        if h.opt == 0:\n",
    "            gp_show_masked_pict(0, 0, h, h.try_unpack_data(), screen)\n",
    "\n",
    "    return screen.as_interesting_pic(palette)\n",
    "\n",
    "\n",
    "def pics_of_all(header: GpGlobalHeader, palette: Optional[Palette] = None) -> List[Image.Image]:\n",
    "    result = []\n",
    "\n",
    "    for h in header.headers_flat:\n",
    "        screen = Screen(768, 768)\n",
    "        if h.opt == 0:\n",
    "            gp_show_masked_pict(0, 0, h, h.try_unpack_data(), screen)\n",
    "\n",
    "        result.append(screen.as_interesting_pic(palette))\n",
    "\n",
    "    return result"
   ],
   "id": "61bb7ddd618d15fb",
   "outputs": [],
   "execution_count": 72
  },
  {
   "metadata": {
    "ExecuteTime": {
     "end_time": "2024-02-05T20:43:36.277544Z",
     "start_time": "2024-02-05T20:43:36.254316Z"
    }
   },
   "cell_type": "code",
   "source": "pic_of_all(sunduk10)",
   "id": "4f26687e2e24295f",
   "outputs": [
    {
     "data": {
      "text/plain": [
       "<PIL.Image.Image image mode=L size=82x62>"
      ],
      "image/png": "[encoded data removed]"
     },
     "execution_count": 58,
     "metadata": {},
     "output_type": "execute_result"
    }
   ],
   "execution_count": 58
  },
  {
   "metadata": {
    "ExecuteTime": {
     "end_time": "2024-02-05T20:43:36.307301Z",
     "start_time": "2024-02-05T20:43:36.284865Z"
    }
   },
   "cell_type": "code",
   "source": "pic_of_all(sunduk1z)",
   "id": "6ff9ac24f2307707",
   "outputs": [
    {
     "data": {
      "text/plain": [
       "<PIL.Image.Image image mode=L size=82x60>"
      ],
      "image/png": "[encoded data removed]"
     },
     "execution_count": 59,
     "metadata": {},
     "output_type": "execute_result"
    }
   ],
   "execution_count": 59
  },
  {
   "metadata": {
    "ExecuteTime": {
     "end_time": "2024-02-05T20:43:36.329308Z",
     "start_time": "2024-02-05T20:43:36.309048Z"
    }
   },
   "cell_type": "code",
   "source": "pic_of_all(sunduk20)",
   "id": "6ce6f87dfef4e799",
   "outputs": [
    {
     "data": {
      "text/plain": [
       "<PIL.Image.Image image mode=L size=92x21>"
      ],
      "image/png": "[encoded data removed]"
     },
     "execution_count": 60,
     "metadata": {},
     "output_type": "execute_result"
    }
   ],
   "execution_count": 60
  },
  {
   "metadata": {
    "ExecuteTime": {
     "end_time": "2024-02-05T20:43:36.349369Z",
     "start_time": "2024-02-05T20:43:36.330442Z"
    }
   },
   "cell_type": "code",
   "source": "pic_of_all(sunduk2z)",
   "id": "7af7118eebe33e9a",
   "outputs": [
    {
     "data": {
      "text/plain": [
       "<PIL.Image.Image image mode=L size=94x45>"
      ],
      "image/png": "[encoded data removed]"
     },
     "execution_count": 61,
     "metadata": {},
     "output_type": "execute_result"
    }
   ],
   "execution_count": 61
  },
  {
   "metadata": {
    "ExecuteTime": {
     "end_time": "2024-02-05T20:43:36.358084Z",
     "start_time": "2024-02-05T20:43:36.350318Z"
    }
   },
   "cell_type": "code",
   "source": [
    "all_palettes = Palette.load_all('unpacked')\n",
    "\n",
    "all_palettes"
   ],
   "id": "6000874748c0cd06",
   "outputs": [
    {
     "data": {
      "text/plain": [
       "{'unpacked/003X.PAL': <myutil.palette.Palette at 0x7f11a16c5810>,\n",
       " 'unpacked/PALW.PAL': <myutil.palette.Palette at 0x7f11a16c6260>,\n",
       " 'unpacked/DMW.PAL': <myutil.palette.Palette at 0x7f11a16c7610>,\n",
       " 'unpacked/004W.PAL': <myutil.palette.Palette at 0x7f11a16c7370>,\n",
       " 'unpacked/2W.PAL': <myutil.palette.Palette at 0x7f11a16c64a0>,\n",
       " 'unpacked/TMP.PAL': <myutil.palette.Palette at 0x7f11a16c6440>,\n",
       " 'unpacked/GRASS.PAL': <myutil.palette.Palette at 0x7f11a16c5840>,\n",
       " 'unpacked/003.PAL': <myutil.palette.Palette at 0x7f11a167ed10>,\n",
       " 'unpacked/003W.PAL': <myutil.palette.Palette at 0x7f11a167c190>,\n",
       " 'unpacked/1W.PAL': <myutil.palette.Palette at 0x7f11a167dcf0>,\n",
       " 'unpacked/TMPD.PAL': <myutil.palette.Palette at 0x7f11a167ca30>,\n",
       " 'unpacked/DARKW.PAL': <myutil.palette.Palette at 0x7f11a167dcc0>,\n",
       " 'unpacked/AGEW_1.PAL': <myutil.palette.Palette at 0x7f11a167d3c0>,\n",
       " 'unpacked/004.PAL': <myutil.palette.Palette at 0x7f11a167e3b0>,\n",
       " 'unpacked/DMW1.PAL': <myutil.palette.Palette at 0x7f11a167f700>,\n",
       " 'unpacked/GRASSW.PAL': <myutil.palette.Palette at 0x7f11a167f0d0>,\n",
       " 'unpacked/AGEW_1D.PAL': <myutil.palette.Palette at 0x7f11a167c310>,\n",
       " 'unpacked/AGE.PAL': <myutil.palette.Palette at 0x7f11a167c7f0>,\n",
       " 'unpacked/DM.PAL': <myutil.palette.Palette at 0x7f11a167fee0>,\n",
       " 'unpacked/AGEW.PAL': <myutil.palette.Palette at 0x7f11a167f610>}"
      ]
     },
     "execution_count": 62,
     "metadata": {},
     "output_type": "execute_result"
    }
   ],
   "execution_count": 62
  },
  {
   "metadata": {
    "ExecuteTime": {
     "end_time": "2024-02-05T20:43:36.371323Z",
     "start_time": "2024-02-05T20:43:36.358738Z"
    }
   },
   "cell_type": "code",
   "source": "pic_of_all(sunduk10, all_palettes['unpacked/003X.PAL'])",
   "id": "9152fcf6ca1a6ab0",
   "outputs": [
    {
     "data": {
      "text/plain": [
       "<PIL.Image.Image image mode=RGB size=82x62>"
      ],
      "image/png": "[encoded data removed]"
     },
     "execution_count": 63,
     "metadata": {},
     "output_type": "execute_result"
    }
   ],
   "execution_count": 63
  },
  {
   "metadata": {
    "ExecuteTime": {
     "end_time": "2024-02-05T20:43:36.392988Z",
     "start_time": "2024-02-05T20:43:36.371933Z"
    }
   },
   "cell_type": "code",
   "source": "pic_of_all(sunduk10, all_palettes['unpacked/003X.PAL']), pic_of_all(sunduk10, all_palettes['unpacked/003X.PAL'])",
   "id": "64163de00f17b9a6",
   "outputs": [
    {
     "data": {
      "text/plain": [
       "(<PIL.Image.Image image mode=RGB size=82x62>,\n",
       " <PIL.Image.Image image mode=RGB size=82x62>)"
      ]
     },
     "execution_count": 64,
     "metadata": {},
     "output_type": "execute_result"
    }
   ],
   "execution_count": 64
  },
  {
   "metadata": {
    "ExecuteTime": {
     "end_time": "2024-02-05T20:45:55.858134Z",
     "start_time": "2024-02-05T20:45:55.674598Z"
    }
   },
   "cell_type": "code",
   "source": [
    "for name, palette in all_palettes.items():\n",
    "    pic = pic_of_all(sunduk10, palette)\n",
    "    pic_name = 'picsPalettes/' + name.split('/')[-1] + '.png'\n",
    "    os.makedirs(os.path.dirname(pic_name), exist_ok=True)\n",
    "    pic.save(pic_name)"
   ],
   "id": "5b481486e06614f8",
   "outputs": [],
   "execution_count": 67
  },
  {
   "metadata": {},
   "cell_type": "code",
   "outputs": [],
   "execution_count": 67,
   "source": [
    "for name, palette in all_palettes.items():\n",
    "    pic = pic_of_all(sunduk10, palette)\n",
    "    pic_name = 'picsPalettes/' + name.split('/')[-1] + '.png'\n",
    "    os.makedirs(os.path.dirname(pic_name), exist_ok=True)\n",
    "    pic.save(pic_name)"
   ],
   "id": "794898e4156e4a5c"
  },
  {
   "metadata": {
    "ExecuteTime": {
     "end_time": "2024-02-05T20:50:23.676927Z",
     "start_time": "2024-02-05T20:48:04.350928Z"
    }
   },
   "cell_type": "code",
   "source": [
    "# gp_files = glob.glob(\"unpacked/*.GP\")\n",
    "# \n",
    "# import os\n",
    "# \n",
    "# for gp_file in gp_files:\n",
    "#     try:\n",
    "#         header = GpGlobalHeader.parse(read_binary(gp_file))\n",
    "#         pic = pic_of_all(header, all_palettes['unpacked/AGEW_1.PAL'])\n",
    "#         pic_name = 'pics_AGEW_1/' + gp_file.split('/')[-1] + '.png'\n",
    "#         os.makedirs(os.path.dirname(pic_name), exist_ok=True)\n",
    "#         pic.save(pic_name)\n",
    "#     except Exception as e:\n",
    "#         print(f\"{e} for {gp_file}\")"
   ],
   "id": "261897a2ed715dd3",
   "outputs": [
    {
     "name": "stdout",
     "output_type": "stream",
     "text": [
      "index out of range for unpacked/MAMG.GP\n",
      "index out of range for unpacked/KUTDEZ.GP\n"
     ]
    }
   ],
   "execution_count": 68
  },
  {
   "metadata": {
    "ExecuteTime": {
     "end_time": "2024-02-05T22:13:45.782432Z",
     "start_time": "2024-02-05T21:19:02.449304Z"
    }
   },
   "cell_type": "code",
   "source": [
    "# gp_files = glob.glob(\"unpacked/*.GP\")\n",
    "# \n",
    "# import os\n",
    "# \n",
    "# for gp_file in gp_files:\n",
    "#     try:\n",
    "#         header = GpGlobalHeader.parse(read_binary(gp_file))\n",
    "#         pics = pics_of_all(header, all_palettes['unpacked/AGEW_1.PAL'])\n",
    "#         pics = [p for p in pics if p.size != (1, 1)]\n",
    "# \n",
    "#         for i, pic in enumerate(pics):\n",
    "#             pic_name = 'pics_seq_AGEW_1/' + gp_file.split('/')[-1] + f'/{i:03d}.png'\n",
    "#             os.makedirs(os.path.dirname(pic_name), exist_ok=True)\n",
    "#             pic.save(pic_name)\n",
    "#     except Exception as e:\n",
    "#         print(f\"{e} for {gp_file}\")"
   ],
   "id": "99174fbc7d4b6daa",
   "outputs": [
    {
     "name": "stdout",
     "output_type": "stream",
     "text": [
      "index out of range for unpacked/MAMG.GP\n",
      "index out of range for unpacked/KUTDEZ.GP\n"
     ]
    }
   ],
   "execution_count": 76
  },
  {
   "metadata": {
    "ExecuteTime": {
     "end_time": "2024-02-05T20:45:55.673444Z",
     "start_time": "2024-02-05T20:45:55.671480Z"
    }
   },
   "cell_type": "code",
   "source": "",
   "id": "537c7a6b2ad30d58",
   "outputs": [],
   "execution_count": 66
  }
 ],
 "metadata": {
  "kernelspec": {
   "display_name": "Python 3",
   "language": "python",
   "name": "python3"
  },
  "language_info": {
   "codemirror_mode": {
    "name": "ipython",
    "version": 2
   },
   "file_extension": ".py",
   "mimetype": "text/x-python",
   "name": "python",
   "nbconvert_exporter": "python",
   "pygments_lexer": "ipython2",
   "version": "2.7.6"
  }
 },
 "nbformat": 4,
 "nbformat_minor": 5
}
