{
 "cells": [
  {
   "cell_type": "code",
   "id": "initial_id",
   "metadata": {
    "collapsed": true,
    "ExecuteTime": {
     "end_time": "2024-02-09T21:11:48.792109Z",
     "start_time": "2024-02-09T21:11:48.644722Z"
    }
   },
   "source": [
    "import os\n",
    "\n",
    "from typing import List, Optional, Dict, Any, Tuple\n",
    "\n",
    "from PIL import Image\n",
    "import glob\n",
    "\n",
    "from myutil import *"
   ],
   "outputs": [],
   "execution_count": 1
  },
  {
   "metadata": {
    "ExecuteTime": {
     "end_time": "2024-02-09T21:11:48.798337Z",
     "start_time": "2024-02-09T21:11:48.793144Z"
    }
   },
   "cell_type": "code",
   "source": [
    "all_palettes = Palette.load_all('unpacked')\n",
    "all_palettes\n",
    "palette = all_palettes['unpacked/AGEW_1.PAL']"
   ],
   "id": "6000874748c0cd06",
   "outputs": [],
   "execution_count": 2
  },
  {
   "metadata": {
    "ExecuteTime": {
     "end_time": "2024-02-09T21:11:50.905072Z",
     "start_time": "2024-02-09T21:11:48.799060Z"
    }
   },
   "cell_type": "code",
   "source": [
    "gp_files = sorted(glob.glob(\"unpacked/*.GP\"))\n",
    "\n",
    "for i, gp_file in enumerate(gp_files):\n",
    "    # try:\n",
    "    if True:    \n",
    "        header = GpGlobalHeader.parse(read_binary(gp_file))\n",
    "        dir_name = gp_file.split(\"/\")[-1].split(\".\")[0]\n",
    "        header.unpack_to_dir(f'unpacked_gp/{dir_name}', palette)\n",
    "    # except Exception as e:\n",
    "    #    print(f\"{e} for {gp_file}\")\n",
    "    \n",
    "    print(gp_file)\n",
    "    if i > 10: \n",
    "        break"
   ],
   "id": "d46ea324d547d32",
   "outputs": [
    {
     "name": "stdout",
     "output_type": "stream",
     "text": [
      "finished\n",
      "finished\n",
      "finished\n",
      "unpacked/ADET.GP\n",
      "finished\n",
      "finished\n",
      "finished\n",
      "finished\n",
      "unpacked/ADETDEZ.GP\n",
      "finished\n",
      "finished\n",
      "finished\n",
      "finished\n",
      "unpacked/AKAAU.GP\n",
      "finished\n",
      "unpacked/AKAAUDEZ.GP\n",
      "finished\n",
      "finished\n",
      "finished\n",
      "finished\n",
      "unpacked/AKABA.GP\n",
      "finished\n",
      "unpacked/AKABADEZ.GP\n",
      "finished\n",
      "finished\n",
      "finished\n",
      "finished\n",
      "finished\n",
      "finished\n",
      "finished\n",
      "finished\n",
      "finished\n",
      "finished\n",
      "unpacked/AKABR.GP\n",
      "finished\n",
      "finished\n",
      "finished\n",
      "finished\n",
      "unpacked/AKABRDEZ.GP\n",
      "finished\n",
      "finished\n",
      "finished\n",
      "finished\n",
      "unpacked/AKADA.GP\n",
      "finished\n",
      "unpacked/AKADADEZ.GP\n",
      "finished\n",
      "finished\n",
      "finished\n",
      "finished\n",
      "unpacked/AKADEZ.GP\n",
      "finished\n",
      "finished\n",
      "finished\n",
      "unpacked/AKAFR.GP\n"
     ]
    }
   ],
   "execution_count": 3
  },
  {
   "metadata": {},
   "cell_type": "code",
   "outputs": [],
   "execution_count": 3,
   "source": [
    "gp_file = \"unpacked/SUNDUK1O.GP\"\n",
    "header = GpGlobalHeader.parse(read_binary(gp_file))\n",
    "dir_name = gp_file.split(\"/\")[-1].split(\".\")[0]\n",
    "header.unpack_to_dir(f'unpacked_gp/{dir_name}', palette)"
   ],
   "id": "3c1a04b58ff661c9"
  },
  {
   "metadata": {},
   "cell_type": "code",
   "outputs": [],
   "execution_count": null,
   "source": "",
   "id": "e4e5dd3f6a540a01"
  }
 ],
 "metadata": {
  "kernelspec": {
   "display_name": "Python 3",
   "language": "python",
   "name": "python3"
  },
  "language_info": {
   "codemirror_mode": {
    "name": "ipython",
    "version": 2
   },
   "file_extension": ".py",
   "mimetype": "text/x-python",
   "name": "python",
   "nbconvert_exporter": "python",
   "pygments_lexer": "ipython2",
   "version": "2.7.6"
  }
 },
 "nbformat": 4,
 "nbformat_minor": 5
}
